{
  "cells": [
    {
      "cell_type": "markdown",
      "metadata": {
        "id": "view-in-github",
        "colab_type": "text"
      },
      "source": [
        "<a href=\"https://colab.research.google.com/github/andrebjardim/market_analysis_salary_trends/blob/main/market_analysis_salary_trends.ipynb\" target=\"_parent\"><img src=\"https://colab.research.google.com/assets/colab-badge.svg\" alt=\"Open In Colab\"/></a>"
      ]
    },
    {
      "cell_type": "markdown",
      "id": "cca3929f",
      "metadata": {
        "id": "cca3929f"
      },
      "source": [
        "# Market Analysis of In-Office Salary Trends in AI, Data, and Machine Learning (US, CA, GB)  \n",
        "> *By André Jardim, Data Analyst*\n",
        "\n",
        "\n",
        "\n"
      ]
    },
    {
      "cell_type": "markdown",
      "source": [
        "## Executive Summary\n",
        "This analysis provides a robust, business-driven review of salary trends for in-office, full-time roles in AI, Data, and Machine Learning, focusing on the US, Canada, and GB. Through rigorous data cleaning, aggregation, and benchmarking, we deliver actionable insights for HR, analytics leadership, and jobseekers. Outliers and duplicates are addressed to ensure reliability. Visualizations and code are included for transparency and reproducibility.\n",
        "\n",
        "> **Country Codes Used:**  \n",
        "> `US` = United States,  \n",
        "> `CA` = Canada,  \n",
        "> `GB` = Great Britain (used throughout; corresponds to United Kingdom in business context)."
      ],
      "metadata": {
        "id": "4bN13qxZvXPW"
      },
      "id": "4bN13qxZvXPW"
    },
    {
      "cell_type": "markdown",
      "source": [
        "## Data Import & Initial Profiling"
      ],
      "metadata": {
        "id": "vQVbOGL5gf4Y"
      },
      "id": "vQVbOGL5gf4Y"
    },
    {
      "cell_type": "code",
      "execution_count": 1,
      "id": "c23c722c",
      "metadata": {
        "colab": {
          "base_uri": "https://localhost:8080/",
          "height": 224
        },
        "id": "c23c722c",
        "outputId": "0fcc9538-c7de-44d4-9fad-cfb14c870d6a"
      },
      "outputs": [
        {
          "output_type": "stream",
          "name": "stdout",
          "text": [
            "Initial shape: (59325, 11)\n"
          ]
        },
        {
          "output_type": "execute_result",
          "data": {
            "text/plain": [
              "   work_year experience_level employment_type            job_title  salary  \\\n",
              "0       2024               SE              FT    Software Engineer  250200   \n",
              "1       2024               SE              FT    Software Engineer  117200   \n",
              "2       2024               SE              FT  Solutions Architect  230000   \n",
              "3       2024               SE              FT  Solutions Architect  148000   \n",
              "4       2024               MI              PT         Data Manager   55000   \n",
              "\n",
              "  salary_currency  salary_in_usd employee_residence  remote_ratio  \\\n",
              "0             USD         250200                 US             0   \n",
              "1             USD         117200                 US             0   \n",
              "2             USD         230000                 US             0   \n",
              "3             USD         148000                 US             0   \n",
              "4             EUR          61111                 AT             0   \n",
              "\n",
              "  company_location company_size  \n",
              "0               US            M  \n",
              "1               US            M  \n",
              "2               US            M  \n",
              "3               US            M  \n",
              "4               AT            M  "
            ],
            "text/html": [
              "\n",
              "  <div id=\"df-ae3961e0-878c-4e76-a2dc-8bd0e830a6bb\" class=\"colab-df-container\">\n",
              "    <div>\n",
              "<style scoped>\n",
              "    .dataframe tbody tr th:only-of-type {\n",
              "        vertical-align: middle;\n",
              "    }\n",
              "\n",
              "    .dataframe tbody tr th {\n",
              "        vertical-align: top;\n",
              "    }\n",
              "\n",
              "    .dataframe thead th {\n",
              "        text-align: right;\n",
              "    }\n",
              "</style>\n",
              "<table border=\"1\" class=\"dataframe\">\n",
              "  <thead>\n",
              "    <tr style=\"text-align: right;\">\n",
              "      <th></th>\n",
              "      <th>work_year</th>\n",
              "      <th>experience_level</th>\n",
              "      <th>employment_type</th>\n",
              "      <th>job_title</th>\n",
              "      <th>salary</th>\n",
              "      <th>salary_currency</th>\n",
              "      <th>salary_in_usd</th>\n",
              "      <th>employee_residence</th>\n",
              "      <th>remote_ratio</th>\n",
              "      <th>company_location</th>\n",
              "      <th>company_size</th>\n",
              "    </tr>\n",
              "  </thead>\n",
              "  <tbody>\n",
              "    <tr>\n",
              "      <th>0</th>\n",
              "      <td>2024</td>\n",
              "      <td>SE</td>\n",
              "      <td>FT</td>\n",
              "      <td>Software Engineer</td>\n",
              "      <td>250200</td>\n",
              "      <td>USD</td>\n",
              "      <td>250200</td>\n",
              "      <td>US</td>\n",
              "      <td>0</td>\n",
              "      <td>US</td>\n",
              "      <td>M</td>\n",
              "    </tr>\n",
              "    <tr>\n",
              "      <th>1</th>\n",
              "      <td>2024</td>\n",
              "      <td>SE</td>\n",
              "      <td>FT</td>\n",
              "      <td>Software Engineer</td>\n",
              "      <td>117200</td>\n",
              "      <td>USD</td>\n",
              "      <td>117200</td>\n",
              "      <td>US</td>\n",
              "      <td>0</td>\n",
              "      <td>US</td>\n",
              "      <td>M</td>\n",
              "    </tr>\n",
              "    <tr>\n",
              "      <th>2</th>\n",
              "      <td>2024</td>\n",
              "      <td>SE</td>\n",
              "      <td>FT</td>\n",
              "      <td>Solutions Architect</td>\n",
              "      <td>230000</td>\n",
              "      <td>USD</td>\n",
              "      <td>230000</td>\n",
              "      <td>US</td>\n",
              "      <td>0</td>\n",
              "      <td>US</td>\n",
              "      <td>M</td>\n",
              "    </tr>\n",
              "    <tr>\n",
              "      <th>3</th>\n",
              "      <td>2024</td>\n",
              "      <td>SE</td>\n",
              "      <td>FT</td>\n",
              "      <td>Solutions Architect</td>\n",
              "      <td>148000</td>\n",
              "      <td>USD</td>\n",
              "      <td>148000</td>\n",
              "      <td>US</td>\n",
              "      <td>0</td>\n",
              "      <td>US</td>\n",
              "      <td>M</td>\n",
              "    </tr>\n",
              "    <tr>\n",
              "      <th>4</th>\n",
              "      <td>2024</td>\n",
              "      <td>MI</td>\n",
              "      <td>PT</td>\n",
              "      <td>Data Manager</td>\n",
              "      <td>55000</td>\n",
              "      <td>EUR</td>\n",
              "      <td>61111</td>\n",
              "      <td>AT</td>\n",
              "      <td>0</td>\n",
              "      <td>AT</td>\n",
              "      <td>M</td>\n",
              "    </tr>\n",
              "  </tbody>\n",
              "</table>\n",
              "</div>\n",
              "    <div class=\"colab-df-buttons\">\n",
              "\n",
              "  <div class=\"colab-df-container\">\n",
              "    <button class=\"colab-df-convert\" onclick=\"convertToInteractive('df-ae3961e0-878c-4e76-a2dc-8bd0e830a6bb')\"\n",
              "            title=\"Convert this dataframe to an interactive table.\"\n",
              "            style=\"display:none;\">\n",
              "\n",
              "  <svg xmlns=\"http://www.w3.org/2000/svg\" height=\"24px\" viewBox=\"0 -960 960 960\">\n",
              "    <path d=\"M120-120v-720h720v720H120Zm60-500h600v-160H180v160Zm220 220h160v-160H400v160Zm0 220h160v-160H400v160ZM180-400h160v-160H180v160Zm440 0h160v-160H620v160ZM180-180h160v-160H180v160Zm440 0h160v-160H620v160Z\"/>\n",
              "  </svg>\n",
              "    </button>\n",
              "\n",
              "  <style>\n",
              "    .colab-df-container {\n",
              "      display:flex;\n",
              "      gap: 12px;\n",
              "    }\n",
              "\n",
              "    .colab-df-convert {\n",
              "      background-color: #E8F0FE;\n",
              "      border: none;\n",
              "      border-radius: 50%;\n",
              "      cursor: pointer;\n",
              "      display: none;\n",
              "      fill: #1967D2;\n",
              "      height: 32px;\n",
              "      padding: 0 0 0 0;\n",
              "      width: 32px;\n",
              "    }\n",
              "\n",
              "    .colab-df-convert:hover {\n",
              "      background-color: #E2EBFA;\n",
              "      box-shadow: 0px 1px 2px rgba(60, 64, 67, 0.3), 0px 1px 3px 1px rgba(60, 64, 67, 0.15);\n",
              "      fill: #174EA6;\n",
              "    }\n",
              "\n",
              "    .colab-df-buttons div {\n",
              "      margin-bottom: 4px;\n",
              "    }\n",
              "\n",
              "    [theme=dark] .colab-df-convert {\n",
              "      background-color: #3B4455;\n",
              "      fill: #D2E3FC;\n",
              "    }\n",
              "\n",
              "    [theme=dark] .colab-df-convert:hover {\n",
              "      background-color: #434B5C;\n",
              "      box-shadow: 0px 1px 3px 1px rgba(0, 0, 0, 0.15);\n",
              "      filter: drop-shadow(0px 1px 2px rgba(0, 0, 0, 0.3));\n",
              "      fill: #FFFFFF;\n",
              "    }\n",
              "  </style>\n",
              "\n",
              "    <script>\n",
              "      const buttonEl =\n",
              "        document.querySelector('#df-ae3961e0-878c-4e76-a2dc-8bd0e830a6bb button.colab-df-convert');\n",
              "      buttonEl.style.display =\n",
              "        google.colab.kernel.accessAllowed ? 'block' : 'none';\n",
              "\n",
              "      async function convertToInteractive(key) {\n",
              "        const element = document.querySelector('#df-ae3961e0-878c-4e76-a2dc-8bd0e830a6bb');\n",
              "        const dataTable =\n",
              "          await google.colab.kernel.invokeFunction('convertToInteractive',\n",
              "                                                    [key], {});\n",
              "        if (!dataTable) return;\n",
              "\n",
              "        const docLinkHtml = 'Like what you see? Visit the ' +\n",
              "          '<a target=\"_blank\" href=https://colab.research.google.com/notebooks/data_table.ipynb>data table notebook</a>'\n",
              "          + ' to learn more about interactive tables.';\n",
              "        element.innerHTML = '';\n",
              "        dataTable['output_type'] = 'display_data';\n",
              "        await google.colab.output.renderOutput(dataTable, element);\n",
              "        const docLink = document.createElement('div');\n",
              "        docLink.innerHTML = docLinkHtml;\n",
              "        element.appendChild(docLink);\n",
              "      }\n",
              "    </script>\n",
              "  </div>\n",
              "\n",
              "\n",
              "    <div id=\"df-baae3f75-a98f-49a1-9fb1-df8b93380170\">\n",
              "      <button class=\"colab-df-quickchart\" onclick=\"quickchart('df-baae3f75-a98f-49a1-9fb1-df8b93380170')\"\n",
              "                title=\"Suggest charts\"\n",
              "                style=\"display:none;\">\n",
              "\n",
              "<svg xmlns=\"http://www.w3.org/2000/svg\" height=\"24px\"viewBox=\"0 0 24 24\"\n",
              "     width=\"24px\">\n",
              "    <g>\n",
              "        <path d=\"M19 3H5c-1.1 0-2 .9-2 2v14c0 1.1.9 2 2 2h14c1.1 0 2-.9 2-2V5c0-1.1-.9-2-2-2zM9 17H7v-7h2v7zm4 0h-2V7h2v10zm4 0h-2v-4h2v4z\"/>\n",
              "    </g>\n",
              "</svg>\n",
              "      </button>\n",
              "\n",
              "<style>\n",
              "  .colab-df-quickchart {\n",
              "      --bg-color: #E8F0FE;\n",
              "      --fill-color: #1967D2;\n",
              "      --hover-bg-color: #E2EBFA;\n",
              "      --hover-fill-color: #174EA6;\n",
              "      --disabled-fill-color: #AAA;\n",
              "      --disabled-bg-color: #DDD;\n",
              "  }\n",
              "\n",
              "  [theme=dark] .colab-df-quickchart {\n",
              "      --bg-color: #3B4455;\n",
              "      --fill-color: #D2E3FC;\n",
              "      --hover-bg-color: #434B5C;\n",
              "      --hover-fill-color: #FFFFFF;\n",
              "      --disabled-bg-color: #3B4455;\n",
              "      --disabled-fill-color: #666;\n",
              "  }\n",
              "\n",
              "  .colab-df-quickchart {\n",
              "    background-color: var(--bg-color);\n",
              "    border: none;\n",
              "    border-radius: 50%;\n",
              "    cursor: pointer;\n",
              "    display: none;\n",
              "    fill: var(--fill-color);\n",
              "    height: 32px;\n",
              "    padding: 0;\n",
              "    width: 32px;\n",
              "  }\n",
              "\n",
              "  .colab-df-quickchart:hover {\n",
              "    background-color: var(--hover-bg-color);\n",
              "    box-shadow: 0 1px 2px rgba(60, 64, 67, 0.3), 0 1px 3px 1px rgba(60, 64, 67, 0.15);\n",
              "    fill: var(--button-hover-fill-color);\n",
              "  }\n",
              "\n",
              "  .colab-df-quickchart-complete:disabled,\n",
              "  .colab-df-quickchart-complete:disabled:hover {\n",
              "    background-color: var(--disabled-bg-color);\n",
              "    fill: var(--disabled-fill-color);\n",
              "    box-shadow: none;\n",
              "  }\n",
              "\n",
              "  .colab-df-spinner {\n",
              "    border: 2px solid var(--fill-color);\n",
              "    border-color: transparent;\n",
              "    border-bottom-color: var(--fill-color);\n",
              "    animation:\n",
              "      spin 1s steps(1) infinite;\n",
              "  }\n",
              "\n",
              "  @keyframes spin {\n",
              "    0% {\n",
              "      border-color: transparent;\n",
              "      border-bottom-color: var(--fill-color);\n",
              "      border-left-color: var(--fill-color);\n",
              "    }\n",
              "    20% {\n",
              "      border-color: transparent;\n",
              "      border-left-color: var(--fill-color);\n",
              "      border-top-color: var(--fill-color);\n",
              "    }\n",
              "    30% {\n",
              "      border-color: transparent;\n",
              "      border-left-color: var(--fill-color);\n",
              "      border-top-color: var(--fill-color);\n",
              "      border-right-color: var(--fill-color);\n",
              "    }\n",
              "    40% {\n",
              "      border-color: transparent;\n",
              "      border-right-color: var(--fill-color);\n",
              "      border-top-color: var(--fill-color);\n",
              "    }\n",
              "    60% {\n",
              "      border-color: transparent;\n",
              "      border-right-color: var(--fill-color);\n",
              "    }\n",
              "    80% {\n",
              "      border-color: transparent;\n",
              "      border-right-color: var(--fill-color);\n",
              "      border-bottom-color: var(--fill-color);\n",
              "    }\n",
              "    90% {\n",
              "      border-color: transparent;\n",
              "      border-bottom-color: var(--fill-color);\n",
              "    }\n",
              "  }\n",
              "</style>\n",
              "\n",
              "      <script>\n",
              "        async function quickchart(key) {\n",
              "          const quickchartButtonEl =\n",
              "            document.querySelector('#' + key + ' button');\n",
              "          quickchartButtonEl.disabled = true;  // To prevent multiple clicks.\n",
              "          quickchartButtonEl.classList.add('colab-df-spinner');\n",
              "          try {\n",
              "            const charts = await google.colab.kernel.invokeFunction(\n",
              "                'suggestCharts', [key], {});\n",
              "          } catch (error) {\n",
              "            console.error('Error during call to suggestCharts:', error);\n",
              "          }\n",
              "          quickchartButtonEl.classList.remove('colab-df-spinner');\n",
              "          quickchartButtonEl.classList.add('colab-df-quickchart-complete');\n",
              "        }\n",
              "        (() => {\n",
              "          let quickchartButtonEl =\n",
              "            document.querySelector('#df-baae3f75-a98f-49a1-9fb1-df8b93380170 button');\n",
              "          quickchartButtonEl.style.display =\n",
              "            google.colab.kernel.accessAllowed ? 'block' : 'none';\n",
              "        })();\n",
              "      </script>\n",
              "    </div>\n",
              "\n",
              "    </div>\n",
              "  </div>\n"
            ],
            "application/vnd.google.colaboratory.intrinsic+json": {
              "type": "dataframe",
              "variable_name": "df",
              "summary": "{\n  \"name\": \"df\",\n  \"rows\": 59325,\n  \"fields\": [\n    {\n      \"column\": \"work_year\",\n      \"properties\": {\n        \"dtype\": \"number\",\n        \"std\": 0,\n        \"min\": 2020,\n        \"max\": 2024,\n        \"num_unique_values\": 5,\n        \"samples\": [\n          2022,\n          2021,\n          2023\n        ],\n        \"semantic_type\": \"\",\n        \"description\": \"\"\n      }\n    },\n    {\n      \"column\": \"experience_level\",\n      \"properties\": {\n        \"dtype\": \"category\",\n        \"num_unique_values\": 4,\n        \"samples\": [\n          \"MI\",\n          \"EX\",\n          \"SE\"\n        ],\n        \"semantic_type\": \"\",\n        \"description\": \"\"\n      }\n    },\n    {\n      \"column\": \"employment_type\",\n      \"properties\": {\n        \"dtype\": \"category\",\n        \"num_unique_values\": 4,\n        \"samples\": [\n          \"PT\",\n          \"FL\",\n          \"FT\"\n        ],\n        \"semantic_type\": \"\",\n        \"description\": \"\"\n      }\n    },\n    {\n      \"column\": \"job_title\",\n      \"properties\": {\n        \"dtype\": \"category\",\n        \"num_unique_values\": 258,\n        \"samples\": [\n          \"AI Scientist\",\n          \"AI Developer\",\n          \"Manager\"\n        ],\n        \"semantic_type\": \"\",\n        \"description\": \"\"\n      }\n    },\n    {\n      \"column\": \"salary\",\n      \"properties\": {\n        \"dtype\": \"number\",\n        \"std\": 202737,\n        \"min\": 14000,\n        \"max\": 30400000,\n        \"num_unique_values\": 6118,\n        \"samples\": [\n          85420,\n          235745,\n          123046\n        ],\n        \"semantic_type\": \"\",\n        \"description\": \"\"\n      }\n    },\n    {\n      \"column\": \"salary_currency\",\n      \"properties\": {\n        \"dtype\": \"category\",\n        \"num_unique_values\": 25,\n        \"samples\": [\n          \"PHP\",\n          \"ZAR\",\n          \"USD\"\n        ],\n        \"semantic_type\": \"\",\n        \"description\": \"\"\n      }\n    },\n    {\n      \"column\": \"salary_in_usd\",\n      \"properties\": {\n        \"dtype\": \"number\",\n        \"std\": 72051,\n        \"min\": 15000,\n        \"max\": 800000,\n        \"num_unique_values\": 6660,\n        \"samples\": [\n          273400,\n          161538,\n          114700\n        ],\n        \"semantic_type\": \"\",\n        \"description\": \"\"\n      }\n    },\n    {\n      \"column\": \"employee_residence\",\n      \"properties\": {\n        \"dtype\": \"category\",\n        \"num_unique_values\": 91,\n        \"samples\": [\n          \"LU\",\n          \"FI\",\n          \"AE\"\n        ],\n        \"semantic_type\": \"\",\n        \"description\": \"\"\n      }\n    },\n    {\n      \"column\": \"remote_ratio\",\n      \"properties\": {\n        \"dtype\": \"number\",\n        \"std\": 41,\n        \"min\": 0,\n        \"max\": 100,\n        \"num_unique_values\": 3,\n        \"samples\": [\n          0,\n          100,\n          50\n        ],\n        \"semantic_type\": \"\",\n        \"description\": \"\"\n      }\n    },\n    {\n      \"column\": \"company_location\",\n      \"properties\": {\n        \"dtype\": \"category\",\n        \"num_unique_values\": 82,\n        \"samples\": [\n          \"IN\",\n          \"US\",\n          \"FI\"\n        ],\n        \"semantic_type\": \"\",\n        \"description\": \"\"\n      }\n    },\n    {\n      \"column\": \"company_size\",\n      \"properties\": {\n        \"dtype\": \"category\",\n        \"num_unique_values\": 3,\n        \"samples\": [\n          \"M\",\n          \"L\",\n          \"S\"\n        ],\n        \"semantic_type\": \"\",\n        \"description\": \"\"\n      }\n    }\n  ]\n}"
            }
          },
          "metadata": {},
          "execution_count": 1
        }
      ],
      "source": [
        "import pandas as pd\n",
        "import numpy as np\n",
        "import matplotlib.pyplot as plt\n",
        "import seaborn as sns\n",
        "\n",
        "# Load data\n",
        "file = 'https://raw.githubusercontent.com/andrebjardim/market_analysis_salary_trends/refs/heads/main/Data/salaries.csv'\n",
        "df = pd.read_csv(file)\n",
        "print(f\"Initial shape: {df.shape}\")\n",
        "df.head()"
      ]
    },
    {
      "cell_type": "markdown",
      "source": [
        "> **Dataset:** 59,325 rows, 2020–2024. Columns: year, experience, type, job title, salary (USD), locations, remote ratio, company size."
      ],
      "metadata": {
        "id": "Z48k8VG9hFgn"
      },
      "id": "Z48k8VG9hFgn"
    },
    {
      "cell_type": "markdown",
      "source": [
        "## Data Quality Check"
      ],
      "metadata": {
        "id": "wLHtVumkPIT2"
      },
      "id": "wLHtVumkPIT2"
    },
    {
      "cell_type": "code",
      "source": [
        "print(df.info())\n",
        "print(df.isnull().sum())\n",
        "df['salary_in_usd'] = pd.to_numeric(df['salary_in_usd'], errors='coerce')\n",
        "df = df.dropna(subset=['salary_in_usd'])"
      ],
      "metadata": {
        "colab": {
          "base_uri": "https://localhost:8080/"
        },
        "id": "ovKKkoumLw3a",
        "outputId": "b55c1326-fb7a-458e-a48e-c20847724381"
      },
      "id": "ovKKkoumLw3a",
      "execution_count": 2,
      "outputs": [
        {
          "output_type": "stream",
          "name": "stdout",
          "text": [
            "<class 'pandas.core.frame.DataFrame'>\n",
            "RangeIndex: 59325 entries, 0 to 59324\n",
            "Data columns (total 11 columns):\n",
            " #   Column              Non-Null Count  Dtype \n",
            "---  ------              --------------  ----- \n",
            " 0   work_year           59325 non-null  int64 \n",
            " 1   experience_level    59325 non-null  object\n",
            " 2   employment_type     59325 non-null  object\n",
            " 3   job_title           59325 non-null  object\n",
            " 4   salary              59325 non-null  int64 \n",
            " 5   salary_currency     59325 non-null  object\n",
            " 6   salary_in_usd       59325 non-null  int64 \n",
            " 7   employee_residence  59325 non-null  object\n",
            " 8   remote_ratio        59325 non-null  int64 \n",
            " 9   company_location    59325 non-null  object\n",
            " 10  company_size        59325 non-null  object\n",
            "dtypes: int64(4), object(7)\n",
            "memory usage: 5.0+ MB\n",
            "None\n",
            "work_year             0\n",
            "experience_level      0\n",
            "employment_type       0\n",
            "job_title             0\n",
            "salary                0\n",
            "salary_currency       0\n",
            "salary_in_usd         0\n",
            "employee_residence    0\n",
            "remote_ratio          0\n",
            "company_location      0\n",
            "company_size          0\n",
            "dtype: int64\n"
          ]
        }
      ]
    },
    {
      "cell_type": "markdown",
      "source": [
        "### Data Quality Check\n",
        "\n",
        "The dataset contains **59,325 records** across 11 columns.  \n",
        "No missing values were detected (`isnull().sum()` returned 0 for all columns).\n",
        "\n",
        "**Column types:**\n",
        "- **Numeric:** `work_year`, `salary`, `salary_in_usd`, `remote_ratio`\n",
        "- **Categorical:** `experience_level`, `employment_type`, `job_title`, `salary_currency`, `employee_residence`, `company_location`, `company_size`\n",
        "\n",
        "> **Action:**  \n",
        "> No imputation or null handling is required.  \n",
        "> Numeric fields are already in correct types (`int64`).  \n",
        "> This confirms the dataset is clean and ready for filtering and aggregation."
      ],
      "metadata": {
        "id": "ycrftl91OFZW"
      },
      "id": "ycrftl91OFZW"
    },
    {
      "cell_type": "markdown",
      "source": [
        "## Outlier Filtering (IQR Method)"
      ],
      "metadata": {
        "id": "Ik13AcvZPN4k"
      },
      "id": "Ik13AcvZPN4k"
    },
    {
      "cell_type": "code",
      "source": [
        "# Outlier filtering using IQR\n",
        "q1, q3 = df['salary_in_usd'].quantile([0.25, 0.75])\n",
        "iqr = q3 - q1\n",
        "lower_bound = q1 - 1.5 * iqr\n",
        "upper_bound = q3 + 1.5 * iqr\n",
        "\n",
        "print(f\"Outlier bounds: {lower_bound:.0f} - {upper_bound:.0f} USD\")\n",
        "\n",
        "# Filter out outliers\n",
        "df = df[df['salary_in_usd'].between(lower_bound, upper_bound)]\n",
        "\n",
        "print(f\"Records after outlier removal: {df.shape[0]}\")"
      ],
      "metadata": {
        "colab": {
          "base_uri": "https://localhost:8080/"
        },
        "id": "nHc1bUaaOf7t",
        "outputId": "272b69e8-7e98-4021-eaf8-e376a3bb46e2"
      },
      "id": "nHc1bUaaOf7t",
      "execution_count": 3,
      "outputs": [
        {
          "output_type": "stream",
          "name": "stdout",
          "text": [
            "Outlier bounds: -27250 - 336350 USD\n",
            "Records after outlier removal: 58066\n"
          ]
        }
      ]
    },
    {
      "cell_type": "markdown",
      "source": [
        "### Outlier Handling\n",
        "\n",
        "To improve the robustness of aggregated salary insights, outliers in `salary_in_usd` were filtered using the Interquartile Range (IQR) method.  \n",
        "- **Lower bound:** Q1 − 1.5 × IQR  \n",
        "- **Upper bound:** Q3 + 1.5 × IQR  \n",
        "\n",
        "> **Result:**  \n",
        "> This removed extreme values (outside −27,250 to 336,350 USD), reducing the dataset from 59,325 to 58,066 records.  \n",
        "> This ensures that salary distributions and medians are not distorted by unrealistic entries."
      ],
      "metadata": {
        "id": "oWqtEVdJPZPR"
      },
      "id": "oWqtEVdJPZPR"
    },
    {
      "cell_type": "markdown",
      "id": "08cebad1",
      "metadata": {
        "id": "08cebad1"
      },
      "source": [
        "## Strategic Data Filtering\n",
        "\n",
        "- Focus: Only US, CA, GB (due to low counts elsewhere)\n",
        "- Only full-time (`employment_type == 'FT'`), in-office (`remote_ratio == 0`) roles"
      ]
    },
    {
      "cell_type": "code",
      "execution_count": 4,
      "id": "10384a52",
      "metadata": {
        "colab": {
          "base_uri": "https://localhost:8080/"
        },
        "id": "10384a52",
        "outputId": "57b583a3-bb89-4bb3-ffa8-22cb4e7c1b70"
      },
      "outputs": [
        {
          "output_type": "stream",
          "name": "stdout",
          "text": [
            "After filter: (43566, 11)\n"
          ]
        }
      ],
      "source": [
        "top_countries = ['US', 'CA', 'GB']\n",
        "df = df[\n",
        "    (df['company_location'].isin(top_countries)) &\n",
        "    (df['employment_type'] == 'FT') &\n",
        "    (df['remote_ratio'] == 0)\n",
        "].copy()\n",
        "print(f\"After filter: {df.shape}\")"
      ]
    },
    {
      "cell_type": "markdown",
      "source": [
        "### Filtering In-Scope Roles\n",
        "\n",
        "The analysis focuses on **in‑office, full‑time roles** in **United States (US), Canada (CA), and Great Britain (GB)**.  \n",
        "This removes remote roles, part‑time positions, and countries with insufficient data, ensuring a focused and comparable market view.\n",
        "\n",
        "> **Result:**  \n",
        "> - Starting records: 59,325  \n",
        "> - After outlier removal: 58,066  \n",
        "> - After country/type filtering: 43,566"
      ],
      "metadata": {
        "id": "nc5sDbvShk9t"
      },
      "id": "nc5sDbvShk9t"
    },
    {
      "cell_type": "markdown",
      "id": "ffbd5e59",
      "metadata": {
        "id": "ffbd5e59"
      },
      "source": [
        "## Profiling the Filtered Market\n",
        "\n",
        "### Year, Experience, Company Size, and Job Titles"
      ]
    },
    {
      "cell_type": "code",
      "execution_count": 5,
      "id": "7c7c3674",
      "metadata": {
        "colab": {
          "base_uri": "https://localhost:8080/"
        },
        "id": "7c7c3674",
        "outputId": "67aeeb91-8f85-43cf-832f-c3b12043956e"
      },
      "outputs": [
        {
          "output_type": "stream",
          "name": "stdout",
          "text": [
            "Year counts: {2024: 37319, 2023: 5576, 2022: 651, 2021: 17, 2020: 3}\n",
            "Experience: {'SE': 24875, 'MI': 13673, 'EN': 4147, 'EX': 871}\n",
            "Company size: {'M': 42062, 'L': 1482, 'S': 22}\n",
            "Unique job titles: 200\n",
            "Top 10 job titles: {'Data Scientist': 7095, 'Data Engineer': 5759, 'Software Engineer': 4949, 'Data Analyst': 4240, 'Machine Learning Engineer': 3836, 'Engineer': 2226, 'Research Scientist': 1680, 'Manager': 1347, 'Applied Scientist': 1000, 'Data Architect': 764}\n"
          ]
        }
      ],
      "source": [
        "print('Year counts:', df['work_year'].value_counts().to_dict())\n",
        "print('Experience:', df['experience_level'].value_counts().to_dict())\n",
        "print('Company size:', df['company_size'].value_counts().to_dict())\n",
        "print('Unique job titles:', df['job_title'].nunique())\n",
        "print('Top 10 job titles:', df['job_title'].value_counts().head(10).to_dict())"
      ]
    },
    {
      "cell_type": "markdown",
      "source": [
        "### Dataset Profile\n",
        "\n",
        "> **Year distribution:** Mostly from 2024 (**37,319** rows) and 2023 (**5,576**).  \n",
        "> **Experience levels:** 57 % Senior (SE), 31 % Mid (MI), 9 % Entry (EN), 2 % Executive (EX).  \n",
        "> **Company sizes:** 97 % Medium (M), 3 % Large (L), <1 % Small (S).  \n",
        "> **Job titles:** 200 unique titles. Top roles include **Data Scientist, Data Engineer, Software Engineer, Data Analyst, and ML Engineer.**"
      ],
      "metadata": {
        "id": "Fq0Cbz5vilfn"
      },
      "id": "Fq0Cbz5vilfn"
    },
    {
      "cell_type": "markdown",
      "id": "431ccf8c",
      "metadata": {
        "id": "431ccf8c"
      },
      "source": [
        "## Duplicate Management & Aggregation"
      ]
    },
    {
      "cell_type": "code",
      "execution_count": 6,
      "id": "bf2e2289",
      "metadata": {
        "colab": {
          "base_uri": "https://localhost:8080/",
          "height": 224
        },
        "id": "bf2e2289",
        "outputId": "4c281699-0068-4d71-b95e-55b70de78414"
      },
      "outputs": [
        {
          "output_type": "stream",
          "name": "stdout",
          "text": [
            "Aggregated: (960, 10) market groups.\n"
          ]
        },
        {
          "output_type": "execute_result",
          "data": {
            "text/plain": [
              "   work_year experience_level               job_title company_location  \\\n",
              "0       2020               EX      Staff Data Analyst               CA   \n",
              "1       2020               MI         BI Data Analyst               US   \n",
              "2       2020               MI   Business Data Analyst               US   \n",
              "3       2021               EN  Applied Data Scientist               GB   \n",
              "4       2021               EN          Data Scientist               US   \n",
              "\n",
              "  company_size  count      mean    median     min     max  \n",
              "0            M      1   15000.0   15000.0   15000   15000  \n",
              "1            M      1   98000.0   98000.0   98000   98000  \n",
              "2            M      1   95000.0   95000.0   95000   95000  \n",
              "3            L      1  110037.0  110037.0  110037  110037  \n",
              "4            S      1  100000.0  100000.0  100000  100000  "
            ],
            "text/html": [
              "\n",
              "  <div id=\"df-29650b3f-ac25-4796-b836-6ea8a46ee76c\" class=\"colab-df-container\">\n",
              "    <div>\n",
              "<style scoped>\n",
              "    .dataframe tbody tr th:only-of-type {\n",
              "        vertical-align: middle;\n",
              "    }\n",
              "\n",
              "    .dataframe tbody tr th {\n",
              "        vertical-align: top;\n",
              "    }\n",
              "\n",
              "    .dataframe thead th {\n",
              "        text-align: right;\n",
              "    }\n",
              "</style>\n",
              "<table border=\"1\" class=\"dataframe\">\n",
              "  <thead>\n",
              "    <tr style=\"text-align: right;\">\n",
              "      <th></th>\n",
              "      <th>work_year</th>\n",
              "      <th>experience_level</th>\n",
              "      <th>job_title</th>\n",
              "      <th>company_location</th>\n",
              "      <th>company_size</th>\n",
              "      <th>count</th>\n",
              "      <th>mean</th>\n",
              "      <th>median</th>\n",
              "      <th>min</th>\n",
              "      <th>max</th>\n",
              "    </tr>\n",
              "  </thead>\n",
              "  <tbody>\n",
              "    <tr>\n",
              "      <th>0</th>\n",
              "      <td>2020</td>\n",
              "      <td>EX</td>\n",
              "      <td>Staff Data Analyst</td>\n",
              "      <td>CA</td>\n",
              "      <td>M</td>\n",
              "      <td>1</td>\n",
              "      <td>15000.0</td>\n",
              "      <td>15000.0</td>\n",
              "      <td>15000</td>\n",
              "      <td>15000</td>\n",
              "    </tr>\n",
              "    <tr>\n",
              "      <th>1</th>\n",
              "      <td>2020</td>\n",
              "      <td>MI</td>\n",
              "      <td>BI Data Analyst</td>\n",
              "      <td>US</td>\n",
              "      <td>M</td>\n",
              "      <td>1</td>\n",
              "      <td>98000.0</td>\n",
              "      <td>98000.0</td>\n",
              "      <td>98000</td>\n",
              "      <td>98000</td>\n",
              "    </tr>\n",
              "    <tr>\n",
              "      <th>2</th>\n",
              "      <td>2020</td>\n",
              "      <td>MI</td>\n",
              "      <td>Business Data Analyst</td>\n",
              "      <td>US</td>\n",
              "      <td>M</td>\n",
              "      <td>1</td>\n",
              "      <td>95000.0</td>\n",
              "      <td>95000.0</td>\n",
              "      <td>95000</td>\n",
              "      <td>95000</td>\n",
              "    </tr>\n",
              "    <tr>\n",
              "      <th>3</th>\n",
              "      <td>2021</td>\n",
              "      <td>EN</td>\n",
              "      <td>Applied Data Scientist</td>\n",
              "      <td>GB</td>\n",
              "      <td>L</td>\n",
              "      <td>1</td>\n",
              "      <td>110037.0</td>\n",
              "      <td>110037.0</td>\n",
              "      <td>110037</td>\n",
              "      <td>110037</td>\n",
              "    </tr>\n",
              "    <tr>\n",
              "      <th>4</th>\n",
              "      <td>2021</td>\n",
              "      <td>EN</td>\n",
              "      <td>Data Scientist</td>\n",
              "      <td>US</td>\n",
              "      <td>S</td>\n",
              "      <td>1</td>\n",
              "      <td>100000.0</td>\n",
              "      <td>100000.0</td>\n",
              "      <td>100000</td>\n",
              "      <td>100000</td>\n",
              "    </tr>\n",
              "  </tbody>\n",
              "</table>\n",
              "</div>\n",
              "    <div class=\"colab-df-buttons\">\n",
              "\n",
              "  <div class=\"colab-df-container\">\n",
              "    <button class=\"colab-df-convert\" onclick=\"convertToInteractive('df-29650b3f-ac25-4796-b836-6ea8a46ee76c')\"\n",
              "            title=\"Convert this dataframe to an interactive table.\"\n",
              "            style=\"display:none;\">\n",
              "\n",
              "  <svg xmlns=\"http://www.w3.org/2000/svg\" height=\"24px\" viewBox=\"0 -960 960 960\">\n",
              "    <path d=\"M120-120v-720h720v720H120Zm60-500h600v-160H180v160Zm220 220h160v-160H400v160Zm0 220h160v-160H400v160ZM180-400h160v-160H180v160Zm440 0h160v-160H620v160ZM180-180h160v-160H180v160Zm440 0h160v-160H620v160Z\"/>\n",
              "  </svg>\n",
              "    </button>\n",
              "\n",
              "  <style>\n",
              "    .colab-df-container {\n",
              "      display:flex;\n",
              "      gap: 12px;\n",
              "    }\n",
              "\n",
              "    .colab-df-convert {\n",
              "      background-color: #E8F0FE;\n",
              "      border: none;\n",
              "      border-radius: 50%;\n",
              "      cursor: pointer;\n",
              "      display: none;\n",
              "      fill: #1967D2;\n",
              "      height: 32px;\n",
              "      padding: 0 0 0 0;\n",
              "      width: 32px;\n",
              "    }\n",
              "\n",
              "    .colab-df-convert:hover {\n",
              "      background-color: #E2EBFA;\n",
              "      box-shadow: 0px 1px 2px rgba(60, 64, 67, 0.3), 0px 1px 3px 1px rgba(60, 64, 67, 0.15);\n",
              "      fill: #174EA6;\n",
              "    }\n",
              "\n",
              "    .colab-df-buttons div {\n",
              "      margin-bottom: 4px;\n",
              "    }\n",
              "\n",
              "    [theme=dark] .colab-df-convert {\n",
              "      background-color: #3B4455;\n",
              "      fill: #D2E3FC;\n",
              "    }\n",
              "\n",
              "    [theme=dark] .colab-df-convert:hover {\n",
              "      background-color: #434B5C;\n",
              "      box-shadow: 0px 1px 3px 1px rgba(0, 0, 0, 0.15);\n",
              "      filter: drop-shadow(0px 1px 2px rgba(0, 0, 0, 0.3));\n",
              "      fill: #FFFFFF;\n",
              "    }\n",
              "  </style>\n",
              "\n",
              "    <script>\n",
              "      const buttonEl =\n",
              "        document.querySelector('#df-29650b3f-ac25-4796-b836-6ea8a46ee76c button.colab-df-convert');\n",
              "      buttonEl.style.display =\n",
              "        google.colab.kernel.accessAllowed ? 'block' : 'none';\n",
              "\n",
              "      async function convertToInteractive(key) {\n",
              "        const element = document.querySelector('#df-29650b3f-ac25-4796-b836-6ea8a46ee76c');\n",
              "        const dataTable =\n",
              "          await google.colab.kernel.invokeFunction('convertToInteractive',\n",
              "                                                    [key], {});\n",
              "        if (!dataTable) return;\n",
              "\n",
              "        const docLinkHtml = 'Like what you see? Visit the ' +\n",
              "          '<a target=\"_blank\" href=https://colab.research.google.com/notebooks/data_table.ipynb>data table notebook</a>'\n",
              "          + ' to learn more about interactive tables.';\n",
              "        element.innerHTML = '';\n",
              "        dataTable['output_type'] = 'display_data';\n",
              "        await google.colab.output.renderOutput(dataTable, element);\n",
              "        const docLink = document.createElement('div');\n",
              "        docLink.innerHTML = docLinkHtml;\n",
              "        element.appendChild(docLink);\n",
              "      }\n",
              "    </script>\n",
              "  </div>\n",
              "\n",
              "\n",
              "    <div id=\"df-9f427e52-7ad8-4fc5-808e-6c384bffc124\">\n",
              "      <button class=\"colab-df-quickchart\" onclick=\"quickchart('df-9f427e52-7ad8-4fc5-808e-6c384bffc124')\"\n",
              "                title=\"Suggest charts\"\n",
              "                style=\"display:none;\">\n",
              "\n",
              "<svg xmlns=\"http://www.w3.org/2000/svg\" height=\"24px\"viewBox=\"0 0 24 24\"\n",
              "     width=\"24px\">\n",
              "    <g>\n",
              "        <path d=\"M19 3H5c-1.1 0-2 .9-2 2v14c0 1.1.9 2 2 2h14c1.1 0 2-.9 2-2V5c0-1.1-.9-2-2-2zM9 17H7v-7h2v7zm4 0h-2V7h2v10zm4 0h-2v-4h2v4z\"/>\n",
              "    </g>\n",
              "</svg>\n",
              "      </button>\n",
              "\n",
              "<style>\n",
              "  .colab-df-quickchart {\n",
              "      --bg-color: #E8F0FE;\n",
              "      --fill-color: #1967D2;\n",
              "      --hover-bg-color: #E2EBFA;\n",
              "      --hover-fill-color: #174EA6;\n",
              "      --disabled-fill-color: #AAA;\n",
              "      --disabled-bg-color: #DDD;\n",
              "  }\n",
              "\n",
              "  [theme=dark] .colab-df-quickchart {\n",
              "      --bg-color: #3B4455;\n",
              "      --fill-color: #D2E3FC;\n",
              "      --hover-bg-color: #434B5C;\n",
              "      --hover-fill-color: #FFFFFF;\n",
              "      --disabled-bg-color: #3B4455;\n",
              "      --disabled-fill-color: #666;\n",
              "  }\n",
              "\n",
              "  .colab-df-quickchart {\n",
              "    background-color: var(--bg-color);\n",
              "    border: none;\n",
              "    border-radius: 50%;\n",
              "    cursor: pointer;\n",
              "    display: none;\n",
              "    fill: var(--fill-color);\n",
              "    height: 32px;\n",
              "    padding: 0;\n",
              "    width: 32px;\n",
              "  }\n",
              "\n",
              "  .colab-df-quickchart:hover {\n",
              "    background-color: var(--hover-bg-color);\n",
              "    box-shadow: 0 1px 2px rgba(60, 64, 67, 0.3), 0 1px 3px 1px rgba(60, 64, 67, 0.15);\n",
              "    fill: var(--button-hover-fill-color);\n",
              "  }\n",
              "\n",
              "  .colab-df-quickchart-complete:disabled,\n",
              "  .colab-df-quickchart-complete:disabled:hover {\n",
              "    background-color: var(--disabled-bg-color);\n",
              "    fill: var(--disabled-fill-color);\n",
              "    box-shadow: none;\n",
              "  }\n",
              "\n",
              "  .colab-df-spinner {\n",
              "    border: 2px solid var(--fill-color);\n",
              "    border-color: transparent;\n",
              "    border-bottom-color: var(--fill-color);\n",
              "    animation:\n",
              "      spin 1s steps(1) infinite;\n",
              "  }\n",
              "\n",
              "  @keyframes spin {\n",
              "    0% {\n",
              "      border-color: transparent;\n",
              "      border-bottom-color: var(--fill-color);\n",
              "      border-left-color: var(--fill-color);\n",
              "    }\n",
              "    20% {\n",
              "      border-color: transparent;\n",
              "      border-left-color: var(--fill-color);\n",
              "      border-top-color: var(--fill-color);\n",
              "    }\n",
              "    30% {\n",
              "      border-color: transparent;\n",
              "      border-left-color: var(--fill-color);\n",
              "      border-top-color: var(--fill-color);\n",
              "      border-right-color: var(--fill-color);\n",
              "    }\n",
              "    40% {\n",
              "      border-color: transparent;\n",
              "      border-right-color: var(--fill-color);\n",
              "      border-top-color: var(--fill-color);\n",
              "    }\n",
              "    60% {\n",
              "      border-color: transparent;\n",
              "      border-right-color: var(--fill-color);\n",
              "    }\n",
              "    80% {\n",
              "      border-color: transparent;\n",
              "      border-right-color: var(--fill-color);\n",
              "      border-bottom-color: var(--fill-color);\n",
              "    }\n",
              "    90% {\n",
              "      border-color: transparent;\n",
              "      border-bottom-color: var(--fill-color);\n",
              "    }\n",
              "  }\n",
              "</style>\n",
              "\n",
              "      <script>\n",
              "        async function quickchart(key) {\n",
              "          const quickchartButtonEl =\n",
              "            document.querySelector('#' + key + ' button');\n",
              "          quickchartButtonEl.disabled = true;  // To prevent multiple clicks.\n",
              "          quickchartButtonEl.classList.add('colab-df-spinner');\n",
              "          try {\n",
              "            const charts = await google.colab.kernel.invokeFunction(\n",
              "                'suggestCharts', [key], {});\n",
              "          } catch (error) {\n",
              "            console.error('Error during call to suggestCharts:', error);\n",
              "          }\n",
              "          quickchartButtonEl.classList.remove('colab-df-spinner');\n",
              "          quickchartButtonEl.classList.add('colab-df-quickchart-complete');\n",
              "        }\n",
              "        (() => {\n",
              "          let quickchartButtonEl =\n",
              "            document.querySelector('#df-9f427e52-7ad8-4fc5-808e-6c384bffc124 button');\n",
              "          quickchartButtonEl.style.display =\n",
              "            google.colab.kernel.accessAllowed ? 'block' : 'none';\n",
              "        })();\n",
              "      </script>\n",
              "    </div>\n",
              "\n",
              "    </div>\n",
              "  </div>\n"
            ],
            "application/vnd.google.colaboratory.intrinsic+json": {
              "type": "dataframe",
              "variable_name": "grouped",
              "summary": "{\n  \"name\": \"grouped\",\n  \"rows\": 960,\n  \"fields\": [\n    {\n      \"column\": \"work_year\",\n      \"properties\": {\n        \"dtype\": \"number\",\n        \"std\": 0,\n        \"min\": 2020,\n        \"max\": 2024,\n        \"num_unique_values\": 5,\n        \"samples\": [\n          2021,\n          2024,\n          2022\n        ],\n        \"semantic_type\": \"\",\n        \"description\": \"\"\n      }\n    },\n    {\n      \"column\": \"experience_level\",\n      \"properties\": {\n        \"dtype\": \"category\",\n        \"num_unique_values\": 4,\n        \"samples\": [\n          \"MI\",\n          \"SE\",\n          \"EX\"\n        ],\n        \"semantic_type\": \"\",\n        \"description\": \"\"\n      }\n    },\n    {\n      \"column\": \"job_title\",\n      \"properties\": {\n        \"dtype\": \"category\",\n        \"num_unique_values\": 200,\n        \"samples\": [\n          \"DevOps Engineer\",\n          \"Data Manager\",\n          \"Data Integration Specialist\"\n        ],\n        \"semantic_type\": \"\",\n        \"description\": \"\"\n      }\n    },\n    {\n      \"column\": \"company_location\",\n      \"properties\": {\n        \"dtype\": \"category\",\n        \"num_unique_values\": 3,\n        \"samples\": [\n          \"CA\",\n          \"US\",\n          \"GB\"\n        ],\n        \"semantic_type\": \"\",\n        \"description\": \"\"\n      }\n    },\n    {\n      \"column\": \"company_size\",\n      \"properties\": {\n        \"dtype\": \"category\",\n        \"num_unique_values\": 3,\n        \"samples\": [\n          \"M\",\n          \"L\",\n          \"S\"\n        ],\n        \"semantic_type\": \"\",\n        \"description\": \"\"\n      }\n    },\n    {\n      \"column\": \"count\",\n      \"properties\": {\n        \"dtype\": \"number\",\n        \"std\": 214,\n        \"min\": 1,\n        \"max\": 3104,\n        \"num_unique_values\": 127,\n        \"samples\": [\n          247,\n          3104,\n          74\n        ],\n        \"semantic_type\": \"\",\n        \"description\": \"\"\n      }\n    },\n    {\n      \"column\": \"mean\",\n      \"properties\": {\n        \"dtype\": \"number\",\n        \"std\": 50183.68037517984,\n        \"min\": 15000.0,\n        \"max\": 307710.0,\n        \"num_unique_values\": 847,\n        \"samples\": [\n          101925.0,\n          84375.0,\n          150747.5\n        ],\n        \"semantic_type\": \"\",\n        \"description\": \"\"\n      }\n    },\n    {\n      \"column\": \"median\",\n      \"properties\": {\n        \"dtype\": \"number\",\n        \"std\": 50608.59821325819,\n        \"min\": 15000.0,\n        \"max\": 307710.0,\n        \"num_unique_values\": 691,\n        \"samples\": [\n          120100.0,\n          183170.0,\n          52000.0\n        ],\n        \"semantic_type\": \"\",\n        \"description\": \"\"\n      }\n    },\n    {\n      \"column\": \"min\",\n      \"properties\": {\n        \"dtype\": \"number\",\n        \"std\": 44520,\n        \"min\": 15000,\n        \"max\": 287500,\n        \"num_unique_values\": 526,\n        \"samples\": [\n          91300,\n          23000,\n          62000\n        ],\n        \"semantic_type\": \"\",\n        \"description\": \"\"\n      }\n    },\n    {\n      \"column\": \"max\",\n      \"properties\": {\n        \"dtype\": \"number\",\n        \"std\": 79117,\n        \"min\": 15000,\n        \"max\": 336300,\n        \"num_unique_values\": 525,\n        \"samples\": [\n          215000,\n          292000,\n          75000\n        ],\n        \"semantic_type\": \"\",\n        \"description\": \"\"\n      }\n    }\n  ]\n}"
            }
          },
          "metadata": {},
          "execution_count": 6
        }
      ],
      "source": [
        "agg_cols = ['work_year', 'experience_level', 'job_title', 'company_location', 'company_size']\n",
        "grouped = (\n",
        "    df.groupby(agg_cols)['salary_in_usd']\n",
        "    .agg(['count', 'mean', 'median', 'min', 'max'])\n",
        "    .reset_index()\n",
        ")\n",
        "print(f\"Aggregated: {grouped.shape} market groups.\")\n",
        "grouped.head()"
      ]
    },
    {
      "cell_type": "markdown",
      "source": [
        "### Duplicate Management & Aggregation\n",
        "\n",
        "> Many records were duplicates (due to survey design).  \n",
        "> For analysis, salaries were **aggregated by year, experience level, job title, country, and company size**, reducing the dataset to **960**.  \n",
        "> This ensures that analyses reflect meaningful market segments rather than repeated individual entries."
      ],
      "metadata": {
        "id": "wz64PIjgi34L"
      },
      "id": "wz64PIjgi34L"
    },
    {
      "cell_type": "markdown",
      "id": "9291fa88",
      "metadata": {
        "id": "9291fa88"
      },
      "source": [
        "## Group Stability\n",
        "\n",
        "- Groups with <3 responses are flagged as \"unstable\"."
      ]
    },
    {
      "cell_type": "code",
      "source": [
        "stable_groups = grouped[grouped['count'] >= 3]\n",
        "print(f\"Stable groups (n >= 3): {stable_groups.shape[0]}\")"
      ],
      "metadata": {
        "colab": {
          "base_uri": "https://localhost:8080/"
        },
        "id": "_hbp-hnKivO3",
        "outputId": "00926d46-da26-45da-e036-29ae521922b9"
      },
      "id": "_hbp-hnKivO3",
      "execution_count": 7,
      "outputs": [
        {
          "output_type": "stream",
          "name": "stdout",
          "text": [
            "Stable groups (n >= 3): 619\n"
          ]
        }
      ]
    },
    {
      "cell_type": "markdown",
      "source": [
        "### Group Stability\n",
        "\n",
        "To ensure reliability, only **stable market groups** with **3 or more records** were retained for analysis:  \n",
        "> **Stable groups:** 619"
      ],
      "metadata": {
        "id": "UkldnhVVWKPq"
      },
      "id": "UkldnhVVWKPq"
    },
    {
      "cell_type": "markdown",
      "id": "18a7c002",
      "metadata": {
        "id": "18a7c002"
      },
      "source": [
        "## Salary by Experience Level (Stable Groups)"
      ]
    },
    {
      "cell_type": "code",
      "source": [
        "exp_summary = (\n",
        "    stable_groups.groupby('experience_level')['median']\n",
        "    .agg(['count', 'mean', 'median', 'min', 'max'])\n",
        "    .sort_values('median', ascending=False)\n",
        ")\n",
        "print(exp_summary)\n",
        "\n",
        "# Plot\n",
        "plt.figure(figsize=(8,4))\n",
        "\n",
        "sns.set_style(\"white\")\n",
        "\n",
        "sns.barplot(\n",
        "    data=exp_summary.reset_index(),\n",
        "    x='experience_level', y='median',\n",
        "    order=['EN', 'MI', 'SE', 'EX'],\n",
        "    color='#184e77'\n",
        ")\n",
        "\n",
        "plt.title('Median Salary by Experience Level', fontsize=16, fontweight='bold', color='#333333')\n",
        "plt.xlabel('Experience Level', fontsize=14)\n",
        "plt.ylabel('Median Salary (USD)', fontsize=14)\n",
        "\n",
        "sns.despine()\n",
        "plt.tight_layout()\n",
        "plt.show()"
      ],
      "metadata": {
        "colab": {
          "base_uri": "https://localhost:8080/",
          "height": 511
        },
        "id": "J3tfk7xCi-5o",
        "outputId": "4c665e8f-54ce-4a51-a5aa-9298b5865c7d"
      },
      "id": "J3tfk7xCi-5o",
      "execution_count": 8,
      "outputs": [
        {
          "output_type": "stream",
          "name": "stdout",
          "text": [
            "                  count           mean    median      min       max\n",
            "experience_level                                                   \n",
            "EX                   40  176357.175000  178400.0  57162.0  249300.0\n",
            "SE                  264  149151.210227  152825.0  46389.0  307710.0\n",
            "MI                  223  120049.858744  118850.0  36000.0  255000.0\n",
            "EN                   92   95834.918478   88879.5  39612.5  179100.0\n"
          ]
        },
        {
          "output_type": "display_data",
          "data": {
            "text/plain": [
              "<Figure size 800x400 with 1 Axes>"
            ],
            "image/png": "[encoded data removed]"
          },
          "metadata": {}
        }
      ]
    },
    {
      "cell_type": "markdown",
      "source": [
        "### Salary by Experience Level\n",
        "\n",
        "Median salaries increase with seniority:\n",
        "\n",
        "> **Executives (EX):** ≈ 178 K USD  \n",
        "> **Senior (SE):** ≈ 153 K USD  \n",
        "> **Mid-level (MI):** ≈ 119 K USD  \n",
        "> **Entry-level (EN):** ≈ 89 K USD  \n",
        "\n",
        "This confirms that executive roles command the highest pay, followed by senior, mid-level, and entry-level positions."
      ],
      "metadata": {
        "id": "lfY69OFmjvRC"
      },
      "id": "lfY69OFmjvRC"
    },
    {
      "cell_type": "markdown",
      "id": "1994ca8c",
      "metadata": {
        "id": "1994ca8c"
      },
      "source": [
        "## Top Job Titles by Frequency (Stable Groups)"
      ]
    },
    {
      "cell_type": "code",
      "source": [
        "top_job_freq = (\n",
        "    stable_groups['job_title'].value_counts()\n",
        "    .head(10)\n",
        "    .reset_index()\n",
        ")\n",
        "top_job_freq.columns = ['job_title', 'count']\n",
        "print(top_job_freq)\n",
        "\n",
        "# Plot\n",
        "plt.figure(figsize=(8,4))\n",
        "sns.set_style(\"white\")\n",
        "\n",
        "sns.barplot(\n",
        "    data=top_job_freq,\n",
        "    y='job_title',\n",
        "    x='count',\n",
        "    color='#184e77'\n",
        ")\n",
        "\n",
        "plt.title('Most Frequent Job Titles (by Market Group)', fontsize=16, fontweight='bold', color='#333333')\n",
        "plt.xlabel('Number of Market Groups', fontsize=14)\n",
        "plt.ylabel('Job Title', fontsize=14)\n",
        "\n",
        "sns.despine()\n",
        "plt.tight_layout()\n",
        "plt.show()"
      ],
      "metadata": {
        "colab": {
          "base_uri": "https://localhost:8080/",
          "height": 598
        },
        "id": "3LWqL58hkLFI",
        "outputId": "1751c4b8-9b5b-4346-8bef-d02105043624"
      },
      "id": "3LWqL58hkLFI",
      "execution_count": 9,
      "outputs": [
        {
          "output_type": "stream",
          "name": "stdout",
          "text": [
            "                       job_title  count\n",
            "0                  Data Engineer     29\n",
            "1                 Data Scientist     28\n",
            "2                   Data Analyst     27\n",
            "3      Machine Learning Engineer     22\n",
            "4              Applied Scientist     13\n",
            "5             Research Scientist     12\n",
            "6             Analytics Engineer     12\n",
            "7                       Engineer     12\n",
            "8                   Data Manager     11\n",
            "9  Business Intelligence Analyst     11\n"
          ]
        },
        {
          "output_type": "display_data",
          "data": {
            "text/plain": [
              "<Figure size 800x400 with 1 Axes>"
            ],
            "image/png": "[encoded data removed]"
          },
          "metadata": {}
        }
      ]
    },
    {
      "cell_type": "markdown",
      "source": [
        "### Top Job Titles by Frequency\n",
        "\n",
        "The most common in‑office roles in US, CA, and GB (stable groups):\n",
        "\n",
        "> **1. Data Engineer** – 29 groups  \n",
        "> **2. Data Scientist** – 28 groups  \n",
        "> **3. Data Analyst** – 27 groups  \n",
        "> **4. Machine Learning Engineer** – 22 groups  \n",
        "> **5. Applied Scientist** – 13 groups  \n",
        "> **6. Research Scientist** – 12 groups  \n",
        "> **7. Analytics Engineer** – 12 groups  \n",
        "> **8. Engineer** – 12 groups  \n",
        "> **9. Data Manager** – 11 groups  \n",
        "> **10. Business Intelligence Analyst** – 11 groups  \n",
        "\n",
        "This shows that Data Engineers, Data Scientists, and Data Analysts dominate the in‑office market."
      ],
      "metadata": {
        "id": "hmobBi-xkjAq"
      },
      "id": "hmobBi-xkjAq"
    },
    {
      "cell_type": "markdown",
      "source": [
        "## Top Job Titles by Median Salary (At Least 3 Stable Groups)"
      ],
      "metadata": {
        "id": "Io2Y6I43LeMT"
      },
      "id": "Io2Y6I43LeMT"
    },
    {
      "cell_type": "code",
      "source": [
        "# Ensure job titles are clean\n",
        "stable_groups = stable_groups.copy()\n",
        "stable_groups['job_title'] = stable_groups['job_title'].str.strip().str.lower()\n",
        "\n",
        "# Compute median salary per job title (from stable groups)\n",
        "job_title_salary = (\n",
        "    stable_groups.groupby('job_title')['median']\n",
        "    .median()\n",
        "    .reset_index()\n",
        "    .rename(columns={'median': 'median'})\n",
        ")\n",
        "\n",
        "# Count how many stable groups each job title has\n",
        "counts = (\n",
        "    stable_groups.groupby('job_title')\n",
        "    .size()\n",
        "    .reset_index(name='group_count')\n",
        ")\n",
        "\n",
        "# Merge and filter for job titles with >=3 stable groups\n",
        "job_title_salary = job_title_salary.merge(counts, on='job_title')\n",
        "job_title_salary = job_title_salary[job_title_salary['group_count'] >= 3]\n",
        "\n",
        "# Sort and select Top 10\n",
        "job_title_salary = job_title_salary.sort_values('median', ascending=False)\n",
        "top10 = job_title_salary.head(10)\n",
        "print(top10)\n",
        "\n",
        "# Plot\n",
        "plt.figure(figsize=(8,4))\n",
        "sns.set_style(\"white\")\n",
        "sns.barplot(data=top10, y='job_title', x='median', color='#184e77')\n",
        "\n",
        "plt.title('Top 10 Job Titles by Median Salary', fontsize=16, fontweight='bold', color='#333333')\n",
        "plt.xlabel('Median Salary (USD)', fontsize=14)\n",
        "plt.ylabel('Job Title', fontsize=14)\n",
        "\n",
        "sns.despine()\n",
        "plt.tight_layout()\n",
        "plt.show()"
      ],
      "metadata": {
        "colab": {
          "base_uri": "https://localhost:8080/",
          "height": 598
        },
        "id": "RBVRF61FkVyK",
        "outputId": "6463c28e-9b84-4433-f6a5-2af48ec2ce3c"
      },
      "id": "RBVRF61FkVyK",
      "execution_count": 10,
      "outputs": [
        {
          "output_type": "stream",
          "name": "stdout",
          "text": [
            "                                    job_title    median  group_count\n",
            "106                              head of data  220000.0            3\n",
            "5                          ai product manager  215300.0            3\n",
            "54               data infrastructure engineer  189500.0            3\n",
            "155                       solutions architect  188040.0            3\n",
            "38                   computer vision engineer  185000.0            5\n",
            "2                                ai developer  185000.0            3\n",
            "149                 site reliability engineer  178844.0            3\n",
            "16                          applied scientist  178000.0           13\n",
            "114  machine learning infrastructure engineer  175800.0            3\n",
            "140                   quantitative researcher  175000.0            3\n"
          ]
        },
        {
          "output_type": "display_data",
          "data": {
            "text/plain": [
              "<Figure size 800x400 with 1 Axes>"
            ],
            "image/png": "[encoded data removed]"
          },
          "metadata": {}
        }
      ]
    },
    {
      "cell_type": "markdown",
      "source": [
        "### Top Job Titles by Median Salary\n",
        "\n",
        "The highest‑paying in‑office roles (stable groups with ≥3 entries):\n",
        "\n",
        "> **1. Head of Data** – ≈ 220 K USD  \n",
        "> **2. AI Product Manager** – ≈ 215 K USD  \n",
        "> **3. Data Infrastructure Engineer** – ≈ 190 K USD  \n",
        "> **4. Solutions Architect** – ≈ 188 K USD  \n",
        "> **5. Computer Vision Engineer** – ≈ 185 K USD  \n",
        "> **6. AI Developer** – ≈ 185 K USD  \n",
        "> **7. Site Reliability Engineer** – ≈ 179 K USD  \n",
        "> **8. Applied Scientist** – ≈ 178 K USD  \n",
        "> **9. Machine Learning Infrastructure Engineer** – ≈ 176 K USD  \n",
        "> **10. Quantitative Researcher** – ≈ 175 K USD  \n",
        "\n",
        "These insights are based solely on **stable market groups** (≥3 entries per segment) to ensure reliability."
      ],
      "metadata": {
        "id": "_nb_HaaBkxmj"
      },
      "id": "_nb_HaaBkxmj"
    },
    {
      "cell_type": "markdown",
      "id": "91ec5088",
      "metadata": {
        "id": "91ec5088"
      },
      "source": [
        "## Salary by Company Size (Stable Groups Only)"
      ]
    },
    {
      "cell_type": "code",
      "source": [
        "company_size_summary = (\n",
        "    stable_groups.groupby('company_size')['median']\n",
        "    .agg(['count', 'mean', 'median', 'min', 'max'])\n",
        "    .sort_values('median', ascending=False)\n",
        ")\n",
        "print(company_size_summary)\n",
        "\n",
        "# Plot\n",
        "plt.figure(figsize=(8,4))\n",
        "\n",
        "sns.set_style(\"white\")\n",
        "\n",
        "sns.barplot(\n",
        "    data=company_size_summary.reset_index(),\n",
        "    x='company_size', y='median',\n",
        "    order=['S', 'M', 'L'],\n",
        "    color='#184e77'\n",
        ")\n",
        "\n",
        "plt.title('Median Salary by Company Size', fontsize=16, fontweight='bold', color='#333333')\n",
        "plt.xlabel('Company Size', fontsize=14)\n",
        "plt.ylabel('Median Salary (USD)', fontsize=14)\n",
        "\n",
        "sns.despine()\n",
        "plt.tight_layout()\n",
        "plt.show()"
      ],
      "metadata": {
        "colab": {
          "base_uri": "https://localhost:8080/",
          "height": 476
        },
        "id": "Xm_AaUxtkn81",
        "outputId": "073569a6-b1a1-4ec0-e7fb-f6a890d3ee27"
      },
      "id": "Xm_AaUxtkn81",
      "execution_count": 11,
      "outputs": [
        {
          "output_type": "stream",
          "name": "stdout",
          "text": [
            "              count           mean    median      min       max\n",
            "company_size                                                   \n",
            "L                48  156386.427083  161025.0  87150.0  214600.0\n",
            "M               571  130493.150613  130000.0  36000.0  307710.0\n"
          ]
        },
        {
          "output_type": "display_data",
          "data": {
            "text/plain": [
              "<Figure size 800x400 with 1 Axes>"
            ],
            "image/png": "[encoded data removed]"
          },
          "metadata": {}
        }
      ]
    },
    {
      "cell_type": "markdown",
      "source": [
        "### Salary by Company Size\n",
        "\n",
        "Median salaries by company size:\n",
        "\n",
        "> **Large (L):** ≈ 161 K USD  \n",
        "> **Medium (M):** ≈ 130 K USD  \n",
        "\n",
        "Medium‑sized companies dominate the dataset, but large companies offer a higher median salary."
      ],
      "metadata": {
        "id": "ljOX1QJfk-ld"
      },
      "id": "ljOX1QJfk-ld"
    },
    {
      "cell_type": "markdown",
      "id": "7e2bafbf",
      "metadata": {
        "id": "7e2bafbf"
      },
      "source": [
        "## Salary by Country (Stable Groups Only)"
      ]
    },
    {
      "cell_type": "code",
      "source": [
        "country_summary = (\n",
        "    stable_groups.groupby('company_location')['median']\n",
        "    .agg(['count', 'mean', 'median', 'min', 'max'])\n",
        "    .sort_values('median', ascending=False)\n",
        ")\n",
        "print(country_summary)\n",
        "\n",
        "# Plot\n",
        "plt.figure(figsize=(8,4))\n",
        "sns.set_style(\"white\")\n",
        "\n",
        "sns.barplot(\n",
        "    data=country_summary.reset_index(),\n",
        "    x='company_location', y='median',\n",
        "    color='#184e77'\n",
        ")\n",
        "\n",
        "plt.title('Median Salary by Country', fontsize=16, fontweight='bold', color='#333333')\n",
        "plt.xlabel('Country', fontsize=14)\n",
        "plt.ylabel('Median Salary (USD)', fontsize=14)\n",
        "\n",
        "sns.despine()\n",
        "plt.tight_layout()\n",
        "plt.show()"
      ],
      "metadata": {
        "colab": {
          "base_uri": "https://localhost:8080/",
          "height": 494
        },
        "id": "ODWtbhgbky9V",
        "outputId": "c412d808-33c2-4992-c0aa-d05b83451532"
      },
      "id": "ODWtbhgbky9V",
      "execution_count": 12,
      "outputs": [
        {
          "output_type": "stream",
          "name": "stdout",
          "text": [
            "                  count           mean     median      min       max\n",
            "company_location                                                    \n",
            "US                  462  143616.794372  140000.00  36000.0  307710.0\n",
            "CA                   76  117146.500000  110555.75  60839.0  215300.0\n",
            "GB                   81   83506.722222   73671.00  39612.5  287500.0\n"
          ]
        },
        {
          "output_type": "display_data",
          "data": {
            "text/plain": [
              "<Figure size 800x400 with 1 Axes>"
            ],
            "image/png": "[encoded data removed]"
          },
          "metadata": {}
        }
      ]
    },
    {
      "cell_type": "markdown",
      "source": [
        "### Salary by Country\n",
        "\n",
        "Median salaries by country:\n",
        "\n",
        "> **United States (US):** ≈ 140 K USD  \n",
        "> **Canada (CA):** ≈ 111 K USD  \n",
        "> **Great Britain (GB):** ≈ 74 K USD  \n",
        "\n",
        "US roles command the highest median salaries, followed by Canada and Great Britain."
      ],
      "metadata": {
        "id": "nKxBosw6lFGo"
      },
      "id": "nKxBosw6lFGo"
    },
    {
      "cell_type": "markdown",
      "id": "c6c974f3",
      "metadata": {
        "id": "c6c974f3"
      },
      "source": [
        "## Key Strategic Insights\n",
        "- **Seniority and specialization drive compensation:** Executive roles and niche technical positions (e.g., AI Product Manager, Head of Data) command the highest salaries.  \n",
        "- **Data roles dominate the market:** Data Engineer, Data Scientist, and Data Analyst are the most common in‑office positions.  \n",
        "- **Company size influences pay:** Large companies pay higher median salaries, but medium‑sized firms make up most of the market.  \n",
        "- **US leads compensation:** US roles pay substantially more than Canada and Great Britain at median.  \n",
        "- **Stable groups improve reliability:** Analyses are based on market segments with ≥3 responses to ensure trustworthy insights.\n",
        "\n",
        "## Recommendations\n",
        "- **For jobseekers:** Target executive and specialist roles for top compensation; use these benchmarks in negotiations.  \n",
        "- **For employers:** Benchmark against US compensation for competitive global offers; focus on retention of senior and specialized talent.  \n",
        "- **For analysts:** Use “stable group” medians for workforce planning and budgeting; avoid relying on single‑response outliers.\n",
        "\n",
        "## Limitations & Further Work\n",
        "\n",
        "- Data is filtered to in‑office, full‑time roles in **US, CA, GB** only.  \n",
        "- Excludes remote and hybrid positions.  \n",
        "- Relies on self‑reported salary data, which may contain reporting bias.  \n",
        "- Further analysis could include:\n",
        "  - Year‑over‑year salary trends  \n",
        "  - Comparison of remote vs. in‑office pay  \n",
        "  - Industry‑specific breakdowns  \n",
        "  - Expanded geographic coverage"
      ]
    },
    {
      "cell_type": "markdown",
      "source": [
        "## Export for Dashboard & Further Analysis\n",
        "\n",
        "Three datasets are exported for use in Tableau and further analysis:\n",
        "\n",
        "- `salary_groups.csv` – Stable, aggregated market groups  \n",
        "- `salary_filtered.csv` – Fully filtered row‑level dataset  \n",
        "- `job_title_salary.csv` – Top‑10 job titles by median salary, based on **stable group analysis**  \n",
        "\n",
        "These datasets support the interactive Tableau dashboard and enable reproducible analysis."
      ],
      "metadata": {
        "id": "twbkhp8xwZHm"
      },
      "id": "twbkhp8xwZHm"
    },
    {
      "cell_type": "code",
      "source": [
        "# Export datasets for dashboard and analysis use\n",
        "stable_groups.to_csv('salary_groups.csv', index=False)\n",
        "print(\"Exported 'salary_groups.csv' for dashboard use.\")\n",
        "\n",
        "df.to_csv('salary_filtered.csv', index=False)\n",
        "print(\"Exported 'salary_filtered.csv' for dashboard use.\")\n",
        "\n",
        "job_title_salary.to_csv('job_title_salary.csv', index=False)\n",
        "print(\"Exported 'job_title_salary.csv' for dashboard use (Top N job titles).\")"
      ],
      "metadata": {
        "colab": {
          "base_uri": "https://localhost:8080/"
        },
        "id": "b-BPl3aquIoO",
        "outputId": "8c564006-6979-456c-861e-81050b05504c"
      },
      "id": "b-BPl3aquIoO",
      "execution_count": 13,
      "outputs": [
        {
          "output_type": "stream",
          "name": "stdout",
          "text": [
            "Exported 'salary_groups.csv' for dashboard use.\n",
            "Exported 'salary_filtered.csv' for dashboard use.\n",
            "Exported 'job_title_salary.csv' for dashboard use (Top N job titles).\n"
          ]
        }
      ]
    },
    {
      "cell_type": "markdown",
      "source": [
        "## Appendix\n",
        "- **Code & data fully reproducible**  \n",
        "- **Data:**  \n",
        "  - `salary_groups.csv` (stable, aggregated data)  \n",
        "  - `salary_filtered.csv` (row‑level filtered data)  \n",
        "  - `job_title_salary.csv` (Top‑10 job titles by median salary)  \n",
        "  - Source: salaries.csv (AIJobs.net, 2020–2024)  \n",
        "- **Tools:** Python (pandas, matplotlib, seaborn) & Tableau for dashboarding  \n",
        "- **Environment:** All package versions exported to `requirements.txt` for reproducibility"
      ],
      "metadata": {
        "id": "NcklR-u3uttZ"
      },
      "id": "NcklR-u3uttZ"
    },
    {
      "cell_type": "markdown",
      "source": [
        "## Environment Information & Reproducibility\n",
        "\n",
        "To ensure reproducibility, the Python version and key packages used in this analysis are documented below.  \n",
        "A full `requirements.txt` file is also generated so others can recreate the environment."
      ],
      "metadata": {
        "id": "FjC5qZr5mok9"
      },
      "id": "FjC5qZr5mok9"
    },
    {
      "cell_type": "code",
      "source": [
        "import sys\n",
        "print(\"Python version:\", sys.version)\n",
        "!pip freeze | grep -E \"pandas|numpy|matplotlib|seaborn\""
      ],
      "metadata": {
        "colab": {
          "base_uri": "https://localhost:8080/"
        },
        "id": "yMhRSBFPmsfv",
        "outputId": "4f6988bc-b17c-4364-aabf-f4a66f58abe7"
      },
      "id": "yMhRSBFPmsfv",
      "execution_count": 14,
      "outputs": [
        {
          "output_type": "stream",
          "name": "stdout",
          "text": [
            "Python version: 3.11.13 (main, Jun  4 2025, 08:57:29) [GCC 11.4.0]\n",
            "geopandas==1.1.1\n",
            "matplotlib==3.10.0\n",
            "matplotlib-inline==0.1.7\n",
            "matplotlib-venn==1.1.2\n",
            "numpy==2.0.2\n",
            "pandas==2.2.2\n",
            "pandas-datareader==0.10.0\n",
            "pandas-gbq==0.29.2\n",
            "pandas-stubs==2.2.2.240909\n",
            "seaborn==0.13.2\n",
            "sklearn-pandas==2.2.0\n"
          ]
        }
      ]
    },
    {
      "cell_type": "code",
      "source": [
        "# Create a curated requirements.txt with only the libraries used\n",
        "import pandas, numpy, matplotlib, seaborn\n",
        "with open(\"requirements.txt\", \"w\") as f:\n",
        "    f.write(f\"pandas=={pandas.__version__}\\n\")\n",
        "    f.write(f\"numpy=={numpy.__version__}\\n\")\n",
        "    f.write(f\"matplotlib=={matplotlib.__version__}\\n\")\n",
        "    f.write(f\"seaborn=={seaborn.__version__}\\n\")\n",
        "print(\"Curated requirements.txt generated.\")"
      ],
      "metadata": {
        "colab": {
          "base_uri": "https://localhost:8080/"
        },
        "id": "4YjFemWGoSsk",
        "outputId": "6ed8524b-1835-43ff-9358-84621ae0589e"
      },
      "id": "4YjFemWGoSsk",
      "execution_count": 15,
      "outputs": [
        {
          "output_type": "stream",
          "name": "stdout",
          "text": [
            "Curated requirements.txt generated.\n"
          ]
        }
      ]
    },
    {
      "cell_type": "markdown",
      "source": [
        "### Recreate This Environment\n",
        "\n",
        "Run the following to install all required packages:\n",
        "\n",
        "```bash\n",
        "pip install -r requirements.txt"
      ],
      "metadata": {
        "id": "Q0ZRkifinxgR"
      },
      "id": "Q0ZRkifinxgR"
    },
    {
      "cell_type": "markdown",
      "source": [
        "\n",
        "---\n",
        "\n",
        "*Prepared for data-driven hiring, compensation benchmarking, and analytics leadership. Project by André Jardim, 2024.*"
      ],
      "metadata": {
        "id": "PxWNHQVBw_-W"
      },
      "id": "PxWNHQVBw_-W"
    }
  ],
  "metadata": {
    "colab": {
      "provenance": [],
      "include_colab_link": true
    },
    "language_info": {
      "name": "python"
    },
    "kernelspec": {
      "name": "python3",
      "display_name": "Python 3"
    }
  },
  "nbformat": 4,
  "nbformat_minor": 5
}