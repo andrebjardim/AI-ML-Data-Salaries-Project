{
  "nbformat": 4,
  "nbformat_minor": 0,
  "metadata": {
    "colab": {
      "provenance": [],
      "collapsed_sections": [
        "RVlJlji6jzYJ",
        "nUGRHUtnleeX",
        "yi_XcfMwJwTo"
      ],
      "authorship_tag": "ABX9TyP4fu5E6fom8yp27dwlRMCm",
      "include_colab_link": true
    },
    "kernelspec": {
      "name": "python3",
      "display_name": "Python 3"
    },
    "language_info": {
      "name": "python"
    }
  },
  "cells": [
    {
      "cell_type": "markdown",
      "metadata": {
        "id": "view-in-github",
        "colab_type": "text"
      },
      "source": [
        "<a href=\"https://colab.research.google.com/github/andrebjardim/AI-ML-Data-Salaries-Project/blob/main/ai_ml_data_salaries_project.ipynb\" target=\"_parent\"><img src=\"https://colab.research.google.com/assets/colab-badge.svg\" alt=\"Open In Colab\"/></a>"
      ]
    },
    {
      "cell_type": "markdown",
      "source": [
        "# **Analyzing In-Office Salary Trends in AI, Data, and Machine Learning Roles** (by André Jardim)"
      ],
      "metadata": {
        "id": "TIZSKJ1U3f0R"
      }
    },
    {
      "cell_type": "markdown",
      "source": [
        "#**Data Setup Process**"
      ],
      "metadata": {
        "id": "TFV8iJHfgQDA"
      }
    },
    {
      "cell_type": "markdown",
      "source": [
        "**Install Missing Libraries (if not already installed)**"
      ],
      "metadata": {
        "id": "iXLEawJfWt2L"
      }
    },
    {
      "cell_type": "code",
      "source": [
        "import subprocess\n",
        "import sys\n",
        "\n",
        "required_libraries = ['pandas', 'numpy', 'matplotlib', 'seaborn', 'sqlalchemy', 'prettytable', 'pycountry', 'ipython-sql', 'scipy', 'scipy.stats']\n",
        "\n",
        "for lib in required_libraries:\n",
        "    try:\n",
        "        __import__(lib)\n",
        "    except ImportError:\n",
        "        subprocess.check_call([sys.executable, \"-m\", \"pip\", \"install\", lib])"
      ],
      "metadata": {
        "id": "1MZ4P7bkWidv"
      },
      "execution_count": null,
      "outputs": []
    },
    {
      "cell_type": "markdown",
      "source": [
        "**Import Libraries**"
      ],
      "metadata": {
        "id": "kMnDG0bkgxRC"
      }
    },
    {
      "cell_type": "code",
      "execution_count": null,
      "metadata": {
        "id": "j89bweZMdjyx"
      },
      "outputs": [],
      "source": [
        "import sqlite3\n",
        "import pandas as pd\n",
        "import numpy as np\n",
        "import matplotlib.pyplot as plt\n",
        "import seaborn as sns\n",
        "import prettytable\n",
        "import pycountry\n",
        "from sqlalchemy import create_engine\n",
        "from scipy import stats\n",
        "from scipy.stats import ks_2samp"
      ]
    },
    {
      "cell_type": "markdown",
      "source": [
        "**Load and Save the Dataset**"
      ],
      "metadata": {
        "id": "-b8ZbyGxUvVV"
      }
    },
    {
      "cell_type": "code",
      "source": [
        "url = \"https://raw.githubusercontent.com/andrebjardim/AI-ML-Data-Salaries-Project/refs/heads/main/Data/salaries.csv\"\n",
        "df = pd.read_csv(url)\n",
        "\n",
        "df.to_csv(\"original_salaries.csv\", index=False)"
      ],
      "metadata": {
        "id": "6SpiAnPqNFio"
      },
      "execution_count": null,
      "outputs": []
    },
    {
      "cell_type": "markdown",
      "source": [
        "**Set Up SQLite Database**"
      ],
      "metadata": {
        "id": "rsTqJQw0U106"
      }
    },
    {
      "cell_type": "code",
      "source": [
        "engine = create_engine('sqlite:///salaries.db', echo=False)"
      ],
      "metadata": {
        "id": "9ExV0IpfPAwd"
      },
      "execution_count": null,
      "outputs": []
    },
    {
      "cell_type": "markdown",
      "source": [
        "**Load the DataFrame into SQLite**"
      ],
      "metadata": {
        "id": "b5xXnXOsVWxA"
      }
    },
    {
      "cell_type": "code",
      "source": [
        "df.to_sql('salaries', con=engine, index=False, if_exists='replace')"
      ],
      "metadata": {
        "colab": {
          "base_uri": "https://localhost:8080/"
        },
        "id": "l6qyX0rOPKcG",
        "outputId": "47235759-6795-4f16-9ba9-de416d5ec4a4"
      },
      "execution_count": null,
      "outputs": [
        {
          "output_type": "execute_result",
          "data": {
            "text/plain": [
              "59325"
            ]
          },
          "metadata": {},
          "execution_count": 123
        }
      ]
    },
    {
      "cell_type": "markdown",
      "source": [
        "**PrettyTable Compatibility Fix for SQL Queries**"
      ],
      "metadata": {
        "id": "bXP-RNdzg9Sn"
      }
    },
    {
      "cell_type": "code",
      "source": [
        "if 'DEFAULT' not in prettytable.__dict__:\n",
        "    prettytable.DEFAULT = prettytable.TableStyle.PLAIN_COLUMNS"
      ],
      "metadata": {
        "id": "mo1ei5ovfaMg"
      },
      "execution_count": null,
      "outputs": []
    },
    {
      "cell_type": "markdown",
      "source": [
        "**Load SQL Extension and Connect to Database**"
      ],
      "metadata": {
        "id": "BweLNjFEi9s1"
      }
    },
    {
      "cell_type": "code",
      "source": [
        "%load_ext sql\n",
        "%sql sqlite:///salaries.db"
      ],
      "metadata": {
        "id": "XcvJJAhTewEy",
        "colab": {
          "base_uri": "https://localhost:8080/"
        },
        "outputId": "601f8f62-4789-4c31-c649-f6ea1422a4a2"
      },
      "execution_count": null,
      "outputs": [
        {
          "output_type": "stream",
          "name": "stdout",
          "text": [
            "The sql extension is already loaded. To reload it, use:\n",
            "  %reload_ext sql\n"
          ]
        }
      ]
    },
    {
      "cell_type": "markdown",
      "source": [
        "#**Data Profiling**"
      ],
      "metadata": {
        "id": "RVlJlji6jzYJ"
      }
    },
    {
      "cell_type": "markdown",
      "source": [
        "**Overview of Data (First 10 Rows)**"
      ],
      "metadata": {
        "id": "yjStyXkfj9gZ"
      }
    },
    {
      "cell_type": "code",
      "source": [
        "%%sql\n",
        "SELECT *\n",
        "FROM salaries\n",
        "LIMIT 10;"
      ],
      "metadata": {
        "colab": {
          "base_uri": "https://localhost:8080/"
        },
        "id": "27VvGiWrfBiH",
        "outputId": "754adc39-a4da-4507-cfa5-6c5c48cab6a9"
      },
      "execution_count": null,
      "outputs": [
        {
          "output_type": "stream",
          "name": "stdout",
          "text": [
            " * sqlite:///salaries.db\n",
            "Done.\n"
          ]
        },
        {
          "output_type": "execute_result",
          "data": {
            "text/plain": [
              "[(2024, 'SE', 'FT', 'Software Engineer', 250200, 'USD', 250200, 'US', 0, 'US', 'M'),\n",
              " (2024, 'SE', 'FT', 'Software Engineer', 117200, 'USD', 117200, 'US', 0, 'US', 'M'),\n",
              " (2024, 'SE', 'FT', 'Solutions Architect', 230000, 'USD', 230000, 'US', 0, 'US', 'M'),\n",
              " (2024, 'SE', 'FT', 'Solutions Architect', 148000, 'USD', 148000, 'US', 0, 'US', 'M'),\n",
              " (2024, 'MI', 'PT', 'Data Manager', 55000, 'EUR', 61111, 'AT', 0, 'AT', 'M'),\n",
              " (2024, 'MI', 'PT', 'Data Manager', 55000, 'EUR', 61111, 'AT', 0, 'AT', 'M'),\n",
              " (2024, 'SE', 'FT', 'Business Intelligence Engineer', 202800, 'USD', 202800, 'US', 100, 'US', 'L'),\n",
              " (2024, 'SE', 'FT', 'Business Intelligence Engineer', 117300, 'USD', 117300, 'US', 100, 'US', 'L'),\n",
              " (2024, 'EN', 'FT', 'Data Reporting Analyst', 100000, 'USD', 100000, 'US', 100, 'US', 'M'),\n",
              " (2024, 'EN', 'FT', 'Data Reporting Analyst', 74000, 'USD', 74000, 'US', 100, 'US', 'M')]"
            ],
            "text/html": [
              "<table>\n",
              "    <thead>\n",
              "        <tr>\n",
              "            <th>work_year</th>\n",
              "            <th>experience_level</th>\n",
              "            <th>employment_type</th>\n",
              "            <th>job_title</th>\n",
              "            <th>salary</th>\n",
              "            <th>salary_currency</th>\n",
              "            <th>salary_in_usd</th>\n",
              "            <th>employee_residence</th>\n",
              "            <th>remote_ratio</th>\n",
              "            <th>company_location</th>\n",
              "            <th>company_size</th>\n",
              "        </tr>\n",
              "    </thead>\n",
              "    <tbody>\n",
              "        <tr>\n",
              "            <td>2024</td>\n",
              "            <td>SE</td>\n",
              "            <td>FT</td>\n",
              "            <td>Software Engineer</td>\n",
              "            <td>250200</td>\n",
              "            <td>USD</td>\n",
              "            <td>250200</td>\n",
              "            <td>US</td>\n",
              "            <td>0</td>\n",
              "            <td>US</td>\n",
              "            <td>M</td>\n",
              "        </tr>\n",
              "        <tr>\n",
              "            <td>2024</td>\n",
              "            <td>SE</td>\n",
              "            <td>FT</td>\n",
              "            <td>Software Engineer</td>\n",
              "            <td>117200</td>\n",
              "            <td>USD</td>\n",
              "            <td>117200</td>\n",
              "            <td>US</td>\n",
              "            <td>0</td>\n",
              "            <td>US</td>\n",
              "            <td>M</td>\n",
              "        </tr>\n",
              "        <tr>\n",
              "            <td>2024</td>\n",
              "            <td>SE</td>\n",
              "            <td>FT</td>\n",
              "            <td>Solutions Architect</td>\n",
              "            <td>230000</td>\n",
              "            <td>USD</td>\n",
              "            <td>230000</td>\n",
              "            <td>US</td>\n",
              "            <td>0</td>\n",
              "            <td>US</td>\n",
              "            <td>M</td>\n",
              "        </tr>\n",
              "        <tr>\n",
              "            <td>2024</td>\n",
              "            <td>SE</td>\n",
              "            <td>FT</td>\n",
              "            <td>Solutions Architect</td>\n",
              "            <td>148000</td>\n",
              "            <td>USD</td>\n",
              "            <td>148000</td>\n",
              "            <td>US</td>\n",
              "            <td>0</td>\n",
              "            <td>US</td>\n",
              "            <td>M</td>\n",
              "        </tr>\n",
              "        <tr>\n",
              "            <td>2024</td>\n",
              "            <td>MI</td>\n",
              "            <td>PT</td>\n",
              "            <td>Data Manager</td>\n",
              "            <td>55000</td>\n",
              "            <td>EUR</td>\n",
              "            <td>61111</td>\n",
              "            <td>AT</td>\n",
              "            <td>0</td>\n",
              "            <td>AT</td>\n",
              "            <td>M</td>\n",
              "        </tr>\n",
              "        <tr>\n",
              "            <td>2024</td>\n",
              "            <td>MI</td>\n",
              "            <td>PT</td>\n",
              "            <td>Data Manager</td>\n",
              "            <td>55000</td>\n",
              "            <td>EUR</td>\n",
              "            <td>61111</td>\n",
              "            <td>AT</td>\n",
              "            <td>0</td>\n",
              "            <td>AT</td>\n",
              "            <td>M</td>\n",
              "        </tr>\n",
              "        <tr>\n",
              "            <td>2024</td>\n",
              "            <td>SE</td>\n",
              "            <td>FT</td>\n",
              "            <td>Business Intelligence Engineer</td>\n",
              "            <td>202800</td>\n",
              "            <td>USD</td>\n",
              "            <td>202800</td>\n",
              "            <td>US</td>\n",
              "            <td>100</td>\n",
              "            <td>US</td>\n",
              "            <td>L</td>\n",
              "        </tr>\n",
              "        <tr>\n",
              "            <td>2024</td>\n",
              "            <td>SE</td>\n",
              "            <td>FT</td>\n",
              "            <td>Business Intelligence Engineer</td>\n",
              "            <td>117300</td>\n",
              "            <td>USD</td>\n",
              "            <td>117300</td>\n",
              "            <td>US</td>\n",
              "            <td>100</td>\n",
              "            <td>US</td>\n",
              "            <td>L</td>\n",
              "        </tr>\n",
              "        <tr>\n",
              "            <td>2024</td>\n",
              "            <td>EN</td>\n",
              "            <td>FT</td>\n",
              "            <td>Data Reporting Analyst</td>\n",
              "            <td>100000</td>\n",
              "            <td>USD</td>\n",
              "            <td>100000</td>\n",
              "            <td>US</td>\n",
              "            <td>100</td>\n",
              "            <td>US</td>\n",
              "            <td>M</td>\n",
              "        </tr>\n",
              "        <tr>\n",
              "            <td>2024</td>\n",
              "            <td>EN</td>\n",
              "            <td>FT</td>\n",
              "            <td>Data Reporting Analyst</td>\n",
              "            <td>74000</td>\n",
              "            <td>USD</td>\n",
              "            <td>74000</td>\n",
              "            <td>US</td>\n",
              "            <td>100</td>\n",
              "            <td>US</td>\n",
              "            <td>M</td>\n",
              "        </tr>\n",
              "    </tbody>\n",
              "</table>"
            ]
          },
          "metadata": {},
          "execution_count": 126
        }
      ]
    },
    {
      "cell_type": "markdown",
      "source": [
        "**General Data Information**"
      ],
      "metadata": {
        "id": "hRSVtGmZkDNg"
      }
    },
    {
      "cell_type": "code",
      "source": [
        "%%sql\n",
        "SELECT\n",
        "    COUNT(*) AS total_rows,\n",
        "    (SELECT COUNT(*) FROM pragma_table_info('salaries')) AS total_columns,\n",
        "    MIN(salary) AS min_salary,\n",
        "    MAX(salary) AS max_salary,\n",
        "    AVG(salary) AS avg_salary,\n",
        "    MIN(salary_in_usd) AS min_salary_usd,\n",
        "    MAX(salary_in_usd) AS max_salary_usd,\n",
        "    AVG(salary_in_usd) AS avg_salary_usd\n",
        "FROM salaries;"
      ],
      "metadata": {
        "colab": {
          "base_uri": "https://localhost:8080/"
        },
        "id": "QuualQL3y7aW",
        "outputId": "3fc6dfe2-f6f9-4ff7-ad60-c08b93ea64e5"
      },
      "execution_count": null,
      "outputs": [
        {
          "output_type": "stream",
          "name": "stdout",
          "text": [
            " * sqlite:///salaries.db\n",
            "Done.\n"
          ]
        },
        {
          "output_type": "execute_result",
          "data": {
            "text/plain": [
              "[(59325, 11, 14000, 30400000, 163791.93683944375, 15000, 800000, 159018.566573957)]"
            ],
            "text/html": [
              "<table>\n",
              "    <thead>\n",
              "        <tr>\n",
              "            <th>total_rows</th>\n",
              "            <th>total_columns</th>\n",
              "            <th>min_salary</th>\n",
              "            <th>max_salary</th>\n",
              "            <th>avg_salary</th>\n",
              "            <th>min_salary_usd</th>\n",
              "            <th>max_salary_usd</th>\n",
              "            <th>avg_salary_usd</th>\n",
              "        </tr>\n",
              "    </thead>\n",
              "    <tbody>\n",
              "        <tr>\n",
              "            <td>59325</td>\n",
              "            <td>11</td>\n",
              "            <td>14000</td>\n",
              "            <td>30400000</td>\n",
              "            <td>163791.93683944375</td>\n",
              "            <td>15000</td>\n",
              "            <td>800000</td>\n",
              "            <td>159018.566573957</td>\n",
              "        </tr>\n",
              "    </tbody>\n",
              "</table>"
            ]
          },
          "metadata": {},
          "execution_count": 127
        }
      ]
    },
    {
      "cell_type": "markdown",
      "source": [
        "**Column Names and Data Types**"
      ],
      "metadata": {
        "id": "qh7TsD5wkMXK"
      }
    },
    {
      "cell_type": "code",
      "source": [
        "%%sql\n",
        "PRAGMA table_info(salaries);"
      ],
      "metadata": {
        "colab": {
          "base_uri": "https://localhost:8080/"
        },
        "id": "msc-zI_PkP1U",
        "outputId": "ba0e10af-e754-4578-d683-802bbff24126"
      },
      "execution_count": null,
      "outputs": [
        {
          "output_type": "stream",
          "name": "stdout",
          "text": [
            " * sqlite:///salaries.db\n",
            "Done.\n"
          ]
        },
        {
          "output_type": "execute_result",
          "data": {
            "text/plain": [
              "[(0, 'work_year', 'BIGINT', 0, None, 0),\n",
              " (1, 'experience_level', 'TEXT', 0, None, 0),\n",
              " (2, 'employment_type', 'TEXT', 0, None, 0),\n",
              " (3, 'job_title', 'TEXT', 0, None, 0),\n",
              " (4, 'salary', 'BIGINT', 0, None, 0),\n",
              " (5, 'salary_currency', 'TEXT', 0, None, 0),\n",
              " (6, 'salary_in_usd', 'BIGINT', 0, None, 0),\n",
              " (7, 'employee_residence', 'TEXT', 0, None, 0),\n",
              " (8, 'remote_ratio', 'BIGINT', 0, None, 0),\n",
              " (9, 'company_location', 'TEXT', 0, None, 0),\n",
              " (10, 'company_size', 'TEXT', 0, None, 0)]"
            ],
            "text/html": [
              "<table>\n",
              "    <thead>\n",
              "        <tr>\n",
              "            <th>cid</th>\n",
              "            <th>name</th>\n",
              "            <th>type</th>\n",
              "            <th>notnull</th>\n",
              "            <th>dflt_value</th>\n",
              "            <th>pk</th>\n",
              "        </tr>\n",
              "    </thead>\n",
              "    <tbody>\n",
              "        <tr>\n",
              "            <td>0</td>\n",
              "            <td>work_year</td>\n",
              "            <td>BIGINT</td>\n",
              "            <td>0</td>\n",
              "            <td>None</td>\n",
              "            <td>0</td>\n",
              "        </tr>\n",
              "        <tr>\n",
              "            <td>1</td>\n",
              "            <td>experience_level</td>\n",
              "            <td>TEXT</td>\n",
              "            <td>0</td>\n",
              "            <td>None</td>\n",
              "            <td>0</td>\n",
              "        </tr>\n",
              "        <tr>\n",
              "            <td>2</td>\n",
              "            <td>employment_type</td>\n",
              "            <td>TEXT</td>\n",
              "            <td>0</td>\n",
              "            <td>None</td>\n",
              "            <td>0</td>\n",
              "        </tr>\n",
              "        <tr>\n",
              "            <td>3</td>\n",
              "            <td>job_title</td>\n",
              "            <td>TEXT</td>\n",
              "            <td>0</td>\n",
              "            <td>None</td>\n",
              "            <td>0</td>\n",
              "        </tr>\n",
              "        <tr>\n",
              "            <td>4</td>\n",
              "            <td>salary</td>\n",
              "            <td>BIGINT</td>\n",
              "            <td>0</td>\n",
              "            <td>None</td>\n",
              "            <td>0</td>\n",
              "        </tr>\n",
              "        <tr>\n",
              "            <td>5</td>\n",
              "            <td>salary_currency</td>\n",
              "            <td>TEXT</td>\n",
              "            <td>0</td>\n",
              "            <td>None</td>\n",
              "            <td>0</td>\n",
              "        </tr>\n",
              "        <tr>\n",
              "            <td>6</td>\n",
              "            <td>salary_in_usd</td>\n",
              "            <td>BIGINT</td>\n",
              "            <td>0</td>\n",
              "            <td>None</td>\n",
              "            <td>0</td>\n",
              "        </tr>\n",
              "        <tr>\n",
              "            <td>7</td>\n",
              "            <td>employee_residence</td>\n",
              "            <td>TEXT</td>\n",
              "            <td>0</td>\n",
              "            <td>None</td>\n",
              "            <td>0</td>\n",
              "        </tr>\n",
              "        <tr>\n",
              "            <td>8</td>\n",
              "            <td>remote_ratio</td>\n",
              "            <td>BIGINT</td>\n",
              "            <td>0</td>\n",
              "            <td>None</td>\n",
              "            <td>0</td>\n",
              "        </tr>\n",
              "        <tr>\n",
              "            <td>9</td>\n",
              "            <td>company_location</td>\n",
              "            <td>TEXT</td>\n",
              "            <td>0</td>\n",
              "            <td>None</td>\n",
              "            <td>0</td>\n",
              "        </tr>\n",
              "        <tr>\n",
              "            <td>10</td>\n",
              "            <td>company_size</td>\n",
              "            <td>TEXT</td>\n",
              "            <td>0</td>\n",
              "            <td>None</td>\n",
              "            <td>0</td>\n",
              "        </tr>\n",
              "    </tbody>\n",
              "</table>"
            ]
          },
          "metadata": {},
          "execution_count": 128
        }
      ]
    },
    {
      "cell_type": "markdown",
      "source": [
        "**Missing and Invalid Values**"
      ],
      "metadata": {
        "id": "xeu_sGRhkqjE"
      }
    },
    {
      "cell_type": "code",
      "source": [
        "%%sql\n",
        "SELECT\n",
        "    SUM(CASE WHEN salary <= 0 OR salary_in_usd <= 0 THEN 1 ELSE 0 END) AS invalid_salaries,\n",
        "    SUM(CASE WHEN work_year IS NULL THEN 1 ELSE 0 END) AS work_year_nulls,\n",
        "    SUM(CASE WHEN experience_level IS NULL THEN 1 ELSE 0 END) AS experience_level_nulls,\n",
        "    SUM(CASE WHEN employment_type IS NULL THEN 1 ELSE 0 END) AS employment_type_nulls,\n",
        "    SUM(CASE WHEN job_title IS NULL THEN 1 ELSE 0 END) AS job_title_nulls,\n",
        "    SUM(CASE WHEN salary IS NULL THEN 1 ELSE 0 END) AS salary_nulls,\n",
        "    SUM(CASE WHEN salary_currency IS NULL THEN 1 ELSE 0 END) AS salary_currency_nulls,\n",
        "    SUM(CASE WHEN salary_in_usd IS NULL THEN 1 ELSE 0 END) AS salary_in_usd_nulls,\n",
        "    SUM(CASE WHEN employee_residence IS NULL THEN 1 ELSE 0 END) AS employee_residence_nulls,\n",
        "    SUM(CASE WHEN remote_ratio IS NULL THEN 1 ELSE 0 END) AS remote_ratio_nulls,\n",
        "    SUM(CASE WHEN company_location IS NULL THEN 1 ELSE 0 END) AS company_location_nulls,\n",
        "    SUM(CASE WHEN company_size IS NULL THEN 1 ELSE 0 END) AS company_size_nulls\n",
        "FROM salaries;"
      ],
      "metadata": {
        "colab": {
          "base_uri": "https://localhost:8080/"
        },
        "id": "bt8Gjscgtkou",
        "outputId": "6ad9d51d-aec9-4614-e25d-8534bf51ed65"
      },
      "execution_count": null,
      "outputs": [
        {
          "output_type": "stream",
          "name": "stdout",
          "text": [
            " * sqlite:///salaries.db\n",
            "Done.\n"
          ]
        },
        {
          "output_type": "execute_result",
          "data": {
            "text/plain": [
              "[(0, 0, 0, 0, 0, 0, 0, 0, 0, 0, 0, 0)]"
            ],
            "text/html": [
              "<table>\n",
              "    <thead>\n",
              "        <tr>\n",
              "            <th>invalid_salaries</th>\n",
              "            <th>work_year_nulls</th>\n",
              "            <th>experience_level_nulls</th>\n",
              "            <th>employment_type_nulls</th>\n",
              "            <th>job_title_nulls</th>\n",
              "            <th>salary_nulls</th>\n",
              "            <th>salary_currency_nulls</th>\n",
              "            <th>salary_in_usd_nulls</th>\n",
              "            <th>employee_residence_nulls</th>\n",
              "            <th>remote_ratio_nulls</th>\n",
              "            <th>company_location_nulls</th>\n",
              "            <th>company_size_nulls</th>\n",
              "        </tr>\n",
              "    </thead>\n",
              "    <tbody>\n",
              "        <tr>\n",
              "            <td>0</td>\n",
              "            <td>0</td>\n",
              "            <td>0</td>\n",
              "            <td>0</td>\n",
              "            <td>0</td>\n",
              "            <td>0</td>\n",
              "            <td>0</td>\n",
              "            <td>0</td>\n",
              "            <td>0</td>\n",
              "            <td>0</td>\n",
              "            <td>0</td>\n",
              "            <td>0</td>\n",
              "        </tr>\n",
              "    </tbody>\n",
              "</table>"
            ]
          },
          "metadata": {},
          "execution_count": 129
        }
      ]
    },
    {
      "cell_type": "markdown",
      "source": [
        "**Distinct Value Counts**"
      ],
      "metadata": {
        "id": "_Jz9d8Tuk49B"
      }
    },
    {
      "cell_type": "code",
      "source": [
        "%%sql\n",
        "SELECT\n",
        "    COUNT(DISTINCT work_year) AS distinct_work_years,\n",
        "    COUNT(DISTINCT experience_level) AS distinct_experience_levels,\n",
        "    COUNT(DISTINCT employment_type) AS distinct_employment_types,\n",
        "    COUNT(DISTINCT job_title) AS distinct_job_titles,\n",
        "    COUNT(DISTINCT company_location) AS distinct_company_locations,\n",
        "    COUNT(DISTINCT company_size) AS distinct_company_sizes,\n",
        "    COUNT(DISTINCT remote_ratio) AS distinct_remote_ratios\n",
        "FROM salaries;"
      ],
      "metadata": {
        "colab": {
          "base_uri": "https://localhost:8080/"
        },
        "id": "KwGv0EsZuAQp",
        "outputId": "5e3ee9d1-33b3-41b5-c44f-dbf38cdec5c0"
      },
      "execution_count": null,
      "outputs": [
        {
          "output_type": "stream",
          "name": "stdout",
          "text": [
            " * sqlite:///salaries.db\n",
            "Done.\n"
          ]
        },
        {
          "output_type": "execute_result",
          "data": {
            "text/plain": [
              "[(5, 4, 4, 258, 82, 3, 3)]"
            ],
            "text/html": [
              "<table>\n",
              "    <thead>\n",
              "        <tr>\n",
              "            <th>distinct_work_years</th>\n",
              "            <th>distinct_experience_levels</th>\n",
              "            <th>distinct_employment_types</th>\n",
              "            <th>distinct_job_titles</th>\n",
              "            <th>distinct_company_locations</th>\n",
              "            <th>distinct_company_sizes</th>\n",
              "            <th>distinct_remote_ratios</th>\n",
              "        </tr>\n",
              "    </thead>\n",
              "    <tbody>\n",
              "        <tr>\n",
              "            <td>5</td>\n",
              "            <td>4</td>\n",
              "            <td>4</td>\n",
              "            <td>258</td>\n",
              "            <td>82</td>\n",
              "            <td>3</td>\n",
              "            <td>3</td>\n",
              "        </tr>\n",
              "    </tbody>\n",
              "</table>"
            ]
          },
          "metadata": {},
          "execution_count": 130
        }
      ]
    },
    {
      "cell_type": "markdown",
      "source": [
        "**Validation an ISO 3166 Country Codes in the *company_location* Column**"
      ],
      "metadata": {
        "id": "yFL9VglNpIl0"
      }
    },
    {
      "cell_type": "code",
      "source": [
        "%%sql\n",
        "SELECT DISTINCT company_location\n",
        "FROM salaries\n",
        "WHERE LENGTH(company_location) != 2 OR company_location NOT GLOB '[A-Z][A-Z]';"
      ],
      "metadata": {
        "colab": {
          "base_uri": "https://localhost:8080/"
        },
        "id": "bs_0Zfy7pIMo",
        "outputId": "ab4412cc-2624-4794-b62c-58ab9c0217f0"
      },
      "execution_count": null,
      "outputs": [
        {
          "output_type": "stream",
          "name": "stdout",
          "text": [
            " * sqlite:///salaries.db\n",
            "Done.\n"
          ]
        },
        {
          "output_type": "execute_result",
          "data": {
            "text/plain": [
              "[]"
            ],
            "text/html": [
              "<table>\n",
              "    <thead>\n",
              "        <tr>\n",
              "            <th>company_location</th>\n",
              "        </tr>\n",
              "    </thead>\n",
              "    <tbody>\n",
              "    </tbody>\n",
              "</table>"
            ]
          },
          "metadata": {},
          "execution_count": 131
        }
      ]
    },
    {
      "cell_type": "markdown",
      "source": [
        "**Validation of USD Salaries in *salary_in_usd* Column**"
      ],
      "metadata": {
        "id": "dsSjVGoNtDOO"
      }
    },
    {
      "cell_type": "code",
      "source": [
        "%%sql\n",
        "SELECT *\n",
        "FROM salaries\n",
        "WHERE salary_currency = 'USD'\n",
        "AND salary != salary_in_usd;"
      ],
      "metadata": {
        "colab": {
          "base_uri": "https://localhost:8080/"
        },
        "id": "LmdETtNCrsG8",
        "outputId": "25e3112a-de08-4e61-9f37-902c2d83fae9"
      },
      "execution_count": null,
      "outputs": [
        {
          "output_type": "stream",
          "name": "stdout",
          "text": [
            " * sqlite:///salaries.db\n",
            "Done.\n"
          ]
        },
        {
          "output_type": "execute_result",
          "data": {
            "text/plain": [
              "[]"
            ],
            "text/html": [
              "<table>\n",
              "    <thead>\n",
              "        <tr>\n",
              "            <th>work_year</th>\n",
              "            <th>experience_level</th>\n",
              "            <th>employment_type</th>\n",
              "            <th>job_title</th>\n",
              "            <th>salary</th>\n",
              "            <th>salary_currency</th>\n",
              "            <th>salary_in_usd</th>\n",
              "            <th>employee_residence</th>\n",
              "            <th>remote_ratio</th>\n",
              "            <th>company_location</th>\n",
              "            <th>company_size</th>\n",
              "        </tr>\n",
              "    </thead>\n",
              "    <tbody>\n",
              "    </tbody>\n",
              "</table>"
            ]
          },
          "metadata": {},
          "execution_count": 132
        }
      ]
    },
    {
      "cell_type": "markdown",
      "source": [
        "**Check Non-USD Salary Currencies and Conversion Consistency**"
      ],
      "metadata": {
        "id": "nDMIF4E9vrAy"
      }
    },
    {
      "cell_type": "code",
      "source": [
        "%%sql\n",
        "SELECT salary_currency, salary, salary_in_usd\n",
        "FROM salaries\n",
        "WHERE salary_currency != 'USD'\n",
        "GROUP BY salary_currency;"
      ],
      "metadata": {
        "colab": {
          "base_uri": "https://localhost:8080/"
        },
        "id": "eqqxOS_muZuR",
        "outputId": "1eb5811a-eb4c-4067-f5f7-713d38d65d04"
      },
      "execution_count": null,
      "outputs": [
        {
          "output_type": "stream",
          "name": "stdout",
          "text": [
            " * sqlite:///salaries.db\n",
            "Done.\n"
          ]
        },
        {
          "output_type": "execute_result",
          "data": {
            "text/plain": [
              "[('AUD', 110000, 73333),\n",
              " ('BRL', 368200, 75142),\n",
              " ('CAD', 130000, 100000),\n",
              " ('CHF', 100000, 113636),\n",
              " ('CLP', 30400000, 40038),\n",
              " ('CZK', 1380000, 61333),\n",
              " ('DKK', 800000, 117647),\n",
              " ('EUR', 55000, 61111),\n",
              " ('GBP', 47874, 59842),\n",
              " ('HKD', 510000, 65058),\n",
              " ('HUF', 6600000, 17684),\n",
              " ('ILS', 432000, 116756),\n",
              " ('INR', 2005476, 24075),\n",
              " ('JPY', 12000000, 83217),\n",
              " ('MXN', 1900000, 110465),\n",
              " ('NOK', 1050000, 100416),\n",
              " ('NZD', 200000, 125000),\n",
              " ('PHP', 960000, 17266),\n",
              " ('PLN', 236280, 59070),\n",
              " ('SEK', 940000, 91262),\n",
              " ('SGD', 160000, 123076),\n",
              " ('THB', 1000000, 29301),\n",
              " ('TRY', 636000, 21855),\n",
              " ('ZAR', 1100000, 58823)]"
            ],
            "text/html": [
              "<table>\n",
              "    <thead>\n",
              "        <tr>\n",
              "            <th>salary_currency</th>\n",
              "            <th>salary</th>\n",
              "            <th>salary_in_usd</th>\n",
              "        </tr>\n",
              "    </thead>\n",
              "    <tbody>\n",
              "        <tr>\n",
              "            <td>AUD</td>\n",
              "            <td>110000</td>\n",
              "            <td>73333</td>\n",
              "        </tr>\n",
              "        <tr>\n",
              "            <td>BRL</td>\n",
              "            <td>368200</td>\n",
              "            <td>75142</td>\n",
              "        </tr>\n",
              "        <tr>\n",
              "            <td>CAD</td>\n",
              "            <td>130000</td>\n",
              "            <td>100000</td>\n",
              "        </tr>\n",
              "        <tr>\n",
              "            <td>CHF</td>\n",
              "            <td>100000</td>\n",
              "            <td>113636</td>\n",
              "        </tr>\n",
              "        <tr>\n",
              "            <td>CLP</td>\n",
              "            <td>30400000</td>\n",
              "            <td>40038</td>\n",
              "        </tr>\n",
              "        <tr>\n",
              "            <td>CZK</td>\n",
              "            <td>1380000</td>\n",
              "            <td>61333</td>\n",
              "        </tr>\n",
              "        <tr>\n",
              "            <td>DKK</td>\n",
              "            <td>800000</td>\n",
              "            <td>117647</td>\n",
              "        </tr>\n",
              "        <tr>\n",
              "            <td>EUR</td>\n",
              "            <td>55000</td>\n",
              "            <td>61111</td>\n",
              "        </tr>\n",
              "        <tr>\n",
              "            <td>GBP</td>\n",
              "            <td>47874</td>\n",
              "            <td>59842</td>\n",
              "        </tr>\n",
              "        <tr>\n",
              "            <td>HKD</td>\n",
              "            <td>510000</td>\n",
              "            <td>65058</td>\n",
              "        </tr>\n",
              "        <tr>\n",
              "            <td>HUF</td>\n",
              "            <td>6600000</td>\n",
              "            <td>17684</td>\n",
              "        </tr>\n",
              "        <tr>\n",
              "            <td>ILS</td>\n",
              "            <td>432000</td>\n",
              "            <td>116756</td>\n",
              "        </tr>\n",
              "        <tr>\n",
              "            <td>INR</td>\n",
              "            <td>2005476</td>\n",
              "            <td>24075</td>\n",
              "        </tr>\n",
              "        <tr>\n",
              "            <td>JPY</td>\n",
              "            <td>12000000</td>\n",
              "            <td>83217</td>\n",
              "        </tr>\n",
              "        <tr>\n",
              "            <td>MXN</td>\n",
              "            <td>1900000</td>\n",
              "            <td>110465</td>\n",
              "        </tr>\n",
              "        <tr>\n",
              "            <td>NOK</td>\n",
              "            <td>1050000</td>\n",
              "            <td>100416</td>\n",
              "        </tr>\n",
              "        <tr>\n",
              "            <td>NZD</td>\n",
              "            <td>200000</td>\n",
              "            <td>125000</td>\n",
              "        </tr>\n",
              "        <tr>\n",
              "            <td>PHP</td>\n",
              "            <td>960000</td>\n",
              "            <td>17266</td>\n",
              "        </tr>\n",
              "        <tr>\n",
              "            <td>PLN</td>\n",
              "            <td>236280</td>\n",
              "            <td>59070</td>\n",
              "        </tr>\n",
              "        <tr>\n",
              "            <td>SEK</td>\n",
              "            <td>940000</td>\n",
              "            <td>91262</td>\n",
              "        </tr>\n",
              "        <tr>\n",
              "            <td>SGD</td>\n",
              "            <td>160000</td>\n",
              "            <td>123076</td>\n",
              "        </tr>\n",
              "        <tr>\n",
              "            <td>THB</td>\n",
              "            <td>1000000</td>\n",
              "            <td>29301</td>\n",
              "        </tr>\n",
              "        <tr>\n",
              "            <td>TRY</td>\n",
              "            <td>636000</td>\n",
              "            <td>21855</td>\n",
              "        </tr>\n",
              "        <tr>\n",
              "            <td>ZAR</td>\n",
              "            <td>1100000</td>\n",
              "            <td>58823</td>\n",
              "        </tr>\n",
              "    </tbody>\n",
              "</table>"
            ]
          },
          "metadata": {},
          "execution_count": 133
        }
      ]
    },
    {
      "cell_type": "markdown",
      "source": [
        "**Salary Distribution by Experience Level**"
      ],
      "metadata": {
        "id": "ESksELIWmbQ3"
      }
    },
    {
      "cell_type": "code",
      "source": [
        "%%sql\n",
        "SELECT experience_level,\n",
        "       MIN(salary_in_usd) AS min_salary,\n",
        "       MAX(salary_in_usd) AS max_salary,\n",
        "       AVG(salary_in_usd) AS avg_salary,\n",
        "       COUNT(*) AS num_records\n",
        "FROM salaries\n",
        "GROUP BY experience_level\n",
        "ORDER BY avg_salary DESC;"
      ],
      "metadata": {
        "colab": {
          "base_uri": "https://localhost:8080/"
        },
        "id": "AwipOgso1cFW",
        "outputId": "e51f4c36-d4bf-4b82-8f03-3d875580b26d"
      },
      "execution_count": null,
      "outputs": [
        {
          "output_type": "stream",
          "name": "stdout",
          "text": [
            " * sqlite:///salaries.db\n",
            "Done.\n"
          ]
        },
        {
          "output_type": "execute_result",
          "data": {
            "text/plain": [
              "[('EX', 15000, 609000, 201246.23993558777, 1242),\n",
              " ('SE', 15809, 750000, 173751.13261965095, 35123),\n",
              " ('MI', 15000, 800000, 143616.99069369113, 17515),\n",
              " ('EN', 15000, 774000, 103896.42038567494, 5445)]"
            ],
            "text/html": [
              "<table>\n",
              "    <thead>\n",
              "        <tr>\n",
              "            <th>experience_level</th>\n",
              "            <th>min_salary</th>\n",
              "            <th>max_salary</th>\n",
              "            <th>avg_salary</th>\n",
              "            <th>num_records</th>\n",
              "        </tr>\n",
              "    </thead>\n",
              "    <tbody>\n",
              "        <tr>\n",
              "            <td>EX</td>\n",
              "            <td>15000</td>\n",
              "            <td>609000</td>\n",
              "            <td>201246.23993558777</td>\n",
              "            <td>1242</td>\n",
              "        </tr>\n",
              "        <tr>\n",
              "            <td>SE</td>\n",
              "            <td>15809</td>\n",
              "            <td>750000</td>\n",
              "            <td>173751.13261965095</td>\n",
              "            <td>35123</td>\n",
              "        </tr>\n",
              "        <tr>\n",
              "            <td>MI</td>\n",
              "            <td>15000</td>\n",
              "            <td>800000</td>\n",
              "            <td>143616.99069369113</td>\n",
              "            <td>17515</td>\n",
              "        </tr>\n",
              "        <tr>\n",
              "            <td>EN</td>\n",
              "            <td>15000</td>\n",
              "            <td>774000</td>\n",
              "            <td>103896.42038567494</td>\n",
              "            <td>5445</td>\n",
              "        </tr>\n",
              "    </tbody>\n",
              "</table>"
            ]
          },
          "metadata": {},
          "execution_count": 134
        }
      ]
    },
    {
      "cell_type": "markdown",
      "source": [
        "**Salary Distribution by Company Size**"
      ],
      "metadata": {
        "id": "VJuPgdTP1vZo"
      }
    },
    {
      "cell_type": "code",
      "source": [
        "%%sql\n",
        "SELECT company_size,\n",
        "       MIN(salary_in_usd) AS min_salary,\n",
        "       MAX(salary_in_usd) AS max_salary,\n",
        "       AVG(salary_in_usd) AS avg_salary,\n",
        "       COUNT(*) AS num_records\n",
        "FROM salaries\n",
        "GROUP BY company_size\n",
        "ORDER BY avg_salary DESC;"
      ],
      "metadata": {
        "colab": {
          "base_uri": "https://localhost:8080/"
        },
        "id": "vR0tg8jQzSaz",
        "outputId": "32ddbacc-334d-4414-e42f-c314e2989d2e"
      },
      "execution_count": null,
      "outputs": [
        {
          "output_type": "stream",
          "name": "stdout",
          "text": [
            " * sqlite:///salaries.db\n",
            "Done.\n"
          ]
        },
        {
          "output_type": "execute_result",
          "data": {
            "text/plain": [
              "[('M', 15000, 800000, 159483.12250652377, 57099),\n",
              " ('L', 15000, 423000, 153098.22700296735, 2022),\n",
              " ('S', 15809, 416000, 87671.74019607843, 204)]"
            ],
            "text/html": [
              "<table>\n",
              "    <thead>\n",
              "        <tr>\n",
              "            <th>company_size</th>\n",
              "            <th>min_salary</th>\n",
              "            <th>max_salary</th>\n",
              "            <th>avg_salary</th>\n",
              "            <th>num_records</th>\n",
              "        </tr>\n",
              "    </thead>\n",
              "    <tbody>\n",
              "        <tr>\n",
              "            <td>M</td>\n",
              "            <td>15000</td>\n",
              "            <td>800000</td>\n",
              "            <td>159483.12250652377</td>\n",
              "            <td>57099</td>\n",
              "        </tr>\n",
              "        <tr>\n",
              "            <td>L</td>\n",
              "            <td>15000</td>\n",
              "            <td>423000</td>\n",
              "            <td>153098.22700296735</td>\n",
              "            <td>2022</td>\n",
              "        </tr>\n",
              "        <tr>\n",
              "            <td>S</td>\n",
              "            <td>15809</td>\n",
              "            <td>416000</td>\n",
              "            <td>87671.74019607843</td>\n",
              "            <td>204</td>\n",
              "        </tr>\n",
              "    </tbody>\n",
              "</table>"
            ]
          },
          "metadata": {},
          "execution_count": 135
        }
      ]
    },
    {
      "cell_type": "markdown",
      "source": [
        "**Salary Distribution by Company Location**"
      ],
      "metadata": {
        "id": "3W2P9_kx16Y7"
      }
    },
    {
      "cell_type": "code",
      "source": [
        "%%sql\n",
        "SELECT company_location,\n",
        "       MIN(salary_in_usd) AS min_salary,\n",
        "       MAX(salary_in_usd) AS max_salary,\n",
        "       AVG(salary_in_usd) AS avg_salary,\n",
        "       COUNT(*) AS num_records\n",
        "FROM salaries\n",
        "GROUP BY company_location\n",
        "ORDER BY num_records DESC\n",
        "LIMIT 10;"
      ],
      "metadata": {
        "colab": {
          "base_uri": "https://localhost:8080/"
        },
        "id": "CacPgfaOuOxC",
        "outputId": "89d59935-0ff7-4953-b8bb-9d27df90d02b"
      },
      "execution_count": null,
      "outputs": [
        {
          "output_type": "stream",
          "name": "stdout",
          "text": [
            " * sqlite:///salaries.db\n",
            "Done.\n"
          ]
        },
        {
          "output_type": "execute_result",
          "data": {
            "text/plain": [
              "[('US', 20000, 750000, 164392.9040309242, 53809),\n",
              " ('CA', 15000, 800000, 137486.51376623378, 1925),\n",
              " ('GB', 26992, 643750, 95625.72274881517, 1688),\n",
              " ('DE', 15966, 350000, 110067.64795918367, 196),\n",
              " ('AU', 30012, 400000, 129138.61494252873, 174),\n",
              " ('ES', 21593, 253750, 65260.13333333333, 165),\n",
              " ('FR', 17333, 244400, 89326.33103448276, 145),\n",
              " ('NL', 25000, 201111, 80711.8018018018, 111),\n",
              " ('IN', 15809, 225500, 56154.22330097087, 103),\n",
              " ('LT', 25960, 125333, 58867.12195121951, 82)]"
            ],
            "text/html": [
              "<table>\n",
              "    <thead>\n",
              "        <tr>\n",
              "            <th>company_location</th>\n",
              "            <th>min_salary</th>\n",
              "            <th>max_salary</th>\n",
              "            <th>avg_salary</th>\n",
              "            <th>num_records</th>\n",
              "        </tr>\n",
              "    </thead>\n",
              "    <tbody>\n",
              "        <tr>\n",
              "            <td>US</td>\n",
              "            <td>20000</td>\n",
              "            <td>750000</td>\n",
              "            <td>164392.9040309242</td>\n",
              "            <td>53809</td>\n",
              "        </tr>\n",
              "        <tr>\n",
              "            <td>CA</td>\n",
              "            <td>15000</td>\n",
              "            <td>800000</td>\n",
              "            <td>137486.51376623378</td>\n",
              "            <td>1925</td>\n",
              "        </tr>\n",
              "        <tr>\n",
              "            <td>GB</td>\n",
              "            <td>26992</td>\n",
              "            <td>643750</td>\n",
              "            <td>95625.72274881517</td>\n",
              "            <td>1688</td>\n",
              "        </tr>\n",
              "        <tr>\n",
              "            <td>DE</td>\n",
              "            <td>15966</td>\n",
              "            <td>350000</td>\n",
              "            <td>110067.64795918367</td>\n",
              "            <td>196</td>\n",
              "        </tr>\n",
              "        <tr>\n",
              "            <td>AU</td>\n",
              "            <td>30012</td>\n",
              "            <td>400000</td>\n",
              "            <td>129138.61494252873</td>\n",
              "            <td>174</td>\n",
              "        </tr>\n",
              "        <tr>\n",
              "            <td>ES</td>\n",
              "            <td>21593</td>\n",
              "            <td>253750</td>\n",
              "            <td>65260.13333333333</td>\n",
              "            <td>165</td>\n",
              "        </tr>\n",
              "        <tr>\n",
              "            <td>FR</td>\n",
              "            <td>17333</td>\n",
              "            <td>244400</td>\n",
              "            <td>89326.33103448276</td>\n",
              "            <td>145</td>\n",
              "        </tr>\n",
              "        <tr>\n",
              "            <td>NL</td>\n",
              "            <td>25000</td>\n",
              "            <td>201111</td>\n",
              "            <td>80711.8018018018</td>\n",
              "            <td>111</td>\n",
              "        </tr>\n",
              "        <tr>\n",
              "            <td>IN</td>\n",
              "            <td>15809</td>\n",
              "            <td>225500</td>\n",
              "            <td>56154.22330097087</td>\n",
              "            <td>103</td>\n",
              "        </tr>\n",
              "        <tr>\n",
              "            <td>LT</td>\n",
              "            <td>25960</td>\n",
              "            <td>125333</td>\n",
              "            <td>58867.12195121951</td>\n",
              "            <td>82</td>\n",
              "        </tr>\n",
              "    </tbody>\n",
              "</table>"
            ]
          },
          "metadata": {},
          "execution_count": 136
        }
      ]
    },
    {
      "cell_type": "markdown",
      "source": [
        "**Salary Distribution by Job Title**"
      ],
      "metadata": {
        "id": "b79Euvt_xNdp"
      }
    },
    {
      "cell_type": "code",
      "source": [
        "%%sql\n",
        "SELECT job_title,\n",
        "       MIN(salary_in_usd) AS min_salary,\n",
        "       MAX(salary_in_usd) AS max_salary,\n",
        "       AVG(salary_in_usd) AS avg_salary,\n",
        "       COUNT(*) AS num_records\n",
        "FROM salaries\n",
        "GROUP BY job_title\n",
        "ORDER BY num_records DESC\n",
        "LIMIT 10;"
      ],
      "metadata": {
        "colab": {
          "base_uri": "https://localhost:8080/"
        },
        "id": "2YNLOQgzuln6",
        "outputId": "0451c16d-812f-40f1-f317-bf6c62f92bfc"
      },
      "execution_count": null,
      "outputs": [
        {
          "output_type": "stream",
          "name": "stdout",
          "text": [
            " * sqlite:///salaries.db\n",
            "Done.\n"
          ]
        },
        {
          "output_type": "execute_result",
          "data": {
            "text/plain": [
              "[('Data Scientist', 16000, 750000, 159263.1515970762, 9987),\n",
              " ('Data Engineer', 17025, 750000, 149389.8272270555, 8161),\n",
              " ('Data Analyst', 15000, 774000, 108221.1823051948, 6160),\n",
              " ('Software Engineer', 18000, 720000, 189881.26680878978, 6098),\n",
              " ('Machine Learning Engineer', 15966, 750000, 197007.78872691933, 5145),\n",
              " ('Engineer', 24000, 625000, 171333.47255192877, 2696),\n",
              " ('Research Scientist', 23000, 720000, 197529.87135081642, 2021),\n",
              " ('Manager', 24000, 530000, 167700.36429433053, 1658),\n",
              " ('Applied Scientist', 20000, 425500, 179867.52489331437, 1406),\n",
              " ('Data Architect', 25000, 441300, 161893.62147406733, 1099)]"
            ],
            "text/html": [
              "<table>\n",
              "    <thead>\n",
              "        <tr>\n",
              "            <th>job_title</th>\n",
              "            <th>min_salary</th>\n",
              "            <th>max_salary</th>\n",
              "            <th>avg_salary</th>\n",
              "            <th>num_records</th>\n",
              "        </tr>\n",
              "    </thead>\n",
              "    <tbody>\n",
              "        <tr>\n",
              "            <td>Data Scientist</td>\n",
              "            <td>16000</td>\n",
              "            <td>750000</td>\n",
              "            <td>159263.1515970762</td>\n",
              "            <td>9987</td>\n",
              "        </tr>\n",
              "        <tr>\n",
              "            <td>Data Engineer</td>\n",
              "            <td>17025</td>\n",
              "            <td>750000</td>\n",
              "            <td>149389.8272270555</td>\n",
              "            <td>8161</td>\n",
              "        </tr>\n",
              "        <tr>\n",
              "            <td>Data Analyst</td>\n",
              "            <td>15000</td>\n",
              "            <td>774000</td>\n",
              "            <td>108221.1823051948</td>\n",
              "            <td>6160</td>\n",
              "        </tr>\n",
              "        <tr>\n",
              "            <td>Software Engineer</td>\n",
              "            <td>18000</td>\n",
              "            <td>720000</td>\n",
              "            <td>189881.26680878978</td>\n",
              "            <td>6098</td>\n",
              "        </tr>\n",
              "        <tr>\n",
              "            <td>Machine Learning Engineer</td>\n",
              "            <td>15966</td>\n",
              "            <td>750000</td>\n",
              "            <td>197007.78872691933</td>\n",
              "            <td>5145</td>\n",
              "        </tr>\n",
              "        <tr>\n",
              "            <td>Engineer</td>\n",
              "            <td>24000</td>\n",
              "            <td>625000</td>\n",
              "            <td>171333.47255192877</td>\n",
              "            <td>2696</td>\n",
              "        </tr>\n",
              "        <tr>\n",
              "            <td>Research Scientist</td>\n",
              "            <td>23000</td>\n",
              "            <td>720000</td>\n",
              "            <td>197529.87135081642</td>\n",
              "            <td>2021</td>\n",
              "        </tr>\n",
              "        <tr>\n",
              "            <td>Manager</td>\n",
              "            <td>24000</td>\n",
              "            <td>530000</td>\n",
              "            <td>167700.36429433053</td>\n",
              "            <td>1658</td>\n",
              "        </tr>\n",
              "        <tr>\n",
              "            <td>Applied Scientist</td>\n",
              "            <td>20000</td>\n",
              "            <td>425500</td>\n",
              "            <td>179867.52489331437</td>\n",
              "            <td>1406</td>\n",
              "        </tr>\n",
              "        <tr>\n",
              "            <td>Data Architect</td>\n",
              "            <td>25000</td>\n",
              "            <td>441300</td>\n",
              "            <td>161893.62147406733</td>\n",
              "            <td>1099</td>\n",
              "        </tr>\n",
              "    </tbody>\n",
              "</table>"
            ]
          },
          "metadata": {},
          "execution_count": 137
        }
      ]
    },
    {
      "cell_type": "markdown",
      "source": [
        "**Salary Distribution by Work Year**"
      ],
      "metadata": {
        "id": "hiC8_n5f2UxA"
      }
    },
    {
      "cell_type": "code",
      "source": [
        "%%sql\n",
        "SELECT work_year,\n",
        "       MIN(salary_in_usd) AS min_salary,\n",
        "       MAX(salary_in_usd) AS max_salary,\n",
        "       AVG(salary_in_usd) AS avg_salary,\n",
        "       COUNT(*) AS num_records\n",
        "FROM salaries\n",
        "GROUP BY work_year\n",
        "ORDER BY work_year DESC"
      ],
      "metadata": {
        "colab": {
          "base_uri": "https://localhost:8080/"
        },
        "id": "D4XIrauz2WpY",
        "outputId": "93c745f3-104e-4a8a-d500-baef9d9ce4ab"
      },
      "execution_count": null,
      "outputs": [
        {
          "output_type": "stream",
          "name": "stdout",
          "text": [
            " * sqlite:///salaries.db\n",
            "Done.\n"
          ]
        },
        {
          "output_type": "execute_result",
          "data": {
            "text/plain": [
              "[(2024, 15107, 800000, 161140.5232441506, 48851),\n",
              " (2023, 15680, 750000, 153700.75545646562, 8522),\n",
              " (2022, 15000, 430967, 134183.90355635926, 1659),\n",
              " (2021, 15000, 423000, 99922.07339449541, 218),\n",
              " (2020, 15000, 450000, 102250.86666666667, 75)]"
            ],
            "text/html": [
              "<table>\n",
              "    <thead>\n",
              "        <tr>\n",
              "            <th>work_year</th>\n",
              "            <th>min_salary</th>\n",
              "            <th>max_salary</th>\n",
              "            <th>avg_salary</th>\n",
              "            <th>num_records</th>\n",
              "        </tr>\n",
              "    </thead>\n",
              "    <tbody>\n",
              "        <tr>\n",
              "            <td>2024</td>\n",
              "            <td>15107</td>\n",
              "            <td>800000</td>\n",
              "            <td>161140.5232441506</td>\n",
              "            <td>48851</td>\n",
              "        </tr>\n",
              "        <tr>\n",
              "            <td>2023</td>\n",
              "            <td>15680</td>\n",
              "            <td>750000</td>\n",
              "            <td>153700.75545646562</td>\n",
              "            <td>8522</td>\n",
              "        </tr>\n",
              "        <tr>\n",
              "            <td>2022</td>\n",
              "            <td>15000</td>\n",
              "            <td>430967</td>\n",
              "            <td>134183.90355635926</td>\n",
              "            <td>1659</td>\n",
              "        </tr>\n",
              "        <tr>\n",
              "            <td>2021</td>\n",
              "            <td>15000</td>\n",
              "            <td>423000</td>\n",
              "            <td>99922.07339449541</td>\n",
              "            <td>218</td>\n",
              "        </tr>\n",
              "        <tr>\n",
              "            <td>2020</td>\n",
              "            <td>15000</td>\n",
              "            <td>450000</td>\n",
              "            <td>102250.86666666667</td>\n",
              "            <td>75</td>\n",
              "        </tr>\n",
              "    </tbody>\n",
              "</table>"
            ]
          },
          "metadata": {},
          "execution_count": 138
        }
      ]
    },
    {
      "cell_type": "markdown",
      "source": [
        "**Employment Type Distribution**"
      ],
      "metadata": {
        "id": "uxmWkrLieloT"
      }
    },
    {
      "cell_type": "code",
      "source": [
        "%%sql\n",
        "SELECT employment_type, COUNT(*) AS num_records\n",
        "FROM salaries\n",
        "GROUP BY employment_type\n",
        "ORDER BY num_records DESC;"
      ],
      "metadata": {
        "colab": {
          "base_uri": "https://localhost:8080/"
        },
        "id": "73l0PxJmeLcV",
        "outputId": "5997c7b9-7693-4bc5-f10b-d3ca07b560bc"
      },
      "execution_count": null,
      "outputs": [
        {
          "output_type": "stream",
          "name": "stdout",
          "text": [
            " * sqlite:///salaries.db\n",
            "Done.\n"
          ]
        },
        {
          "output_type": "execute_result",
          "data": {
            "text/plain": [
              "[('FT', 59094), ('PT', 121), ('CT', 94), ('FL', 16)]"
            ],
            "text/html": [
              "<table>\n",
              "    <thead>\n",
              "        <tr>\n",
              "            <th>employment_type</th>\n",
              "            <th>num_records</th>\n",
              "        </tr>\n",
              "    </thead>\n",
              "    <tbody>\n",
              "        <tr>\n",
              "            <td>FT</td>\n",
              "            <td>59094</td>\n",
              "        </tr>\n",
              "        <tr>\n",
              "            <td>PT</td>\n",
              "            <td>121</td>\n",
              "        </tr>\n",
              "        <tr>\n",
              "            <td>CT</td>\n",
              "            <td>94</td>\n",
              "        </tr>\n",
              "        <tr>\n",
              "            <td>FL</td>\n",
              "            <td>16</td>\n",
              "        </tr>\n",
              "    </tbody>\n",
              "</table>"
            ]
          },
          "metadata": {},
          "execution_count": 139
        }
      ]
    },
    {
      "cell_type": "markdown",
      "source": [
        "**Remote Ratio Distribution**"
      ],
      "metadata": {
        "id": "21KjkkIe2Juk"
      }
    },
    {
      "cell_type": "code",
      "source": [
        "%%sql\n",
        "SELECT remote_ratio, COUNT(*) AS num_records\n",
        "FROM salaries\n",
        "GROUP BY remote_ratio\n",
        "ORDER BY remote_ratio;"
      ],
      "metadata": {
        "colab": {
          "base_uri": "https://localhost:8080/"
        },
        "id": "9yZSTKdx2KMl",
        "outputId": "48bbbd0a-1617-4b8b-bda0-2d1b299008c3"
      },
      "execution_count": null,
      "outputs": [
        {
          "output_type": "stream",
          "name": "stdout",
          "text": [
            " * sqlite:///salaries.db\n",
            "Done.\n"
          ]
        },
        {
          "output_type": "execute_result",
          "data": {
            "text/plain": [
              "[(0, 46013), (50, 271), (100, 13041)]"
            ],
            "text/html": [
              "<table>\n",
              "    <thead>\n",
              "        <tr>\n",
              "            <th>remote_ratio</th>\n",
              "            <th>num_records</th>\n",
              "        </tr>\n",
              "    </thead>\n",
              "    <tbody>\n",
              "        <tr>\n",
              "            <td>0</td>\n",
              "            <td>46013</td>\n",
              "        </tr>\n",
              "        <tr>\n",
              "            <td>50</td>\n",
              "            <td>271</td>\n",
              "        </tr>\n",
              "        <tr>\n",
              "            <td>100</td>\n",
              "            <td>13041</td>\n",
              "        </tr>\n",
              "    </tbody>\n",
              "</table>"
            ]
          },
          "metadata": {},
          "execution_count": 140
        }
      ]
    },
    {
      "cell_type": "markdown",
      "source": [
        "**Duplicate Rows in the Dataset**"
      ],
      "metadata": {
        "id": "MpzX3M-0oWC3"
      }
    },
    {
      "cell_type": "code",
      "source": [
        "%%sql\n",
        "SELECT SUM(duplicate_count - 1) AS duplicate_rows\n",
        "FROM (\n",
        "    SELECT COUNT(*) AS duplicate_count\n",
        "    FROM salaries\n",
        "    GROUP BY\n",
        "        work_year,\n",
        "        experience_level,\n",
        "        employment_type,\n",
        "        job_title,\n",
        "        salary,\n",
        "        salary_currency,\n",
        "        salary_in_usd,\n",
        "        employee_residence,\n",
        "        remote_ratio,\n",
        "        company_location,\n",
        "        company_size\n",
        "    HAVING COUNT(*) > 1\n",
        ") AS duplicates;"
      ],
      "metadata": {
        "colab": {
          "base_uri": "https://localhost:8080/"
        },
        "id": "mJkIAvGioZPR",
        "outputId": "c054fdd9-6408-4956-8220-6e71bc7c92ae"
      },
      "execution_count": null,
      "outputs": [
        {
          "output_type": "stream",
          "name": "stdout",
          "text": [
            " * sqlite:///salaries.db\n",
            "Done.\n"
          ]
        },
        {
          "output_type": "execute_result",
          "data": {
            "text/plain": [
              "[(31212,)]"
            ],
            "text/html": [
              "<table>\n",
              "    <thead>\n",
              "        <tr>\n",
              "            <th>duplicate_rows</th>\n",
              "        </tr>\n",
              "    </thead>\n",
              "    <tbody>\n",
              "        <tr>\n",
              "            <td>31212</td>\n",
              "        </tr>\n",
              "    </tbody>\n",
              "</table>"
            ]
          },
          "metadata": {},
          "execution_count": 141
        }
      ]
    },
    {
      "cell_type": "markdown",
      "source": [
        "#**Data Wrangling**"
      ],
      "metadata": {
        "id": "nUGRHUtnleeX"
      }
    },
    {
      "cell_type": "markdown",
      "source": [
        "**Load the Dataset**"
      ],
      "metadata": {
        "id": "3UVIGLK8mBzi"
      }
    },
    {
      "cell_type": "code",
      "source": [
        "df = pd.read_csv(url)"
      ],
      "metadata": {
        "id": "CbV-_EYWmASP"
      },
      "execution_count": null,
      "outputs": []
    },
    {
      "cell_type": "markdown",
      "source": [
        "**Check Dataset Structure, Data Types, and Missing Values**"
      ],
      "metadata": {
        "id": "OVIirvzzoDV3"
      }
    },
    {
      "cell_type": "code",
      "source": [
        "df.info()"
      ],
      "metadata": {
        "id": "JDCQOtRgx__E",
        "colab": {
          "base_uri": "https://localhost:8080/"
        },
        "outputId": "4a224065-42f8-4bda-f300-52517235bdb4"
      },
      "execution_count": null,
      "outputs": [
        {
          "output_type": "stream",
          "name": "stdout",
          "text": [
            "<class 'pandas.core.frame.DataFrame'>\n",
            "RangeIndex: 59325 entries, 0 to 59324\n",
            "Data columns (total 11 columns):\n",
            " #   Column              Non-Null Count  Dtype \n",
            "---  ------              --------------  ----- \n",
            " 0   work_year           59325 non-null  int64 \n",
            " 1   experience_level    59325 non-null  object\n",
            " 2   employment_type     59325 non-null  object\n",
            " 3   job_title           59325 non-null  object\n",
            " 4   salary              59325 non-null  int64 \n",
            " 5   salary_currency     59325 non-null  object\n",
            " 6   salary_in_usd       59325 non-null  int64 \n",
            " 7   employee_residence  59325 non-null  object\n",
            " 8   remote_ratio        59325 non-null  int64 \n",
            " 9   company_location    59325 non-null  object\n",
            " 10  company_size        59325 non-null  object\n",
            "dtypes: int64(4), object(7)\n",
            "memory usage: 5.0+ MB\n"
          ]
        }
      ]
    },
    {
      "cell_type": "markdown",
      "source": [
        "**Display the first 10 Rows**"
      ],
      "metadata": {
        "id": "4euVwZCwoJxy"
      }
    },
    {
      "cell_type": "code",
      "source": [
        "df.head(10)"
      ],
      "metadata": {
        "colab": {
          "base_uri": "https://localhost:8080/"
        },
        "id": "n2G9eZEqmB-P",
        "outputId": "8b1e6b2e-c69e-441f-cc43-aeb768efdae4"
      },
      "execution_count": null,
      "outputs": [
        {
          "output_type": "execute_result",
          "data": {
            "text/plain": [
              "   work_year experience_level employment_type                       job_title  \\\n",
              "0       2024               SE              FT               Software Engineer   \n",
              "1       2024               SE              FT               Software Engineer   \n",
              "2       2024               SE              FT             Solutions Architect   \n",
              "3       2024               SE              FT             Solutions Architect   \n",
              "4       2024               MI              PT                    Data Manager   \n",
              "5       2024               MI              PT                    Data Manager   \n",
              "6       2024               SE              FT  Business Intelligence Engineer   \n",
              "7       2024               SE              FT  Business Intelligence Engineer   \n",
              "8       2024               EN              FT          Data Reporting Analyst   \n",
              "9       2024               EN              FT          Data Reporting Analyst   \n",
              "\n",
              "   salary salary_currency  salary_in_usd employee_residence  remote_ratio  \\\n",
              "0  250200             USD         250200                 US             0   \n",
              "1  117200             USD         117200                 US             0   \n",
              "2  230000             USD         230000                 US             0   \n",
              "3  148000             USD         148000                 US             0   \n",
              "4   55000             EUR          61111                 AT             0   \n",
              "5   55000             EUR          61111                 AT             0   \n",
              "6  202800             USD         202800                 US           100   \n",
              "7  117300             USD         117300                 US           100   \n",
              "8  100000             USD         100000                 US           100   \n",
              "9   74000             USD          74000                 US           100   \n",
              "\n",
              "  company_location company_size  \n",
              "0               US            M  \n",
              "1               US            M  \n",
              "2               US            M  \n",
              "3               US            M  \n",
              "4               AT            M  \n",
              "5               AT            M  \n",
              "6               US            L  \n",
              "7               US            L  \n",
              "8               US            M  \n",
              "9               US            M  "
            ],
            "text/html": [
              "\n",
              "  <div id=\"df-70e49f4c-587c-4a97-80e0-a2bb3194f954\" class=\"colab-df-container\">\n",
              "    <div>\n",
              "<style scoped>\n",
              "    .dataframe tbody tr th:only-of-type {\n",
              "        vertical-align: middle;\n",
              "    }\n",
              "\n",
              "    .dataframe tbody tr th {\n",
              "        vertical-align: top;\n",
              "    }\n",
              "\n",
              "    .dataframe thead th {\n",
              "        text-align: right;\n",
              "    }\n",
              "</style>\n",
              "<table border=\"1\" class=\"dataframe\">\n",
              "  <thead>\n",
              "    <tr style=\"text-align: right;\">\n",
              "      <th></th>\n",
              "      <th>work_year</th>\n",
              "      <th>experience_level</th>\n",
              "      <th>employment_type</th>\n",
              "      <th>job_title</th>\n",
              "      <th>salary</th>\n",
              "      <th>salary_currency</th>\n",
              "      <th>salary_in_usd</th>\n",
              "      <th>employee_residence</th>\n",
              "      <th>remote_ratio</th>\n",
              "      <th>company_location</th>\n",
              "      <th>company_size</th>\n",
              "    </tr>\n",
              "  </thead>\n",
              "  <tbody>\n",
              "    <tr>\n",
              "      <th>0</th>\n",
              "      <td>2024</td>\n",
              "      <td>SE</td>\n",
              "      <td>FT</td>\n",
              "      <td>Software Engineer</td>\n",
              "      <td>250200</td>\n",
              "      <td>USD</td>\n",
              "      <td>250200</td>\n",
              "      <td>US</td>\n",
              "      <td>0</td>\n",
              "      <td>US</td>\n",
              "      <td>M</td>\n",
              "    </tr>\n",
              "    <tr>\n",
              "      <th>1</th>\n",
              "      <td>2024</td>\n",
              "      <td>SE</td>\n",
              "      <td>FT</td>\n",
              "      <td>Software Engineer</td>\n",
              "      <td>117200</td>\n",
              "      <td>USD</td>\n",
              "      <td>117200</td>\n",
              "      <td>US</td>\n",
              "      <td>0</td>\n",
              "      <td>US</td>\n",
              "      <td>M</td>\n",
              "    </tr>\n",
              "    <tr>\n",
              "      <th>2</th>\n",
              "      <td>2024</td>\n",
              "      <td>SE</td>\n",
              "      <td>FT</td>\n",
              "      <td>Solutions Architect</td>\n",
              "      <td>230000</td>\n",
              "      <td>USD</td>\n",
              "      <td>230000</td>\n",
              "      <td>US</td>\n",
              "      <td>0</td>\n",
              "      <td>US</td>\n",
              "      <td>M</td>\n",
              "    </tr>\n",
              "    <tr>\n",
              "      <th>3</th>\n",
              "      <td>2024</td>\n",
              "      <td>SE</td>\n",
              "      <td>FT</td>\n",
              "      <td>Solutions Architect</td>\n",
              "      <td>148000</td>\n",
              "      <td>USD</td>\n",
              "      <td>148000</td>\n",
              "      <td>US</td>\n",
              "      <td>0</td>\n",
              "      <td>US</td>\n",
              "      <td>M</td>\n",
              "    </tr>\n",
              "    <tr>\n",
              "      <th>4</th>\n",
              "      <td>2024</td>\n",
              "      <td>MI</td>\n",
              "      <td>PT</td>\n",
              "      <td>Data Manager</td>\n",
              "      <td>55000</td>\n",
              "      <td>EUR</td>\n",
              "      <td>61111</td>\n",
              "      <td>AT</td>\n",
              "      <td>0</td>\n",
              "      <td>AT</td>\n",
              "      <td>M</td>\n",
              "    </tr>\n",
              "    <tr>\n",
              "      <th>5</th>\n",
              "      <td>2024</td>\n",
              "      <td>MI</td>\n",
              "      <td>PT</td>\n",
              "      <td>Data Manager</td>\n",
              "      <td>55000</td>\n",
              "      <td>EUR</td>\n",
              "      <td>61111</td>\n",
              "      <td>AT</td>\n",
              "      <td>0</td>\n",
              "      <td>AT</td>\n",
              "      <td>M</td>\n",
              "    </tr>\n",
              "    <tr>\n",
              "      <th>6</th>\n",
              "      <td>2024</td>\n",
              "      <td>SE</td>\n",
              "      <td>FT</td>\n",
              "      <td>Business Intelligence Engineer</td>\n",
              "      <td>202800</td>\n",
              "      <td>USD</td>\n",
              "      <td>202800</td>\n",
              "      <td>US</td>\n",
              "      <td>100</td>\n",
              "      <td>US</td>\n",
              "      <td>L</td>\n",
              "    </tr>\n",
              "    <tr>\n",
              "      <th>7</th>\n",
              "      <td>2024</td>\n",
              "      <td>SE</td>\n",
              "      <td>FT</td>\n",
              "      <td>Business Intelligence Engineer</td>\n",
              "      <td>117300</td>\n",
              "      <td>USD</td>\n",
              "      <td>117300</td>\n",
              "      <td>US</td>\n",
              "      <td>100</td>\n",
              "      <td>US</td>\n",
              "      <td>L</td>\n",
              "    </tr>\n",
              "    <tr>\n",
              "      <th>8</th>\n",
              "      <td>2024</td>\n",
              "      <td>EN</td>\n",
              "      <td>FT</td>\n",
              "      <td>Data Reporting Analyst</td>\n",
              "      <td>100000</td>\n",
              "      <td>USD</td>\n",
              "      <td>100000</td>\n",
              "      <td>US</td>\n",
              "      <td>100</td>\n",
              "      <td>US</td>\n",
              "      <td>M</td>\n",
              "    </tr>\n",
              "    <tr>\n",
              "      <th>9</th>\n",
              "      <td>2024</td>\n",
              "      <td>EN</td>\n",
              "      <td>FT</td>\n",
              "      <td>Data Reporting Analyst</td>\n",
              "      <td>74000</td>\n",
              "      <td>USD</td>\n",
              "      <td>74000</td>\n",
              "      <td>US</td>\n",
              "      <td>100</td>\n",
              "      <td>US</td>\n",
              "      <td>M</td>\n",
              "    </tr>\n",
              "  </tbody>\n",
              "</table>\n",
              "</div>\n",
              "    <div class=\"colab-df-buttons\">\n",
              "\n",
              "  <div class=\"colab-df-container\">\n",
              "    <button class=\"colab-df-convert\" onclick=\"convertToInteractive('df-70e49f4c-587c-4a97-80e0-a2bb3194f954')\"\n",
              "            title=\"Convert this dataframe to an interactive table.\"\n",
              "            style=\"display:none;\">\n",
              "\n",
              "  <svg xmlns=\"http://www.w3.org/2000/svg\" height=\"24px\" viewBox=\"0 -960 960 960\">\n",
              "    <path d=\"M120-120v-720h720v720H120Zm60-500h600v-160H180v160Zm220 220h160v-160H400v160Zm0 220h160v-160H400v160ZM180-400h160v-160H180v160Zm440 0h160v-160H620v160ZM180-180h160v-160H180v160Zm440 0h160v-160H620v160Z\"/>\n",
              "  </svg>\n",
              "    </button>\n",
              "\n",
              "  <style>\n",
              "    .colab-df-container {\n",
              "      display:flex;\n",
              "      gap: 12px;\n",
              "    }\n",
              "\n",
              "    .colab-df-convert {\n",
              "      background-color: #E8F0FE;\n",
              "      border: none;\n",
              "      border-radius: 50%;\n",
              "      cursor: pointer;\n",
              "      display: none;\n",
              "      fill: #1967D2;\n",
              "      height: 32px;\n",
              "      padding: 0 0 0 0;\n",
              "      width: 32px;\n",
              "    }\n",
              "\n",
              "    .colab-df-convert:hover {\n",
              "      background-color: #E2EBFA;\n",
              "      box-shadow: 0px 1px 2px rgba(60, 64, 67, 0.3), 0px 1px 3px 1px rgba(60, 64, 67, 0.15);\n",
              "      fill: #174EA6;\n",
              "    }\n",
              "\n",
              "    .colab-df-buttons div {\n",
              "      margin-bottom: 4px;\n",
              "    }\n",
              "\n",
              "    [theme=dark] .colab-df-convert {\n",
              "      background-color: #3B4455;\n",
              "      fill: #D2E3FC;\n",
              "    }\n",
              "\n",
              "    [theme=dark] .colab-df-convert:hover {\n",
              "      background-color: #434B5C;\n",
              "      box-shadow: 0px 1px 3px 1px rgba(0, 0, 0, 0.15);\n",
              "      filter: drop-shadow(0px 1px 2px rgba(0, 0, 0, 0.3));\n",
              "      fill: #FFFFFF;\n",
              "    }\n",
              "  </style>\n",
              "\n",
              "    <script>\n",
              "      const buttonEl =\n",
              "        document.querySelector('#df-70e49f4c-587c-4a97-80e0-a2bb3194f954 button.colab-df-convert');\n",
              "      buttonEl.style.display =\n",
              "        google.colab.kernel.accessAllowed ? 'block' : 'none';\n",
              "\n",
              "      async function convertToInteractive(key) {\n",
              "        const element = document.querySelector('#df-70e49f4c-587c-4a97-80e0-a2bb3194f954');\n",
              "        const dataTable =\n",
              "          await google.colab.kernel.invokeFunction('convertToInteractive',\n",
              "                                                    [key], {});\n",
              "        if (!dataTable) return;\n",
              "\n",
              "        const docLinkHtml = 'Like what you see? Visit the ' +\n",
              "          '<a target=\"_blank\" href=https://colab.research.google.com/notebooks/data_table.ipynb>data table notebook</a>'\n",
              "          + ' to learn more about interactive tables.';\n",
              "        element.innerHTML = '';\n",
              "        dataTable['output_type'] = 'display_data';\n",
              "        await google.colab.output.renderOutput(dataTable, element);\n",
              "        const docLink = document.createElement('div');\n",
              "        docLink.innerHTML = docLinkHtml;\n",
              "        element.appendChild(docLink);\n",
              "      }\n",
              "    </script>\n",
              "  </div>\n",
              "\n",
              "\n",
              "<div id=\"df-d42b9627-2a8d-467e-8d3f-0d430251c61f\">\n",
              "  <button class=\"colab-df-quickchart\" onclick=\"quickchart('df-d42b9627-2a8d-467e-8d3f-0d430251c61f')\"\n",
              "            title=\"Suggest charts\"\n",
              "            style=\"display:none;\">\n",
              "\n",
              "<svg xmlns=\"http://www.w3.org/2000/svg\" height=\"24px\"viewBox=\"0 0 24 24\"\n",
              "     width=\"24px\">\n",
              "    <g>\n",
              "        <path d=\"M19 3H5c-1.1 0-2 .9-2 2v14c0 1.1.9 2 2 2h14c1.1 0 2-.9 2-2V5c0-1.1-.9-2-2-2zM9 17H7v-7h2v7zm4 0h-2V7h2v10zm4 0h-2v-4h2v4z\"/>\n",
              "    </g>\n",
              "</svg>\n",
              "  </button>\n",
              "\n",
              "<style>\n",
              "  .colab-df-quickchart {\n",
              "      --bg-color: #E8F0FE;\n",
              "      --fill-color: #1967D2;\n",
              "      --hover-bg-color: #E2EBFA;\n",
              "      --hover-fill-color: #174EA6;\n",
              "      --disabled-fill-color: #AAA;\n",
              "      --disabled-bg-color: #DDD;\n",
              "  }\n",
              "\n",
              "  [theme=dark] .colab-df-quickchart {\n",
              "      --bg-color: #3B4455;\n",
              "      --fill-color: #D2E3FC;\n",
              "      --hover-bg-color: #434B5C;\n",
              "      --hover-fill-color: #FFFFFF;\n",
              "      --disabled-bg-color: #3B4455;\n",
              "      --disabled-fill-color: #666;\n",
              "  }\n",
              "\n",
              "  .colab-df-quickchart {\n",
              "    background-color: var(--bg-color);\n",
              "    border: none;\n",
              "    border-radius: 50%;\n",
              "    cursor: pointer;\n",
              "    display: none;\n",
              "    fill: var(--fill-color);\n",
              "    height: 32px;\n",
              "    padding: 0;\n",
              "    width: 32px;\n",
              "  }\n",
              "\n",
              "  .colab-df-quickchart:hover {\n",
              "    background-color: var(--hover-bg-color);\n",
              "    box-shadow: 0 1px 2px rgba(60, 64, 67, 0.3), 0 1px 3px 1px rgba(60, 64, 67, 0.15);\n",
              "    fill: var(--button-hover-fill-color);\n",
              "  }\n",
              "\n",
              "  .colab-df-quickchart-complete:disabled,\n",
              "  .colab-df-quickchart-complete:disabled:hover {\n",
              "    background-color: var(--disabled-bg-color);\n",
              "    fill: var(--disabled-fill-color);\n",
              "    box-shadow: none;\n",
              "  }\n",
              "\n",
              "  .colab-df-spinner {\n",
              "    border: 2px solid var(--fill-color);\n",
              "    border-color: transparent;\n",
              "    border-bottom-color: var(--fill-color);\n",
              "    animation:\n",
              "      spin 1s steps(1) infinite;\n",
              "  }\n",
              "\n",
              "  @keyframes spin {\n",
              "    0% {\n",
              "      border-color: transparent;\n",
              "      border-bottom-color: var(--fill-color);\n",
              "      border-left-color: var(--fill-color);\n",
              "    }\n",
              "    20% {\n",
              "      border-color: transparent;\n",
              "      border-left-color: var(--fill-color);\n",
              "      border-top-color: var(--fill-color);\n",
              "    }\n",
              "    30% {\n",
              "      border-color: transparent;\n",
              "      border-left-color: var(--fill-color);\n",
              "      border-top-color: var(--fill-color);\n",
              "      border-right-color: var(--fill-color);\n",
              "    }\n",
              "    40% {\n",
              "      border-color: transparent;\n",
              "      border-right-color: var(--fill-color);\n",
              "      border-top-color: var(--fill-color);\n",
              "    }\n",
              "    60% {\n",
              "      border-color: transparent;\n",
              "      border-right-color: var(--fill-color);\n",
              "    }\n",
              "    80% {\n",
              "      border-color: transparent;\n",
              "      border-right-color: var(--fill-color);\n",
              "      border-bottom-color: var(--fill-color);\n",
              "    }\n",
              "    90% {\n",
              "      border-color: transparent;\n",
              "      border-bottom-color: var(--fill-color);\n",
              "    }\n",
              "  }\n",
              "</style>\n",
              "\n",
              "  <script>\n",
              "    async function quickchart(key) {\n",
              "      const quickchartButtonEl =\n",
              "        document.querySelector('#' + key + ' button');\n",
              "      quickchartButtonEl.disabled = true;  // To prevent multiple clicks.\n",
              "      quickchartButtonEl.classList.add('colab-df-spinner');\n",
              "      try {\n",
              "        const charts = await google.colab.kernel.invokeFunction(\n",
              "            'suggestCharts', [key], {});\n",
              "      } catch (error) {\n",
              "        console.error('Error during call to suggestCharts:', error);\n",
              "      }\n",
              "      quickchartButtonEl.classList.remove('colab-df-spinner');\n",
              "      quickchartButtonEl.classList.add('colab-df-quickchart-complete');\n",
              "    }\n",
              "    (() => {\n",
              "      let quickchartButtonEl =\n",
              "        document.querySelector('#df-d42b9627-2a8d-467e-8d3f-0d430251c61f button');\n",
              "      quickchartButtonEl.style.display =\n",
              "        google.colab.kernel.accessAllowed ? 'block' : 'none';\n",
              "    })();\n",
              "  </script>\n",
              "</div>\n",
              "\n",
              "    </div>\n",
              "  </div>\n"
            ],
            "application/vnd.google.colaboratory.intrinsic+json": {
              "type": "dataframe",
              "variable_name": "df",
              "summary": "{\n  \"name\": \"df\",\n  \"rows\": 59325,\n  \"fields\": [\n    {\n      \"column\": \"work_year\",\n      \"properties\": {\n        \"dtype\": \"number\",\n        \"std\": 0,\n        \"min\": 2020,\n        \"max\": 2024,\n        \"num_unique_values\": 5,\n        \"samples\": [\n          2022,\n          2021,\n          2023\n        ],\n        \"semantic_type\": \"\",\n        \"description\": \"\"\n      }\n    },\n    {\n      \"column\": \"experience_level\",\n      \"properties\": {\n        \"dtype\": \"category\",\n        \"num_unique_values\": 4,\n        \"samples\": [\n          \"MI\",\n          \"EX\",\n          \"SE\"\n        ],\n        \"semantic_type\": \"\",\n        \"description\": \"\"\n      }\n    },\n    {\n      \"column\": \"employment_type\",\n      \"properties\": {\n        \"dtype\": \"category\",\n        \"num_unique_values\": 4,\n        \"samples\": [\n          \"PT\",\n          \"FL\",\n          \"FT\"\n        ],\n        \"semantic_type\": \"\",\n        \"description\": \"\"\n      }\n    },\n    {\n      \"column\": \"job_title\",\n      \"properties\": {\n        \"dtype\": \"category\",\n        \"num_unique_values\": 258,\n        \"samples\": [\n          \"AI Scientist\",\n          \"AI Developer\",\n          \"Manager\"\n        ],\n        \"semantic_type\": \"\",\n        \"description\": \"\"\n      }\n    },\n    {\n      \"column\": \"salary\",\n      \"properties\": {\n        \"dtype\": \"number\",\n        \"std\": 202737,\n        \"min\": 14000,\n        \"max\": 30400000,\n        \"num_unique_values\": 6118,\n        \"samples\": [\n          85420,\n          235745,\n          123046\n        ],\n        \"semantic_type\": \"\",\n        \"description\": \"\"\n      }\n    },\n    {\n      \"column\": \"salary_currency\",\n      \"properties\": {\n        \"dtype\": \"category\",\n        \"num_unique_values\": 25,\n        \"samples\": [\n          \"PHP\",\n          \"ZAR\",\n          \"USD\"\n        ],\n        \"semantic_type\": \"\",\n        \"description\": \"\"\n      }\n    },\n    {\n      \"column\": \"salary_in_usd\",\n      \"properties\": {\n        \"dtype\": \"number\",\n        \"std\": 72051,\n        \"min\": 15000,\n        \"max\": 800000,\n        \"num_unique_values\": 6660,\n        \"samples\": [\n          273400,\n          161538,\n          114700\n        ],\n        \"semantic_type\": \"\",\n        \"description\": \"\"\n      }\n    },\n    {\n      \"column\": \"employee_residence\",\n      \"properties\": {\n        \"dtype\": \"category\",\n        \"num_unique_values\": 91,\n        \"samples\": [\n          \"LU\",\n          \"FI\",\n          \"AE\"\n        ],\n        \"semantic_type\": \"\",\n        \"description\": \"\"\n      }\n    },\n    {\n      \"column\": \"remote_ratio\",\n      \"properties\": {\n        \"dtype\": \"number\",\n        \"std\": 41,\n        \"min\": 0,\n        \"max\": 100,\n        \"num_unique_values\": 3,\n        \"samples\": [\n          0,\n          100,\n          50\n        ],\n        \"semantic_type\": \"\",\n        \"description\": \"\"\n      }\n    },\n    {\n      \"column\": \"company_location\",\n      \"properties\": {\n        \"dtype\": \"category\",\n        \"num_unique_values\": 82,\n        \"samples\": [\n          \"IN\",\n          \"US\",\n          \"FI\"\n        ],\n        \"semantic_type\": \"\",\n        \"description\": \"\"\n      }\n    },\n    {\n      \"column\": \"company_size\",\n      \"properties\": {\n        \"dtype\": \"category\",\n        \"num_unique_values\": 3,\n        \"samples\": [\n          \"M\",\n          \"L\",\n          \"S\"\n        ],\n        \"semantic_type\": \"\",\n        \"description\": \"\"\n      }\n    }\n  ]\n}"
            }
          },
          "metadata": {},
          "execution_count": 144
        }
      ]
    },
    {
      "cell_type": "markdown",
      "source": [
        "**Unique Values in Categorical Columns**"
      ],
      "metadata": {
        "id": "w_YCeYM9oTpJ"
      }
    },
    {
      "cell_type": "code",
      "source": [
        "categorical_columns = ['experience_level', 'employment_type', 'job_title',\n",
        "                       'salary_currency', 'employee_residence', 'remote_ratio',\n",
        "                       'company_location', 'company_size']\n",
        "\n",
        "for col in categorical_columns:\n",
        "    unique_vals = df[col].unique()\n",
        "    unique_vals_sorted = sorted(unique_vals)\n",
        "    print(f\"Unique values in '{col}':\\n{unique_vals_sorted}\\n\")"
      ],
      "metadata": {
        "colab": {
          "base_uri": "https://localhost:8080/"
        },
        "id": "zxfNtk-7XNf-",
        "outputId": "e8eca923-e731-4bc9-849b-945cad4d32f0"
      },
      "execution_count": null,
      "outputs": [
        {
          "output_type": "stream",
          "name": "stdout",
          "text": [
            "Unique values in 'experience_level':\n",
            "['EN', 'EX', 'MI', 'SE']\n",
            "\n",
            "Unique values in 'employment_type':\n",
            "['CT', 'FL', 'FT', 'PT']\n",
            "\n",
            "Unique values in 'job_title':\n",
            "['AI Architect', 'AI Data Scientist', 'AI Developer', 'AI Engineer', 'AI Engineering Manager', 'AI Lead', 'AI Machine Learning Engineer', 'AI Product Manager', 'AI Product Owner', 'AI Programmer', 'AI Research Engineer', 'AI Research Scientist', 'AI Researcher', 'AI Scientist', 'AI Software Development Engineer', 'AI Software Engineer', 'AI Solution Architect', 'AI Specialist', 'AWS Data Architect', 'Actuarial Analyst', 'Admin & Data Analyst', 'Analyst', 'Analytics Engineer', 'Analytics Engineering Manager', 'Analytics Lead', 'Analytics Specialist', 'Applied AI ML Lead', 'Applied Data Scientist', 'Applied Machine Learning Engineer', 'Applied Machine Learning Scientist', 'Applied Research Scientist', 'Applied Scientist', 'Artificial Intelligence Engineer', 'Associate', 'Autonomous Vehicle Technician', 'Azure Data Engineer', 'BI Analyst', 'BI Data Analyst', 'BI Data Engineer', 'BI Developer', 'BI Engineer', 'Backend Engineer', 'Backend Software Engineer', 'Bear Robotics', 'Big Data Architect', 'Big Data Developer', 'Big Data Engineer', 'Bioinformatics Scientist', 'Business Analyst', 'Business Data Analyst', 'Business Intelligence', 'Business Intelligence Analyst', 'Business Intelligence Consultant', 'Business Intelligence Data Analyst', 'Business Intelligence Developer', 'Business Intelligence Engineer', 'Business Intelligence Lead', 'Business Intelligence Manager', 'Business Intelligence Specialist', 'CRM Data Analyst', 'Chatbot Developer', 'Clinical Data Operator', 'Cloud Data Architect', 'Cloud Data Engineer', 'Cloud Database Administrator', 'Cloud Database Engineer', 'Cloud Developer', 'Cloud Engineer', 'Compliance Data Analyst', 'Computational Biologist', 'Computer Vision Engineer', 'Computer Vision Software Engineer', 'Consultant', 'Consultant Data Engineer', 'Data Analyst', 'Data Analyst Lead', 'Data Analytics Associate', 'Data Analytics Consultant', 'Data Analytics Developer', 'Data Analytics Engineer', 'Data Analytics Lead', 'Data Analytics Manager', 'Data Analytics Specialist', 'Data Analytics Team Lead', 'Data Architect', 'Data DevOps Engineer', 'Data Developer', 'Data Engineer', 'Data Governance Analyst', 'Data Governance Architect', 'Data Governance Engineer', 'Data Governance Lead', 'Data Governance Manager', 'Data Governance Specialist', 'Data Infrastructure Engineer', 'Data Integration Analyst', 'Data Integration Coordinator', 'Data Integration Developer', 'Data Integration Engineer', 'Data Integration Specialist', 'Data Integrity Analyst', 'Data Lead', 'Data Management Analyst', 'Data Management Associate', 'Data Management Consultant', 'Data Management Lead', 'Data Management Manager', 'Data Management Specialist', 'Data Manager', 'Data Modeler', 'Data Operations Analyst', 'Data Operations Associate', 'Data Operations Engineer', 'Data Operations Lead', 'Data Operations Manager', 'Data Operations Specialist', 'Data Pipeline Engineer', 'Data Platform Engineer', 'Data Product Analyst', 'Data Product Manager', 'Data Product Owner', 'Data Quality Analyst', 'Data Quality Engineer', 'Data Quality Lead', 'Data Quality Manager', 'Data Quality Specialist', 'Data Reporting Analyst', 'Data Science Tech Lead', 'Data Scientist', 'Data Scientist Lead', 'Data Specialist', 'Data Strategist', 'Data Strategy Lead', 'Data Strategy Manager', 'Data Team Lead', 'Data Visualization Analyst', 'Data Visualization Developer', 'Data Visualization Engineer', 'Data Visualization Specialist', 'DataOps Engineer', 'Databricks Engineer', 'Decision Scientist', 'Deep Learning Engineer', 'Deep Learning Researcher', 'DevOps Engineer', 'Developer', 'Director of Business Intelligence', 'Director of Machine Learning', 'ETL Developer', 'ETL Engineer', 'Elasticsearch Administrator', 'Encounter Data Management Professional', 'Engineer', 'Engineering Manager', 'Finance Data Analyst', 'Financial Data Analyst', 'Frontend Engineer', 'Full Stack Developer', 'Full Stack Engineer', 'Fullstack Engineer', 'Head of AI', 'Head of Business Intelligence', 'Head of Data', 'Head of Machine Learning', 'Infrastructure Engineer', 'Insight Analyst', 'Lead AI Engineer', 'Lead Data Analyst', 'Lead Data Engineer', 'Lead Data Scientist', 'Lead Engineer', 'Lead Machine Learning Engineer', 'ML Infrastructure Engineer', 'MLOps Engineer', 'Machine Learning Architect', 'Machine Learning Developer', 'Machine Learning Engineer', 'Machine Learning Infrastructure Engineer', 'Machine Learning Lead', 'Machine Learning Manager', 'Machine Learning Model Engineer', 'Machine Learning Modeler', 'Machine Learning Performance Engineer', 'Machine Learning Platform Engineer', 'Machine Learning Quality Engineer', 'Machine Learning Research Engineer', 'Machine Learning Researcher', 'Machine Learning Scientist', 'Machine Learning Software Engineer', 'Machine Learning Specialist', 'Machine Vision Engineer', 'Manager', 'Manager Data Management', 'Marketing Analyst', 'Marketing Analytics Manager', 'Marketing Data Analyst', 'Marketing Data Engineer', 'Marketing Data Scientist', 'Master Data Management', 'Master Data Specialist', 'Member of Technical Staff', 'NLP Engineer', 'People Data Analyst', 'Platform Data Engineer', 'Platform Engineer', 'Postdoctoral Fellow', 'Power BI Administrator', 'Power BI Architect', 'Power BI Consultant', 'Power BI Developer', 'Pricing Analyst', 'Principal Application Delivery Consultant', 'Principal Data Analyst', 'Principal Data Architect', 'Principal Data Engineer', 'Principal Data Scientist', 'Principal Machine Learning Engineer', 'Principal Statistical Programmer', 'Product Analyst', 'Product Data Analyst', 'Product Designer', 'Product Manager', 'Prompt Engineer', 'Python Developer', 'QA Engineer', 'Quantitative Analyst', 'Quantitative Research Analyst', 'Quantitative Researcher', 'Research Analyst', 'Research Assistant', 'Research Associate', 'Research Engineer', 'Research Scientist', 'Robotics Engineer', 'Robotics Software Engineer', 'SAS Developer', 'Sales Data Analyst', 'Security Engineer', 'Site Reliability Engineer', 'Software Architect', 'Software Data Engineer', 'Software Developer', 'Software Development Engineer', 'Software Engineer', 'Solution Architect', 'Solution Engineer', 'Solutions Architect', 'Solutions Engineer', 'Staff Data Analyst', 'Staff Data Scientist', 'Staff Machine Learning Engineer', 'Stage', 'Statistical Programmer', 'Statistician', 'Systems Engineer', 'Technical Lead', 'Technical Specialist', 'Technical Writer']\n",
            "\n",
            "Unique values in 'salary_currency':\n",
            "['AUD', 'BRL', 'CAD', 'CHF', 'CLP', 'CZK', 'DKK', 'EUR', 'GBP', 'HKD', 'HUF', 'ILS', 'INR', 'JPY', 'MXN', 'NOK', 'NZD', 'PHP', 'PLN', 'SEK', 'SGD', 'THB', 'TRY', 'USD', 'ZAR']\n",
            "\n",
            "Unique values in 'employee_residence':\n",
            "['AD', 'AE', 'AM', 'AR', 'AS', 'AT', 'AU', 'BA', 'BE', 'BG', 'BM', 'BO', 'BR', 'CA', 'CF', 'CH', 'CL', 'CN', 'CO', 'CR', 'CY', 'CZ', 'DE', 'DK', 'DO', 'DZ', 'EC', 'EE', 'EG', 'ES', 'FI', 'FR', 'GB', 'GE', 'GH', 'GR', 'HK', 'HN', 'HR', 'HU', 'ID', 'IE', 'IL', 'IN', 'IQ', 'IR', 'IT', 'JE', 'JP', 'KE', 'KR', 'KW', 'LB', 'LT', 'LU', 'LV', 'MD', 'MT', 'MU', 'MX', 'MY', 'NG', 'NL', 'NO', 'NZ', 'OM', 'PE', 'PH', 'PK', 'PL', 'PR', 'PT', 'QA', 'RO', 'RS', 'RU', 'SA', 'SE', 'SG', 'SI', 'SK', 'TH', 'TN', 'TR', 'UA', 'UG', 'US', 'UZ', 'VE', 'VN', 'ZA']\n",
            "\n",
            "Unique values in 'remote_ratio':\n",
            "[0, 50, 100]\n",
            "\n",
            "Unique values in 'company_location':\n",
            "['AD', 'AE', 'AM', 'AR', 'AS', 'AT', 'AU', 'BA', 'BE', 'BG', 'BR', 'BS', 'CA', 'CF', 'CH', 'CL', 'CN', 'CO', 'CY', 'CZ', 'DE', 'DK', 'DZ', 'EC', 'EE', 'EG', 'ES', 'FI', 'FR', 'GB', 'GH', 'GI', 'GR', 'HK', 'HN', 'HR', 'HU', 'ID', 'IE', 'IL', 'IN', 'IQ', 'IR', 'IT', 'JP', 'KE', 'KR', 'LB', 'LT', 'LU', 'LV', 'MD', 'MT', 'MU', 'MX', 'MY', 'NG', 'NL', 'NO', 'NZ', 'OM', 'PH', 'PK', 'PL', 'PR', 'PT', 'QA', 'RO', 'RS', 'RU', 'SA', 'SE', 'SG', 'SI', 'SK', 'TH', 'TR', 'UA', 'US', 'VE', 'VN', 'ZA']\n",
            "\n",
            "Unique values in 'company_size':\n",
            "['L', 'M', 'S']\n",
            "\n"
          ]
        }
      ]
    },
    {
      "cell_type": "markdown",
      "source": [
        "**Convert Country Codes to Full Names**"
      ],
      "metadata": {
        "id": "CEWx-2kQsCY2"
      }
    },
    {
      "cell_type": "code",
      "source": [
        "def convert_country_code(code):\n",
        "    \"\"\"\n",
        "    Converts an ISO 3166-1 alpha-2 country code to the full country name.\n",
        "\n",
        "    Parameters:\n",
        "    code (str): The ISO 3166-1 alpha-2 country code (e.g., 'US' for United States).\n",
        "\n",
        "    Returns:\n",
        "    str: The full name of the country if the code is valid, or the original code if not found.\n",
        "    \"\"\"\n",
        "    try:\n",
        "        return pycountry.countries.get(alpha_2=code).name\n",
        "    except:\n",
        "        return code\n",
        "\n",
        "df['company_location'] = df['company_location'].apply(convert_country_code)"
      ],
      "metadata": {
        "id": "BkXgGvKDrkbZ"
      },
      "execution_count": null,
      "outputs": []
    },
    {
      "cell_type": "markdown",
      "source": [
        "**Map *remote_ratio*, *company_size*, and *experience_level* Columns to Descriptive Labels**"
      ],
      "metadata": {
        "id": "JEHVaY1vl4g8"
      }
    },
    {
      "cell_type": "code",
      "source": [
        "remote_ratio_mapping = {0: 'In-Office', 50: 'Hybrid', 100: 'Fully Remote'}\n",
        "company_size_mapping = {'S': 'Small', 'M': 'Medium', 'L': 'Large'}\n",
        "experience_level_mapping = {'EN': 'Entry-Level', 'MI': 'Mid-Level', 'SE': 'Senior', 'EX': 'Executive'}\n",
        "\n",
        "df['remote_ratio'] = df['remote_ratio'].map(remote_ratio_mapping)\n",
        "df['company_size'] = df['company_size'].map(company_size_mapping)\n",
        "df['experience_level'] = df['experience_level'].map(experience_level_mapping)"
      ],
      "metadata": {
        "id": "ljvKzZ4jl5ny"
      },
      "execution_count": null,
      "outputs": []
    },
    {
      "cell_type": "markdown",
      "source": [
        "**Filter Dataset for Full-Time, In-Office Roles**"
      ],
      "metadata": {
        "id": "2YoitOsnmFS5"
      }
    },
    {
      "cell_type": "code",
      "source": [
        "# Re-define initial_rows before filtering\n",
        "initial_rows = len(df)\n",
        "\n",
        "# Filter for full-time positions\n",
        "df_full_time = df[df['employment_type'] == 'FT']\n",
        "removed_rows_full_time = initial_rows - len(df_full_time)\n",
        "\n",
        "# Filter for in-office roles\n",
        "df_filtered = df_full_time[df_full_time['remote_ratio'] == 'In-Office']\n",
        "removed_rows_in_office = len(df_full_time) - len(df_filtered)\n",
        "\n",
        "# Log removed rows\n",
        "removed_rows_filtered = df[~df.index.isin(df_filtered.index)]\n",
        "\n",
        "# Save the removed rows to a CSV file for reference\n",
        "removed_rows_filtered.to_csv(\"removed_rows_filtered.csv\", index=False)\n",
        "\n",
        "# Print summary\n",
        "print(f\"Rows removed due to non-full-time positions: {removed_rows_full_time}\")\n",
        "print(f\"Rows removed due to non-in-office positions: {removed_rows_in_office}\")\n",
        "print(f\"Dataset size after filtering: {df_filtered.shape[0]} rows.\")\n",
        "print(f\"Removed rows saved to 'removed_rows_filtered.csv'.\")"
      ],
      "metadata": {
        "colab": {
          "base_uri": "https://localhost:8080/"
        },
        "id": "tvFUtc-8aNg8",
        "outputId": "ff007907-b604-4f95-e8fe-54be836dfb1d"
      },
      "execution_count": null,
      "outputs": [
        {
          "output_type": "stream",
          "name": "stdout",
          "text": [
            "Rows removed due to non-full-time positions: 231\n",
            "Rows removed due to non-in-office positions: 13219\n",
            "Dataset size after filtering: 45875 rows.\n",
            "Removed rows saved to 'removed_rows_filtered.csv'.\n"
          ]
        }
      ]
    },
    {
      "cell_type": "markdown",
      "source": [
        "**Check Duplicate Rows**"
      ],
      "metadata": {
        "id": "3FItMeOgG1oa"
      }
    },
    {
      "cell_type": "code",
      "source": [
        "duplicate_rows = df.duplicated().sum()\n",
        "print(f\"Number of duplicate rows before filtering: {duplicate_rows}\")\n",
        "\n",
        "duplicate_rows_filtered = df_filtered.duplicated().sum()\n",
        "print(f\"Number of duplicate rows after filtering: {duplicate_rows_filtered}\")"
      ],
      "metadata": {
        "colab": {
          "base_uri": "https://localhost:8080/"
        },
        "id": "jcfr0JKABkDQ",
        "outputId": "667db707-e465-440e-c957-0286fa495c45"
      },
      "execution_count": null,
      "outputs": [
        {
          "output_type": "stream",
          "name": "stdout",
          "text": [
            "Number of duplicate rows before filtering: 31212\n",
            "Number of duplicate rows after filtering: 25455\n"
          ]
        }
      ]
    },
    {
      "cell_type": "markdown",
      "source": [
        "**Company Location Counts**"
      ],
      "metadata": {
        "id": "B5_C9DkccV5B"
      }
    },
    {
      "cell_type": "code",
      "source": [
        "location_counts = df_filtered['company_location'].value_counts().sort_values(ascending=False)\n",
        "\n",
        "print(location_counts)"
      ],
      "metadata": {
        "colab": {
          "base_uri": "https://localhost:8080/"
        },
        "id": "83WpLH1pcNQj",
        "outputId": "0d010d8b-783f-402a-8510-c2ab18b1f973"
      },
      "execution_count": null,
      "outputs": [
        {
          "output_type": "stream",
          "name": "stdout",
          "text": [
            "company_location\n",
            "United States                        42001\n",
            "United Kingdom                        1372\n",
            "Canada                                1360\n",
            "Australia                              152\n",
            "Germany                                119\n",
            "Spain                                   91\n",
            "France                                  85\n",
            "Netherlands                             84\n",
            "Lithuania                               82\n",
            "Austria                                 51\n",
            "Ireland                                 47\n",
            "South Africa                            42\n",
            "Finland                                 33\n",
            "India                                   33\n",
            "Egypt                                   32\n",
            "Slovakia                                28\n",
            "Mexico                                  21\n",
            "Switzerland                             21\n",
            "Latvia                                  20\n",
            "New Zealand                             20\n",
            "Portugal                                13\n",
            "Türkiye                                 13\n",
            "Colombia                                12\n",
            "Malta                                   12\n",
            "Ukraine                                 10\n",
            "Estonia                                 10\n",
            "Israel                                   9\n",
            "Poland                                   9\n",
            "Brazil                                   9\n",
            "Lebanon                                  8\n",
            "Italy                                    8\n",
            "Philippines                              8\n",
            "Singapore                                6\n",
            "Japan                                    6\n",
            "Croatia                                  4\n",
            "Korea, Republic of                       4\n",
            "Sweden                                   4\n",
            "Honduras                                 3\n",
            "Greece                                   2\n",
            "Belgium                                  2\n",
            "Slovenia                                 2\n",
            "Cyprus                                   2\n",
            "Russian Federation                       2\n",
            "United Arab Emirates                     2\n",
            "Kenya                                    2\n",
            "Venezuela, Bolivarian Republic of        2\n",
            "Chile                                    2\n",
            "Nigeria                                  1\n",
            "Algeria                                  1\n",
            "Luxembourg                               1\n",
            "Oman                                     1\n",
            "Bosnia and Herzegovina                   1\n",
            "Hungary                                  1\n",
            "Mauritius                                1\n",
            "Ghana                                    1\n",
            "Romania                                  1\n",
            "Armenia                                  1\n",
            "Indonesia                                1\n",
            "Pakistan                                 1\n",
            "China                                    1\n",
            "Hong Kong                                1\n",
            "Moldova, Republic of                     1\n",
            "Name: count, dtype: int64\n"
          ]
        }
      ]
    },
    {
      "cell_type": "markdown",
      "source": [
        "**Aggregate Salary Data by taking the Median Salary for each group of Key Columns**"
      ],
      "metadata": {
        "id": "fJHnNHzgnDbk"
      }
    },
    {
      "cell_type": "code",
      "source": [
        "# Aggregate Salary Data by taking the Median Salary for each group of key columns\n",
        "df_aggregated = df_filtered.groupby([\n",
        "    'work_year', 'experience_level', 'employment_type', 'job_title',\n",
        "    'company_location', 'company_size', 'salary_currency',\n",
        "    'employee_residence', 'remote_ratio'],\n",
        "    as_index=False).agg({\n",
        "        'salary_in_usd': 'median'  # Use median for salary aggregation\n",
        "    })\n",
        "\n",
        "# Identify rows that were removed during aggregation (not included in df_aggregated)\n",
        "removed_rows_aggregated = df_filtered[\n",
        "    ~df_filtered.index.isin(df_aggregated.index)\n",
        "]\n",
        "\n",
        "# Save the removed rows to a CSV file for reference\n",
        "removed_rows_aggregated.to_csv(\"removed_rows_aggregated.csv\", index=False)\n",
        "\n",
        "print(f\"Original dataset size: {len(df)}\")\n",
        "print(f\"Cleaned dataset size: {len(df_aggregated)}\")"
      ],
      "metadata": {
        "colab": {
          "base_uri": "https://localhost:8080/"
        },
        "id": "V0Uz8wRfnGRk",
        "outputId": "3b2db7e8-3218-4ab0-f549-e0edc8ab090e"
      },
      "execution_count": null,
      "outputs": [
        {
          "output_type": "stream",
          "name": "stdout",
          "text": [
            "Original dataset size: 59325\n",
            "Cleaned dataset size: 1442\n"
          ]
        }
      ]
    },
    {
      "cell_type": "markdown",
      "source": [
        "**Job Title Counts after Salary Aggregation**"
      ],
      "metadata": {
        "id": "O3JKUAPDc3wE"
      }
    },
    {
      "cell_type": "code",
      "source": [
        "num_job_titles = df_aggregated['job_title'].nunique()\n",
        "\n",
        "print(f\"Number of unique job titles: {num_job_titles}\")"
      ],
      "metadata": {
        "colab": {
          "base_uri": "https://localhost:8080/"
        },
        "id": "pypDpTOdbAL8",
        "outputId": "c99f0148-1298-4453-c7f1-2bfee23091a1"
      },
      "execution_count": null,
      "outputs": [
        {
          "output_type": "stream",
          "name": "stdout",
          "text": [
            "Number of unique job titles: 211\n"
          ]
        }
      ]
    },
    {
      "cell_type": "markdown",
      "source": [
        "**Company Location Counts after Salary Aggregation**"
      ],
      "metadata": {
        "id": "IRRy-nkdeCfI"
      }
    },
    {
      "cell_type": "code",
      "source": [
        "pd.set_option('display.max_rows', None)\n",
        "\n",
        "location_counts = df_aggregated['company_location'].value_counts()\n",
        "\n",
        "print(location_counts)"
      ],
      "metadata": {
        "colab": {
          "base_uri": "https://localhost:8080/"
        },
        "id": "bDjwOQz5IGTs",
        "outputId": "c246fbfb-4cbf-43f9-d663-5911164743f7"
      },
      "execution_count": null,
      "outputs": [
        {
          "output_type": "stream",
          "name": "stdout",
          "text": [
            "company_location\n",
            "United States                        692\n",
            "United Kingdom                       184\n",
            "Canada                               158\n",
            "Germany                               47\n",
            "Australia                             40\n",
            "Netherlands                           28\n",
            "France                                27\n",
            "Lithuania                             25\n",
            "India                                 17\n",
            "Ireland                               17\n",
            "Austria                               17\n",
            "Spain                                 16\n",
            "South Africa                          14\n",
            "Slovakia                              11\n",
            "Finland                               10\n",
            "Latvia                                 9\n",
            "Switzerland                            9\n",
            "Mexico                                 9\n",
            "Egypt                                  8\n",
            "New Zealand                            8\n",
            "Brazil                                 5\n",
            "Türkiye                                5\n",
            "Portugal                               5\n",
            "Italy                                  5\n",
            "Colombia                               5\n",
            "Poland                                 5\n",
            "Estonia                                4\n",
            "Ukraine                                4\n",
            "Malta                                  4\n",
            "Lebanon                                4\n",
            "Japan                                  4\n",
            "Philippines                            4\n",
            "Israel                                 3\n",
            "Singapore                              3\n",
            "Korea, Republic of                     3\n",
            "Croatia                                3\n",
            "Honduras                               2\n",
            "United Arab Emirates                   2\n",
            "Sweden                                 2\n",
            "Russian Federation                     2\n",
            "Chile                                  1\n",
            "Venezuela, Bolivarian Republic of      1\n",
            "Bosnia and Herzegovina                 1\n",
            "Kenya                                  1\n",
            "Luxembourg                             1\n",
            "Cyprus                                 1\n",
            "Algeria                                1\n",
            "Mauritius                              1\n",
            "Romania                                1\n",
            "Oman                                   1\n",
            "Armenia                                1\n",
            "Hong Kong                              1\n",
            "Slovenia                               1\n",
            "Nigeria                                1\n",
            "Hungary                                1\n",
            "Greece                                 1\n",
            "Pakistan                               1\n",
            "Indonesia                              1\n",
            "Moldova, Republic of                   1\n",
            "Ghana                                  1\n",
            "China                                  1\n",
            "Belgium                                1\n",
            "Name: count, dtype: int64\n"
          ]
        }
      ]
    },
    {
      "cell_type": "markdown",
      "source": [
        "**Salary Distribution Across Top 10 Countries**"
      ],
      "metadata": {
        "id": "sWueXWY6LhNG"
      }
    },
    {
      "cell_type": "code",
      "source": [
        "# Group the filtered dataset by company location and calculate the average salary\n",
        "country_salary_distribution = (\n",
        "    df_aggregated.groupby('company_location')['salary_in_usd']\n",
        "    .mean()\n",
        "    .sort_values(ascending=False)\n",
        ")\n",
        "\n",
        "# Select the top 10 countries with the highest average salary\n",
        "top_10_countries = country_salary_distribution.head(10)\n",
        "\n",
        "# Plot a bar chart\n",
        "plt.figure(figsize=(12, 6))\n",
        "sns.barplot(\n",
        "    x=top_10_countries.index,\n",
        "    y=top_10_countries.values,\n",
        ")\n",
        "\n",
        "# Customize the chart\n",
        "plt.title(\"Top 10 Countries by Average Salary (in USD)\", fontsize=16)\n",
        "plt.xlabel(\"Company Location\", fontsize=12)\n",
        "plt.ylabel(\"Average Salary (USD)\", fontsize=12)\n",
        "plt.xticks(rotation=45, ha='right')\n",
        "plt.grid(axis='y', linestyle='--', alpha=0.7)\n",
        "\n",
        "# Display the chart\n",
        "plt.tight_layout()\n",
        "plt.show()"
      ],
      "metadata": {
        "colab": {
          "base_uri": "https://localhost:8080/"
        },
        "id": "Oj_lUz-bKJV8",
        "outputId": "0210179e-328f-454b-d201-3ed7356c10ce"
      },
      "execution_count": null,
      "outputs": [
        {
          "output_type": "display_data",
          "data": {
            "text/plain": [
              "<Figure size 1200x600 with 1 Axes>"
            ],
            "image/png": "[encoded data removed]"
          },
          "metadata": {}
        }
      ]
    },
    {
      "cell_type": "markdown",
      "source": [
        "**Location Count Threshold Filtering for Aggregated Data**\n",
        "*   This step is designed to filter out locations that have fewer than the\n",
        "specified threshold of records.\n",
        "*   Removing locations with sparse data helps ensure that the salary trends we analyze are statistically relevant and not skewed by outliers or underrepresented regions.\n",
        "*   This threshold is flexible and can be adjusted based on the nature of the dataset and the desired balance between including more locations and maintaining statistical reliability.\n",
        "*   **Threshold of 50:** Retains 3 countries (United States, United Kingdom, and Canada).\n",
        "*   This decision was made to ensure a sufficient sample size for reliable salary analysis by location, given that the aggregated dataframe still contains 211 unique job titles.\n",
        "*   Countries with fewer than 50 observations, such as Germany and others, were excluded to avoid having job titles with too few data points, which could lead to statistical instability.\n",
        "\n",
        "\n",
        "\n",
        "\n",
        "\n"
      ],
      "metadata": {
        "id": "X_Gn7lz0eoL8"
      }
    },
    {
      "cell_type": "code",
      "source": [
        "# Define the threshold for location count filtering\n",
        "threshold = 50\n",
        "\n",
        "# Filter the dataset to keep locations with counts greater than or equal to the threshold\n",
        "filtered_location_counts = location_counts[location_counts >= threshold]\n",
        "\n",
        "# Filter the main dataset (df_aggregated) to include only the locations that meet the threshold\n",
        "df_filtered_location = df_aggregated[df_aggregated['company_location'].isin(filtered_location_counts.index)]\n",
        "\n",
        "# Identify the rows that were removed due to the threshold filter\n",
        "removed_rows_location = df_aggregated[~df_aggregated['company_location'].isin(filtered_location_counts.index)]\n",
        "\n",
        "# Save the removed rows to a CSV file for reference\n",
        "removed_rows_location.to_csv(\"removed_rows_location.csv\", index=False)\n",
        "\n",
        "# Print the summary of the filtering process\n",
        "removed_rows_count = len(removed_rows_location)\n",
        "print(f\"Rows removed due to location count threshold: {removed_rows_count}\")\n",
        "print(f\"Dataset size after location filtering: {df_filtered_location.shape[0]} rows.\")"
      ],
      "metadata": {
        "colab": {
          "base_uri": "https://localhost:8080/"
        },
        "id": "sGb6fPmLJNKG",
        "outputId": "3b8e314e-4158-44d4-dc24-8bd15bf1b83f"
      },
      "execution_count": null,
      "outputs": [
        {
          "output_type": "stream",
          "name": "stdout",
          "text": [
            "Rows removed due to location count threshold: 408\n",
            "Dataset size after location filtering: 1034 rows.\n"
          ]
        }
      ]
    },
    {
      "cell_type": "markdown",
      "source": [
        "**Distribution of Company Location Counts**"
      ],
      "metadata": {
        "id": "fnWtmvKEh4iu"
      }
    },
    {
      "cell_type": "code",
      "source": [
        "# Count the occurrences of each company location\n",
        "location_counts = df_filtered_location['company_location'].value_counts()\n",
        "\n",
        "# Plotting the pie chart\n",
        "plt.figure(figsize=(8, 8))\n",
        "plt.pie(location_counts, labels=location_counts.index, autopct='%1.1f%%', startangle=140)\n",
        "plt.title('Distribution of Company Location Counts')\n",
        "plt.axis('equal')  # Equal aspect ratio ensures that pie is drawn as a circle.\n",
        "plt.show()"
      ],
      "metadata": {
        "colab": {
          "base_uri": "https://localhost:8080/"
        },
        "id": "mCfTOUq1hrm_",
        "outputId": "5310f073-909d-4c9a-88e4-f0066fef252b"
      },
      "execution_count": null,
      "outputs": [
        {
          "output_type": "display_data",
          "data": {
            "text/plain": [
              "<Figure size 800x800 with 1 Axes>"
            ],
            "image/png": "[encoded data removed]"
          },
          "metadata": {}
        }
      ]
    },
    {
      "cell_type": "markdown",
      "source": [
        "**Plot Salary Distribution for Outlier Detection**"
      ],
      "metadata": {
        "id": "tkuNOJmHP4Ld"
      }
    },
    {
      "cell_type": "code",
      "source": [
        "# Set up the plot size\n",
        "plt.figure(figsize=(10, 6))\n",
        "\n",
        "# Create a boxplot for the 'salary_in_usd' column without any categorization\n",
        "sns.boxplot(x=df_filtered_location['salary_in_usd'])\n",
        "\n",
        "# Set plot title and labels\n",
        "plt.title('Salary Distribution (USD) with Outlier Detection')\n",
        "plt.xlabel('Salary (USD)')\n",
        "\n",
        "# Show the plot\n",
        "plt.tight_layout()\n",
        "plt.show()"
      ],
      "metadata": {
        "colab": {
          "base_uri": "https://localhost:8080/"
        },
        "id": "s4K_MtugPazN",
        "outputId": "bfe3038f-59a4-4114-9261-101fd42dac0b"
      },
      "execution_count": null,
      "outputs": [
        {
          "output_type": "display_data",
          "data": {
            "text/plain": [
              "<Figure size 1000x600 with 1 Axes>"
            ],
            "image/png": "[encoded data removed]"
          },
          "metadata": {}
        }
      ]
    },
    {
      "cell_type": "markdown",
      "source": [
        "**Capping Outliers in Salary Data**\n",
        "*   In this step, salary values that fall outside the 5th and 95th percentiles for each combination of work year, experience level, company location, and company size are capped.\n",
        "*   Job title is not capped because with a high number of unique job titles, the cap would have minimal effect on the data.\n",
        "*   This approach helps mitigate the influence of extreme salary values, ensuring that the data is more representative of typical salary trends within each group.\n",
        "\n",
        "\n",
        "\n"
      ],
      "metadata": {
        "id": "Sdbpk5yBSja0"
      }
    },
    {
      "cell_type": "code",
      "source": [
        "def cap_outliers_by_key_factors(df_filtered_location):\n",
        "    \"\"\"\n",
        "    Caps outliers in the 'salary_in_usd' column based on a combination of work year, experience level,\n",
        "    company location, and company size (excluding job title).\n",
        "\n",
        "    Parameters:\n",
        "    - df_filtered_location (pandas.DataFrame): The filtered dataframe containing salary information.\n",
        "\n",
        "    Returns:\n",
        "    - pandas.DataFrame: A new dataframe with capped outliers.\n",
        "    \"\"\"\n",
        "    # Create a copy of the dataframe to avoid modifying the original\n",
        "    df_capped = df_filtered_location.copy()\n",
        "\n",
        "    # Loop through each combination of work year, employment level, company location, and company size\n",
        "    for (year, experience, location, size) in df_capped.groupby(['work_year', 'experience_level', 'company_location', 'company_size']).groups:\n",
        "        # Filter the dataframe for this combination\n",
        "        group_df = df_capped[\n",
        "            (df_capped['work_year'] == year) &\n",
        "            (df_capped['experience_level'] == experience) &\n",
        "            (df_capped['company_location'] == location) &\n",
        "            (df_capped['company_size'] == size)\n",
        "        ]\n",
        "\n",
        "        # Calculate the 5th and 95th percentiles for salary within this group\n",
        "        lower_percentile = np.percentile(group_df['salary_in_usd'], 5)\n",
        "        upper_percentile = np.percentile(group_df['salary_in_usd'], 95)\n",
        "\n",
        "        # Cap salaries outside the 5th-95th percentile range\n",
        "        df_capped.loc[\n",
        "            (df_capped['work_year'] == year) &\n",
        "            (df_capped['experience_level'] == experience) &\n",
        "            (df_capped['company_location'] == location) &\n",
        "            (df_capped['company_size'] == size) &\n",
        "            (df_capped['salary_in_usd'] < lower_percentile), 'salary_in_usd'] = lower_percentile\n",
        "\n",
        "        df_capped.loc[\n",
        "            (df_capped['work_year'] == year) &\n",
        "            (df_capped['experience_level'] == experience) &\n",
        "            (df_capped['company_location'] == location) &\n",
        "            (df_capped['company_size'] == size) &\n",
        "            (df_capped['salary_in_usd'] > upper_percentile), 'salary_in_usd'] = upper_percentile\n",
        "\n",
        "    # Identify capped outliers\n",
        "    capped_outliers = df_filtered_location[df_filtered_location['salary_in_usd'] != df_capped['salary_in_usd']]\n",
        "\n",
        "    # Save the capped outliers to a CSV file\n",
        "    capped_outliers.to_csv(\"capped_outliers.csv\", index=False)\n",
        "\n",
        "    # Print how many rows were capped\n",
        "    print(f\"{len(capped_outliers)} rows were capped based on work year, experience level, company location, and company size.\")\n",
        "\n",
        "    return df_capped\n",
        "\n",
        "# Apply the capping function to the df_filtered_location dataframe\n",
        "df_capped_key_factors = cap_outliers_by_key_factors(df_filtered_location)\n",
        "\n",
        "# Check the size of the dataset after capping\n",
        "print(f\"Dataset size after capping: {len(df_capped_key_factors)}\")\n"
      ],
      "metadata": {
        "colab": {
          "base_uri": "https://localhost:8080/"
        },
        "id": "lj8PzJYKR3R0",
        "outputId": "6051c36d-506c-42e0-931b-b0e364bd6be4"
      },
      "execution_count": null,
      "outputs": [
        {
          "output_type": "stream",
          "name": "stdout",
          "text": [
            "149 rows were capped based on work year, experience level, company location, and company size.\n",
            "Dataset size after capping: 1034\n"
          ]
        }
      ]
    },
    {
      "cell_type": "markdown",
      "source": [
        "**Salary Distribution Comparison: Before and After Capping Outliers**"
      ],
      "metadata": {
        "id": "flSOIz1MZdjl"
      }
    },
    {
      "cell_type": "code",
      "source": [
        "# Set up the plot size and layout for side-by-side plots\n",
        "plt.figure(figsize=(14, 6))\n",
        "\n",
        "# Plot 1: Histogram of salary distribution before capping\n",
        "plt.subplot(1, 2, 1)\n",
        "sns.histplot(df_filtered_location['salary_in_usd'], kde=True, color='blue', bins=30)\n",
        "plt.title('Before Capping: Salary Distribution')\n",
        "plt.xlabel('Salary (USD)')\n",
        "plt.ylabel('Frequency')\n",
        "\n",
        "# Plot 2: Histogram of salary distribution after capping\n",
        "plt.subplot(1, 2, 2)\n",
        "sns.histplot(df_capped_key_factors['salary_in_usd'], kde=True, color='red', bins=30)\n",
        "plt.title('After Capping: Salary Distribution')\n",
        "plt.xlabel('Salary (USD)')\n",
        "plt.ylabel('Frequency')\n",
        "\n",
        "# Adjust the layout for better spacing between plots\n",
        "plt.tight_layout()\n",
        "\n",
        "# Show the plots\n",
        "plt.show()\n",
        "\n",
        "# Perform a Kolmogorov-Smirnov test to compare salary distributions\n",
        "ks_stat, p_value = ks_2samp(df_filtered_location['salary_in_usd'], df_capped_key_factors['salary_in_usd'])\n",
        "\n",
        "# Print the result\n",
        "print(f\"KS-statistic: {ks_stat:.4f}, p-value: {p_value:.4f}\")\n",
        "\n",
        "# Interpretation:\n",
        "if p_value < 0.05:\n",
        "    print(\"The distributions are significantly different.\")\n",
        "else:\n",
        "    print(\"The distributions are not significantly different.\")"
      ],
      "metadata": {
        "colab": {
          "base_uri": "https://localhost:8080/"
        },
        "id": "byLHLrb4jmzo",
        "outputId": "6ef9b6cb-9a3b-4aa4-8254-47e66e417f90"
      },
      "execution_count": null,
      "outputs": [
        {
          "output_type": "display_data",
          "data": {
            "text/plain": [
              "<Figure size 1400x600 with 2 Axes>"
            ],
            "image/png": "[encoded data removed]"
          },
          "metadata": {}
        },
        {
          "output_type": "stream",
          "name": "stdout",
          "text": [
            "KS-statistic: 0.0222, p-value: 0.9603\n",
            "The distributions are not significantly different.\n"
          ]
        }
      ]
    },
    {
      "cell_type": "markdown",
      "source": [
        "*   Although extreme values have been capped, the underlying salary distribution remains almost identical.\n",
        "*   The test results confirm that the capping process did not introduce significant distortion in the data.\n",
        "*   It effectively handled the outliers but left the rest of the data structure intact.\n",
        "\n",
        "\n",
        "\n",
        "\n"
      ],
      "metadata": {
        "id": "pf9u8fJ0mU3b"
      }
    },
    {
      "cell_type": "markdown",
      "source": [
        "**Drop Columns Not required for the Analysis**"
      ],
      "metadata": {
        "id": "SusedZ24uJud"
      }
    },
    {
      "cell_type": "code",
      "source": [
        "df_cleaned = df_capped_key_factors.drop(columns=['employment_type', 'remote_ratio', 'employee_residence', 'salary_currency'])"
      ],
      "metadata": {
        "id": "F2vl88Z9pGmK"
      },
      "execution_count": null,
      "outputs": []
    },
    {
      "cell_type": "markdown",
      "source": [
        "**Cleaned Dataset Overview**"
      ],
      "metadata": {
        "id": "TxZyaqogbGld"
      }
    },
    {
      "cell_type": "code",
      "source": [
        "df_cleaned.head()"
      ],
      "metadata": {
        "colab": {
          "base_uri": "https://localhost:8080/"
        },
        "id": "quPJfiy3QAvf",
        "outputId": "f697944f-cf99-4d19-cfd6-2e3cb0c21dc9"
      },
      "execution_count": null,
      "outputs": [
        {
          "output_type": "execute_result",
          "data": {
            "text/plain": [
              "    work_year experience_level               job_title company_location  \\\n",
              "5        2020        Executive      Staff Data Analyst           Canada   \n",
              "6        2020        Mid-Level         BI Data Analyst    United States   \n",
              "7        2020        Mid-Level   Business Data Analyst    United States   \n",
              "13       2020        Mid-Level      Research Scientist    United States   \n",
              "17       2021      Entry-Level  Applied Data Scientist   United Kingdom   \n",
              "\n",
              "   company_size  salary_in_usd  \n",
              "5        Medium        15000.0  \n",
              "6        Medium        98000.0  \n",
              "7        Medium        95300.0  \n",
              "13       Medium       414800.0  \n",
              "17        Large       110037.0  "
            ],
            "text/html": [
              "\n",
              "  <div id=\"df-19d1b6ae-f2f5-4770-ae48-fa9f607c96b8\" class=\"colab-df-container\">\n",
              "    <div>\n",
              "<style scoped>\n",
              "    .dataframe tbody tr th:only-of-type {\n",
              "        vertical-align: middle;\n",
              "    }\n",
              "\n",
              "    .dataframe tbody tr th {\n",
              "        vertical-align: top;\n",
              "    }\n",
              "\n",
              "    .dataframe thead th {\n",
              "        text-align: right;\n",
              "    }\n",
              "</style>\n",
              "<table border=\"1\" class=\"dataframe\">\n",
              "  <thead>\n",
              "    <tr style=\"text-align: right;\">\n",
              "      <th></th>\n",
              "      <th>work_year</th>\n",
              "      <th>experience_level</th>\n",
              "      <th>job_title</th>\n",
              "      <th>company_location</th>\n",
              "      <th>company_size</th>\n",
              "      <th>salary_in_usd</th>\n",
              "    </tr>\n",
              "  </thead>\n",
              "  <tbody>\n",
              "    <tr>\n",
              "      <th>5</th>\n",
              "      <td>2020</td>\n",
              "      <td>Executive</td>\n",
              "      <td>Staff Data Analyst</td>\n",
              "      <td>Canada</td>\n",
              "      <td>Medium</td>\n",
              "      <td>15000.0</td>\n",
              "    </tr>\n",
              "    <tr>\n",
              "      <th>6</th>\n",
              "      <td>2020</td>\n",
              "      <td>Mid-Level</td>\n",
              "      <td>BI Data Analyst</td>\n",
              "      <td>United States</td>\n",
              "      <td>Medium</td>\n",
              "      <td>98000.0</td>\n",
              "    </tr>\n",
              "    <tr>\n",
              "      <th>7</th>\n",
              "      <td>2020</td>\n",
              "      <td>Mid-Level</td>\n",
              "      <td>Business Data Analyst</td>\n",
              "      <td>United States</td>\n",
              "      <td>Medium</td>\n",
              "      <td>95300.0</td>\n",
              "    </tr>\n",
              "    <tr>\n",
              "      <th>13</th>\n",
              "      <td>2020</td>\n",
              "      <td>Mid-Level</td>\n",
              "      <td>Research Scientist</td>\n",
              "      <td>United States</td>\n",
              "      <td>Medium</td>\n",
              "      <td>414800.0</td>\n",
              "    </tr>\n",
              "    <tr>\n",
              "      <th>17</th>\n",
              "      <td>2021</td>\n",
              "      <td>Entry-Level</td>\n",
              "      <td>Applied Data Scientist</td>\n",
              "      <td>United Kingdom</td>\n",
              "      <td>Large</td>\n",
              "      <td>110037.0</td>\n",
              "    </tr>\n",
              "  </tbody>\n",
              "</table>\n",
              "</div>\n",
              "    <div class=\"colab-df-buttons\">\n",
              "\n",
              "  <div class=\"colab-df-container\">\n",
              "    <button class=\"colab-df-convert\" onclick=\"convertToInteractive('df-19d1b6ae-f2f5-4770-ae48-fa9f607c96b8')\"\n",
              "            title=\"Convert this dataframe to an interactive table.\"\n",
              "            style=\"display:none;\">\n",
              "\n",
              "  <svg xmlns=\"http://www.w3.org/2000/svg\" height=\"24px\" viewBox=\"0 -960 960 960\">\n",
              "    <path d=\"M120-120v-720h720v720H120Zm60-500h600v-160H180v160Zm220 220h160v-160H400v160Zm0 220h160v-160H400v160ZM180-400h160v-160H180v160Zm440 0h160v-160H620v160ZM180-180h160v-160H180v160Zm440 0h160v-160H620v160Z\"/>\n",
              "  </svg>\n",
              "    </button>\n",
              "\n",
              "  <style>\n",
              "    .colab-df-container {\n",
              "      display:flex;\n",
              "      gap: 12px;\n",
              "    }\n",
              "\n",
              "    .colab-df-convert {\n",
              "      background-color: #E8F0FE;\n",
              "      border: none;\n",
              "      border-radius: 50%;\n",
              "      cursor: pointer;\n",
              "      display: none;\n",
              "      fill: #1967D2;\n",
              "      height: 32px;\n",
              "      padding: 0 0 0 0;\n",
              "      width: 32px;\n",
              "    }\n",
              "\n",
              "    .colab-df-convert:hover {\n",
              "      background-color: #E2EBFA;\n",
              "      box-shadow: 0px 1px 2px rgba(60, 64, 67, 0.3), 0px 1px 3px 1px rgba(60, 64, 67, 0.15);\n",
              "      fill: #174EA6;\n",
              "    }\n",
              "\n",
              "    .colab-df-buttons div {\n",
              "      margin-bottom: 4px;\n",
              "    }\n",
              "\n",
              "    [theme=dark] .colab-df-convert {\n",
              "      background-color: #3B4455;\n",
              "      fill: #D2E3FC;\n",
              "    }\n",
              "\n",
              "    [theme=dark] .colab-df-convert:hover {\n",
              "      background-color: #434B5C;\n",
              "      box-shadow: 0px 1px 3px 1px rgba(0, 0, 0, 0.15);\n",
              "      filter: drop-shadow(0px 1px 2px rgba(0, 0, 0, 0.3));\n",
              "      fill: #FFFFFF;\n",
              "    }\n",
              "  </style>\n",
              "\n",
              "    <script>\n",
              "      const buttonEl =\n",
              "        document.querySelector('#df-19d1b6ae-f2f5-4770-ae48-fa9f607c96b8 button.colab-df-convert');\n",
              "      buttonEl.style.display =\n",
              "        google.colab.kernel.accessAllowed ? 'block' : 'none';\n",
              "\n",
              "      async function convertToInteractive(key) {\n",
              "        const element = document.querySelector('#df-19d1b6ae-f2f5-4770-ae48-fa9f607c96b8');\n",
              "        const dataTable =\n",
              "          await google.colab.kernel.invokeFunction('convertToInteractive',\n",
              "                                                    [key], {});\n",
              "        if (!dataTable) return;\n",
              "\n",
              "        const docLinkHtml = 'Like what you see? Visit the ' +\n",
              "          '<a target=\"_blank\" href=https://colab.research.google.com/notebooks/data_table.ipynb>data table notebook</a>'\n",
              "          + ' to learn more about interactive tables.';\n",
              "        element.innerHTML = '';\n",
              "        dataTable['output_type'] = 'display_data';\n",
              "        await google.colab.output.renderOutput(dataTable, element);\n",
              "        const docLink = document.createElement('div');\n",
              "        docLink.innerHTML = docLinkHtml;\n",
              "        element.appendChild(docLink);\n",
              "      }\n",
              "    </script>\n",
              "  </div>\n",
              "\n",
              "\n",
              "<div id=\"df-71901875-57cd-4407-9d1a-415b854a0ee9\">\n",
              "  <button class=\"colab-df-quickchart\" onclick=\"quickchart('df-71901875-57cd-4407-9d1a-415b854a0ee9')\"\n",
              "            title=\"Suggest charts\"\n",
              "            style=\"display:none;\">\n",
              "\n",
              "<svg xmlns=\"http://www.w3.org/2000/svg\" height=\"24px\"viewBox=\"0 0 24 24\"\n",
              "     width=\"24px\">\n",
              "    <g>\n",
              "        <path d=\"M19 3H5c-1.1 0-2 .9-2 2v14c0 1.1.9 2 2 2h14c1.1 0 2-.9 2-2V5c0-1.1-.9-2-2-2zM9 17H7v-7h2v7zm4 0h-2V7h2v10zm4 0h-2v-4h2v4z\"/>\n",
              "    </g>\n",
              "</svg>\n",
              "  </button>\n",
              "\n",
              "<style>\n",
              "  .colab-df-quickchart {\n",
              "      --bg-color: #E8F0FE;\n",
              "      --fill-color: #1967D2;\n",
              "      --hover-bg-color: #E2EBFA;\n",
              "      --hover-fill-color: #174EA6;\n",
              "      --disabled-fill-color: #AAA;\n",
              "      --disabled-bg-color: #DDD;\n",
              "  }\n",
              "\n",
              "  [theme=dark] .colab-df-quickchart {\n",
              "      --bg-color: #3B4455;\n",
              "      --fill-color: #D2E3FC;\n",
              "      --hover-bg-color: #434B5C;\n",
              "      --hover-fill-color: #FFFFFF;\n",
              "      --disabled-bg-color: #3B4455;\n",
              "      --disabled-fill-color: #666;\n",
              "  }\n",
              "\n",
              "  .colab-df-quickchart {\n",
              "    background-color: var(--bg-color);\n",
              "    border: none;\n",
              "    border-radius: 50%;\n",
              "    cursor: pointer;\n",
              "    display: none;\n",
              "    fill: var(--fill-color);\n",
              "    height: 32px;\n",
              "    padding: 0;\n",
              "    width: 32px;\n",
              "  }\n",
              "\n",
              "  .colab-df-quickchart:hover {\n",
              "    background-color: var(--hover-bg-color);\n",
              "    box-shadow: 0 1px 2px rgba(60, 64, 67, 0.3), 0 1px 3px 1px rgba(60, 64, 67, 0.15);\n",
              "    fill: var(--button-hover-fill-color);\n",
              "  }\n",
              "\n",
              "  .colab-df-quickchart-complete:disabled,\n",
              "  .colab-df-quickchart-complete:disabled:hover {\n",
              "    background-color: var(--disabled-bg-color);\n",
              "    fill: var(--disabled-fill-color);\n",
              "    box-shadow: none;\n",
              "  }\n",
              "\n",
              "  .colab-df-spinner {\n",
              "    border: 2px solid var(--fill-color);\n",
              "    border-color: transparent;\n",
              "    border-bottom-color: var(--fill-color);\n",
              "    animation:\n",
              "      spin 1s steps(1) infinite;\n",
              "  }\n",
              "\n",
              "  @keyframes spin {\n",
              "    0% {\n",
              "      border-color: transparent;\n",
              "      border-bottom-color: var(--fill-color);\n",
              "      border-left-color: var(--fill-color);\n",
              "    }\n",
              "    20% {\n",
              "      border-color: transparent;\n",
              "      border-left-color: var(--fill-color);\n",
              "      border-top-color: var(--fill-color);\n",
              "    }\n",
              "    30% {\n",
              "      border-color: transparent;\n",
              "      border-left-color: var(--fill-color);\n",
              "      border-top-color: var(--fill-color);\n",
              "      border-right-color: var(--fill-color);\n",
              "    }\n",
              "    40% {\n",
              "      border-color: transparent;\n",
              "      border-right-color: var(--fill-color);\n",
              "      border-top-color: var(--fill-color);\n",
              "    }\n",
              "    60% {\n",
              "      border-color: transparent;\n",
              "      border-right-color: var(--fill-color);\n",
              "    }\n",
              "    80% {\n",
              "      border-color: transparent;\n",
              "      border-right-color: var(--fill-color);\n",
              "      border-bottom-color: var(--fill-color);\n",
              "    }\n",
              "    90% {\n",
              "      border-color: transparent;\n",
              "      border-bottom-color: var(--fill-color);\n",
              "    }\n",
              "  }\n",
              "</style>\n",
              "\n",
              "  <script>\n",
              "    async function quickchart(key) {\n",
              "      const quickchartButtonEl =\n",
              "        document.querySelector('#' + key + ' button');\n",
              "      quickchartButtonEl.disabled = true;  // To prevent multiple clicks.\n",
              "      quickchartButtonEl.classList.add('colab-df-spinner');\n",
              "      try {\n",
              "        const charts = await google.colab.kernel.invokeFunction(\n",
              "            'suggestCharts', [key], {});\n",
              "      } catch (error) {\n",
              "        console.error('Error during call to suggestCharts:', error);\n",
              "      }\n",
              "      quickchartButtonEl.classList.remove('colab-df-spinner');\n",
              "      quickchartButtonEl.classList.add('colab-df-quickchart-complete');\n",
              "    }\n",
              "    (() => {\n",
              "      let quickchartButtonEl =\n",
              "        document.querySelector('#df-71901875-57cd-4407-9d1a-415b854a0ee9 button');\n",
              "      quickchartButtonEl.style.display =\n",
              "        google.colab.kernel.accessAllowed ? 'block' : 'none';\n",
              "    })();\n",
              "  </script>\n",
              "</div>\n",
              "\n",
              "    </div>\n",
              "  </div>\n"
            ],
            "application/vnd.google.colaboratory.intrinsic+json": {
              "type": "dataframe",
              "variable_name": "df_cleaned",
              "summary": "{\n  \"name\": \"df_cleaned\",\n  \"rows\": 1034,\n  \"fields\": [\n    {\n      \"column\": \"work_year\",\n      \"properties\": {\n        \"dtype\": \"number\",\n        \"std\": 0,\n        \"min\": 2020,\n        \"max\": 2024,\n        \"num_unique_values\": 5,\n        \"samples\": [\n          2021,\n          2024,\n          2022\n        ],\n        \"semantic_type\": \"\",\n        \"description\": \"\"\n      }\n    },\n    {\n      \"column\": \"experience_level\",\n      \"properties\": {\n        \"dtype\": \"category\",\n        \"num_unique_values\": 4,\n        \"samples\": [\n          \"Mid-Level\",\n          \"Senior\",\n          \"Executive\"\n        ],\n        \"semantic_type\": \"\",\n        \"description\": \"\"\n      }\n    },\n    {\n      \"column\": \"job_title\",\n      \"properties\": {\n        \"dtype\": \"category\",\n        \"num_unique_values\": 200,\n        \"samples\": [\n          \"DevOps Engineer\",\n          \"Analytics Engineer\",\n          \"Data Integration Specialist\"\n        ],\n        \"semantic_type\": \"\",\n        \"description\": \"\"\n      }\n    },\n    {\n      \"column\": \"company_location\",\n      \"properties\": {\n        \"dtype\": \"category\",\n        \"num_unique_values\": 3,\n        \"samples\": [\n          \"Canada\",\n          \"United States\",\n          \"United Kingdom\"\n        ],\n        \"semantic_type\": \"\",\n        \"description\": \"\"\n      }\n    },\n    {\n      \"column\": \"company_size\",\n      \"properties\": {\n        \"dtype\": \"category\",\n        \"num_unique_values\": 3,\n        \"samples\": [\n          \"Medium\",\n          \"Large\",\n          \"Small\"\n        ],\n        \"semantic_type\": \"\",\n        \"description\": \"\"\n      }\n    },\n    {\n      \"column\": \"salary_in_usd\",\n      \"properties\": {\n        \"dtype\": \"number\",\n        \"std\": 52428.92607772631,\n        \"min\": 15000.0,\n        \"max\": 414800.0,\n        \"num_unique_values\": 723,\n        \"samples\": [\n          73650.0,\n          165600.0,\n          119500.0\n        ],\n        \"semantic_type\": \"\",\n        \"description\": \"\"\n      }\n    }\n  ]\n}"
            }
          },
          "metadata": {},
          "execution_count": 161
        }
      ]
    },
    {
      "cell_type": "markdown",
      "source": [
        "**Cleaned Dataset Info**"
      ],
      "metadata": {
        "id": "9d2WoYRxpQp4"
      }
    },
    {
      "cell_type": "code",
      "source": [
        "df_cleaned.info()"
      ],
      "metadata": {
        "colab": {
          "base_uri": "https://localhost:8080/"
        },
        "id": "vfiMiAQ_pJju",
        "outputId": "a5f18a95-be2d-46e3-ed83-f191704a0657"
      },
      "execution_count": null,
      "outputs": [
        {
          "output_type": "stream",
          "name": "stdout",
          "text": [
            "<class 'pandas.core.frame.DataFrame'>\n",
            "Index: 1034 entries, 5 to 1441\n",
            "Data columns (total 6 columns):\n",
            " #   Column            Non-Null Count  Dtype  \n",
            "---  ------            --------------  -----  \n",
            " 0   work_year         1034 non-null   int64  \n",
            " 1   experience_level  1034 non-null   object \n",
            " 2   job_title         1034 non-null   object \n",
            " 3   company_location  1034 non-null   object \n",
            " 4   company_size      1034 non-null   object \n",
            " 5   salary_in_usd     1034 non-null   float64\n",
            "dtypes: float64(1), int64(1), object(4)\n",
            "memory usage: 56.5+ KB\n"
          ]
        }
      ]
    },
    {
      "cell_type": "markdown",
      "source": [
        "**Summary of Removed and Adjusted Rows**"
      ],
      "metadata": {
        "id": "cFygzB6EQtqo"
      }
    },
    {
      "cell_type": "code",
      "source": [
        "# Print detailed summary\n",
        "print(\"\\n--- Data Cleaning Summary ---\")\n",
        "\n",
        "# Non-Full-Time and Non-In-Office filtering\n",
        "print(f\"Rows removed due to non-full-time positions: {removed_rows_full_time:,} rows\")\n",
        "print(f\"Rows removed due to non-in-office positions: {removed_rows_in_office:,} rows\")\n",
        "\n",
        "# Aggregation process\n",
        "print(f\"Rows removed during aggregation: {len(removed_rows_aggregated):,} rows\")\n",
        "\n",
        "# Location Count filtering\n",
        "print(f\"Rows removed due to location count threshold: {removed_rows_location.shape[0]:,} rows\")\n",
        "\n",
        "# Capping outliers\n",
        "# We will count the rows that had salary values changed after capping.\n",
        "capped_outliers_count = len(df_filtered_location[df_filtered_location['salary_in_usd'] != df_capped_key_factors['salary_in_usd']])\n",
        "print(f\"Rows capped as outliers: {capped_outliers_count:,} rows\")\n",
        "\n",
        "# Dataset size after all steps\n",
        "print(f\"Dataset size after filtering and capping: {df_capped_key_factors.shape[0]:,} rows\")\n",
        "\n",
        "# Save final cleaned dataset\n",
        "df_cleaned.to_csv(\"cleaned_data.csv\", index=False)\n",
        "print(\"\\nCleaned data saved to 'cleaned_data.csv'.\")\n"
      ],
      "metadata": {
        "colab": {
          "base_uri": "https://localhost:8080/"
        },
        "id": "4NiJ_TWIpqve",
        "outputId": "2a441d80-0247-4a38-807c-813cc9d59c01"
      },
      "execution_count": null,
      "outputs": [
        {
          "output_type": "stream",
          "name": "stdout",
          "text": [
            "\n",
            "--- Data Cleaning Summary ---\n",
            "Rows removed due to non-full-time positions: 231 rows\n",
            "Rows removed due to non-in-office positions: 13,219 rows\n",
            "Rows removed during aggregation: 44,763 rows\n",
            "Rows removed due to location count threshold: 408 rows\n",
            "Rows capped as outliers: 149 rows\n",
            "Dataset size after filtering and capping: 1,034 rows\n",
            "\n",
            "Cleaned data saved to 'cleaned_data.csv'.\n"
          ]
        }
      ]
    },
    {
      "cell_type": "markdown",
      "source": [
        "#**Exploratory Data Analysis (EDA)**"
      ],
      "metadata": {
        "id": "yi_XcfMwJwTo"
      }
    },
    {
      "cell_type": "markdown",
      "source": [
        "**Check the Structure of the Dataset**"
      ],
      "metadata": {
        "id": "P3aDOuH7t13S"
      }
    },
    {
      "cell_type": "code",
      "source": [
        "df_cleaned.info()"
      ],
      "metadata": {
        "colab": {
          "base_uri": "https://localhost:8080/"
        },
        "id": "67DEy5xpty6T",
        "outputId": "53dbcfa3-e1b4-4ebc-a872-5e8651e8a7c3"
      },
      "execution_count": null,
      "outputs": [
        {
          "output_type": "stream",
          "name": "stdout",
          "text": [
            "<class 'pandas.core.frame.DataFrame'>\n",
            "Index: 1034 entries, 5 to 1441\n",
            "Data columns (total 6 columns):\n",
            " #   Column            Non-Null Count  Dtype  \n",
            "---  ------            --------------  -----  \n",
            " 0   work_year         1034 non-null   int64  \n",
            " 1   experience_level  1034 non-null   object \n",
            " 2   job_title         1034 non-null   object \n",
            " 3   company_location  1034 non-null   object \n",
            " 4   company_size      1034 non-null   object \n",
            " 5   salary_in_usd     1034 non-null   float64\n",
            "dtypes: float64(1), int64(1), object(4)\n",
            "memory usage: 56.5+ KB\n"
          ]
        }
      ]
    },
    {
      "cell_type": "markdown",
      "source": [
        "**Summary Statistics for Numeric Columns (*salary_in_usd*)**"
      ],
      "metadata": {
        "id": "vuoh9Bb-uA9v"
      }
    },
    {
      "cell_type": "code",
      "source": [
        "salary_stats = df_cleaned['salary_in_usd'].describe()\n",
        "print(salary_stats)"
      ],
      "metadata": {
        "colab": {
          "base_uri": "https://localhost:8080/"
        },
        "id": "Wo9exZhjt9jW",
        "outputId": "592d920c-4367-4349-e3cf-dbe06d6f9412"
      },
      "execution_count": null,
      "outputs": [
        {
          "output_type": "stream",
          "name": "stdout",
          "text": [
            "count      1034.000000\n",
            "mean     131613.386122\n",
            "std       52428.926078\n",
            "min       15000.000000\n",
            "25%       89478.750000\n",
            "50%      128658.750000\n",
            "75%      169291.875000\n",
            "max      414800.000000\n",
            "Name: salary_in_usd, dtype: float64\n"
          ]
        }
      ]
    },
    {
      "cell_type": "markdown",
      "source": [
        "**Salary Distribution Histogram**"
      ],
      "metadata": {
        "id": "8d8Ufjgs6JWr"
      }
    },
    {
      "cell_type": "code",
      "source": [
        "plt.figure(figsize=(10, 6))\n",
        "sns.histplot(df_cleaned['salary_in_usd'], kde=True, bins=30)\n",
        "plt.title('Salary Distribution')\n",
        "plt.xlabel('Salary (USD)')\n",
        "plt.ylabel('Frequency')\n",
        "plt.show()"
      ],
      "metadata": {
        "colab": {
          "base_uri": "https://localhost:8080/",
          "height": 564
        },
        "id": "OWEkBlI0qtnv",
        "outputId": "320d9e7c-bc05-4c29-d144-2e342281a349"
      },
      "execution_count": null,
      "outputs": [
        {
          "output_type": "display_data",
          "data": {
            "text/plain": [
              "<Figure size 1000x600 with 1 Axes>"
            ],
            "image/png": "[encoded data removed]"
          },
          "metadata": {}
        }
      ]
    },
    {
      "cell_type": "markdown",
      "source": [
        "**Salary Distribution by Experience Level in 2024**"
      ],
      "metadata": {
        "id": "n7UEkTXc6ax0"
      }
    },
    {
      "cell_type": "code",
      "source": [
        "# Filter the data for 2024\n",
        "df_2024 = df_cleaned[df_cleaned['work_year'] == 2024]\n",
        "\n",
        "# Ensure experience levels are in the desired order\n",
        "experience_order = ['Entry-Level', 'Mid-Level', 'Senior', 'Executive']\n",
        "\n",
        "# Calculate the count of each experience level for 2024, with the specified order\n",
        "experience_counts_2024 = df_2024['experience_level'].value_counts().reindex(experience_order)\n",
        "\n",
        "# Define colors for each experience level\n",
        "experience_colors = {\n",
        "    'Entry-Level': '#2E8B57',  # Green\n",
        "    'Mid-Level': '#FFA500',    # Orange\n",
        "    'Senior': '#87CEEB',       # Light Blue\n",
        "    'Executive': '#8A2BE2'     # Purple\n",
        "}\n",
        "\n",
        "# Group by experience level and calculate the average salary for 2024\n",
        "salary_by_experience_2024 = df_2024.groupby('experience_level')['salary_in_usd'].mean().reindex(['Entry-Level', 'Mid-Level', 'Senior', 'Executive'])\n",
        "\n",
        "# Create a figure with 3 subplots\n",
        "fig, axes = plt.subplots(1, 3, figsize=(20, 6))\n",
        "\n",
        "# Plot the Pie Chart in the first subplot with labels directly on the pie chart\n",
        "axes[0].pie(experience_counts_2024, autopct='%1.1f%%', startangle=90, colors=['#2E8B57', '#FFA500', '#87CEEB', '#8A2BE2'],\n",
        "            labels=experience_counts_2024.index)  # Add labels directly to the pie chart\n",
        "axes[0].set_title('Distribution of Experience Levels (2024)')\n",
        "axes[0].set_ylabel('')  # Hide the y-axis label\n",
        "\n",
        "# Plot the Box Plot in the second subplot (No legend)\n",
        "sns.boxplot(data=df_2024, x='experience_level', y='salary_in_usd',\n",
        "            hue='experience_level',\n",
        "            order=['Entry-Level', 'Mid-Level', 'Senior', 'Executive'],\n",
        "            palette=experience_colors, legend=False, ax=axes[1])  # legend=False to remove the boxplot legend\n",
        "axes[1].set_title('Salary by Experience Level (2024)')\n",
        "axes[1].set_xlabel('Experience Level')\n",
        "axes[1].set_ylabel('Salary in USD')\n",
        "\n",
        "# Plot the Bar Chart in the third subplot\n",
        "salary_by_experience_2024.plot(kind='bar', color=['#2E8B57', '#FFA500', '#87CEEB', '#8A2BE2'], ax=axes[2])\n",
        "axes[2].set_title('Average Salary by Experience Level (2024)')\n",
        "axes[2].set_xlabel('Experience Level')\n",
        "axes[2].set_ylabel('Average Salary (USD)')\n",
        "axes[2].tick_params(axis='x', rotation=0)\n",
        "\n",
        "# Adjust layout to prevent overlap\n",
        "plt.tight_layout()\n",
        "\n",
        "# Show the plot\n",
        "plt.show()"
      ],
      "metadata": {
        "colab": {
          "base_uri": "https://localhost:8080/",
          "height": 536
        },
        "id": "2jr4ejlMfIsc",
        "outputId": "61869fba-2929-4e22-a34b-661cd959c77d"
      },
      "execution_count": null,
      "outputs": [
        {
          "output_type": "display_data",
          "data": {
            "text/plain": [
              "<Figure size 2000x600 with 3 Axes>"
            ],
            "image/png": "[encoded data removed]"
          },
          "metadata": {}
        }
      ]
    },
    {
      "cell_type": "markdown",
      "source": [
        "**Salary Distribution by Experience Level in 2024 Descriptive Statistics**"
      ],
      "metadata": {
        "id": "SHmCS_O7ixsw"
      }
    },
    {
      "cell_type": "code",
      "source": [
        "# Filter the data for 2024\n",
        "df_2024 = df_cleaned[df_cleaned['work_year'] == 2024]\n",
        "\n",
        "# Group by experience level and calculate descriptive statistics for salary\n",
        "salary_stats_2024 = df_2024.groupby('experience_level')['salary_in_usd'].describe().reindex(['Entry-Level', 'Mid-Level', 'Senior', 'Executive'])\n",
        "\n",
        "# Calculate additional statistics for salary distribution\n",
        "salary_by_experience_2024 = df_2024.groupby('experience_level')['salary_in_usd'].mean().reindex(['Entry-Level', 'Mid-Level', 'Senior', 'Executive'])\n",
        "\n",
        "# Combine the statistics for easy comparison\n",
        "final_stats_2024 = salary_stats_2024[['count', 'mean', 'std', 'min', '25%', '50%', '75%', 'max']].join(salary_by_experience_2024.rename('average_salary'))\n",
        "\n",
        "# Display the final statistics\n",
        "print(final_stats_2024)"
      ],
      "metadata": {
        "colab": {
          "base_uri": "https://localhost:8080/"
        },
        "id": "qGXpeBj4ezXf",
        "outputId": "48b4fe87-39d1-4b5a-c392-c8d5f424f1df"
      },
      "execution_count": null,
      "outputs": [
        {
          "output_type": "stream",
          "name": "stdout",
          "text": [
            "                  count           mean           std      min        25%  \\\n",
            "experience_level                                                           \n",
            "Entry-Level       135.0   93953.645185  39330.454796  35625.0   62500.00   \n",
            "Mid-Level         254.0  118841.224213  43947.469120  45921.3   84491.25   \n",
            "Senior            302.0  148740.390894  53011.514439  59125.0  111250.00   \n",
            "Executive          56.0  173866.467857  44010.581714  51486.8  145815.00   \n",
            "\n",
            "                       50%          75%        max  average_salary  \n",
            "experience_level                                                    \n",
            "Entry-Level        85000.0  118981.5000  198793.05    93953.645185  \n",
            "Mid-Level         111934.0  147630.8750  225000.00   118841.224213  \n",
            "Senior            145050.0  176846.2125  400000.00   148740.390894  \n",
            "Executive         174440.0  206272.1250  246090.00   173866.467857  \n"
          ]
        }
      ]
    },
    {
      "cell_type": "markdown",
      "source": [
        "- Entry-Level roles have an average salary of 93,954.\n",
        "- Mid-Level roles earn an average of 118,841.\n",
        "- Senior roles have an average salary of 148,740.\n",
        "- Executive roles earn an average of 173,866.\n",
        "\n",
        "- As experience level increases, salary variability also rises:\n",
        "  - Entry-level positions show lower salary variance.\n",
        "  - Senior and executive roles exhibit wider salary ranges, suggesting greater diversity in job responsibilities and compensation packages.\n",
        "\n",
        "- Higher positions (Senior and Executive) show larger salary discrepancies, which could be influenced by factors such as:\n",
        "  - Company size\n",
        "  - Industry\n",
        "  - Role specialization\n",
        "\n",
        "- Overall, experience level strongly influences salary, with higher positions commanding substantially higher pay, but with increased variability.\n"
      ],
      "metadata": {
        "id": "4nCUqaOAjEhI"
      }
    },
    {
      "cell_type": "markdown",
      "source": [
        "**Salary Distribution by Company Size in 2024**"
      ],
      "metadata": {
        "id": "oq00qsdbvXFw"
      }
    },
    {
      "cell_type": "code",
      "source": [
        "df_2024 = df_cleaned[df_cleaned['work_year'] == 2024]\n",
        "\n",
        "# Define company size categories (you can adjust these as needed based on the dataset)\n",
        "company_size_order = ['Small', 'Medium', 'Large']\n",
        "\n",
        "# Calculate the count of each company size for 2024\n",
        "company_size_counts_2024 = df_2024['company_size'].value_counts().reindex(company_size_order)\n",
        "\n",
        "# Define colors for each company size\n",
        "company_size_colors = {\n",
        "    'Small': '#2E8B57',  # Green\n",
        "    'Medium': '#FFA500',    # Orange\n",
        "    'Large': '#87CEEB'       # Light Blue\n",
        "}\n",
        "\n",
        "# Group by company size and calculate the average salary for 2024\n",
        "salary_by_company_size_2024 = df_2024.groupby('company_size')['salary_in_usd'].mean().reindex(company_size_order)\n",
        "\n",
        "# Create a figure with 3 subplots\n",
        "fig, axes = plt.subplots(1, 3, figsize=(20, 6))\n",
        "\n",
        "# Plot the Bar Chart in the first subplot\n",
        "company_size_counts_2024.plot(kind='bar', color=['#2E8B57', '#FFA500', '#87CEEB'], ax=axes[0])\n",
        "axes[0].set_title('Distribution of Company Size (2024)')\n",
        "axes[0].set_xlabel('Company Size')\n",
        "axes[0].set_ylabel('Count')\n",
        "axes[0].tick_params(axis='x', rotation=0)\n",
        "\n",
        "# Plot the Box Plot in the second subplot (No legend)\n",
        "sns.boxplot(data=df_2024, x='company_size', y='salary_in_usd',\n",
        "            hue='company_size',\n",
        "            order=company_size_order,\n",
        "            palette=company_size_colors, legend=False, ax=axes[1])  # legend=False to remove the boxplot legend\n",
        "axes[1].set_title('Salary by Company Size (2024)')\n",
        "axes[1].set_xlabel('Company Size')\n",
        "axes[1].set_ylabel('Salary in USD')\n",
        "\n",
        "# Plot the Bar Chart in the third subplot\n",
        "salary_by_company_size_2024.plot(kind='bar', color=['#2E8B57', '#FFA500', '#87CEEB'], ax=axes[2])\n",
        "axes[2].set_title('Average Salary by Company Size (2024)')\n",
        "axes[2].set_xlabel('Company Size')\n",
        "axes[2].set_ylabel('Average Salary (USD)')\n",
        "axes[2].tick_params(axis='x', rotation=0)\n",
        "\n",
        "# Adjust layout to prevent overlap\n",
        "plt.tight_layout()\n",
        "\n",
        "# Show the plot\n",
        "plt.show()"
      ],
      "metadata": {
        "colab": {
          "base_uri": "https://localhost:8080/",
          "height": 526
        },
        "id": "jRgBBRgUjn2o",
        "outputId": "4004d6f4-8d3f-4a77-bdaf-c85ac58b76bd"
      },
      "execution_count": null,
      "outputs": [
        {
          "output_type": "display_data",
          "data": {
            "text/plain": [
              "<Figure size 2000x600 with 3 Axes>"
            ],
            "image/png": "[encoded data removed]"
          },
          "metadata": {}
        }
      ]
    },
    {
      "cell_type": "markdown",
      "source": [
        "**Salary Distribution by Company Size in 2024 Descriptive Statistics**"
      ],
      "metadata": {
        "id": "yacEJphBqpgP"
      }
    },
    {
      "cell_type": "code",
      "source": [
        "# Group by company size and calculate descriptive statistics for salary\n",
        "salary_stats_company_size_2024 = df_2024.groupby('company_size')['salary_in_usd'].describe().reindex(['Small', 'Medium', 'Large'])\n",
        "\n",
        "# Calculate additional statistics for salary distribution by company size\n",
        "salary_by_company_size_2024 = df_2024.groupby('company_size')['salary_in_usd'].mean().reindex(['Small', 'Medium', 'Large'])\n",
        "\n",
        "# Combine the statistics for easy comparison\n",
        "final_stats_company_size_2024 = salary_stats_company_size_2024[['count', 'mean', 'std', 'min', '25%', '50%', '75%', 'max']].join(salary_by_company_size_2024.rename('average_salary'))\n",
        "\n",
        "# Display the final statistics\n",
        "print(final_stats_company_size_2024)"
      ],
      "metadata": {
        "colab": {
          "base_uri": "https://localhost:8080/"
        },
        "id": "t6nXGlEElJgB",
        "outputId": "e4ba1ce8-415a-43b0-c315-aadd9e4baec4"
      },
      "execution_count": null,
      "outputs": [
        {
          "output_type": "stream",
          "name": "stdout",
          "text": [
            "              count           mean           std       min         25%  \\\n",
            "company_size                                                             \n",
            "Small           4.0  144377.150000  18339.126240  123125.0  136242.725   \n",
            "Medium        685.0  128079.019708  52869.427437   35625.0   86000.000   \n",
            "Large          58.0  158860.279310  42841.320315   54438.6  128512.500   \n",
            "\n",
            "                    50%         75%       max  average_salary  \n",
            "company_size                                                   \n",
            "Small         143384.15  151518.575  167615.3   144377.150000  \n",
            "Medium        125000.00  165260.000  400000.0   128079.019708  \n",
            "Large         160050.00  182813.125  247065.0   158860.279310  \n"
          ]
        }
      ]
    },
    {
      "cell_type": "markdown",
      "source": [
        "- **Small companies:** Average salary of 144,377, with low variability (std dev: 18,339). Only 4 records remain after data cleaning, which limits the conclusions that can be drawn.\n",
        "- **Medium companies:** Average salary of 128,079, with high variability (std dev: 52,869).\n",
        "- **Large companies:** Average salary of 158,860, with moderate variability (std dev: 42,841).\n",
        "- Salary increases with company size, with large companies offering the highest pay.\n",
        "- Medium-sized companies exhibit the highest salary variability."
      ],
      "metadata": {
        "id": "LK9OEqiUqvgp"
      }
    },
    {
      "cell_type": "markdown",
      "source": [
        "**Salary Distribution by Company Location in 2024**"
      ],
      "metadata": {
        "id": "Zs3veUIVvajI"
      }
    },
    {
      "cell_type": "code",
      "source": [
        "# Filter the data for 2024\n",
        "df_2024 = df_cleaned[df_cleaned['work_year'] == 2024]\n",
        "\n",
        "# Calculate the count of each company location for 2024\n",
        "company_location_counts_2024 = df_2024['company_location'].value_counts()\n",
        "\n",
        "# Define the colors for company locations\n",
        "company_location_colors = {\n",
        "    'United States': '#2E8B57',  # Green\n",
        "    'Canada': '#FFA500',         # Orange\n",
        "    'United Kingdom': '#87CEEB', # Light Blue\n",
        "}\n",
        "\n",
        "# Define the specific order of locations\n",
        "ordered_locations = ['United States', 'Canada', 'United Kingdom']\n",
        "\n",
        "# Map each company location to its assigned color\n",
        "location_color_map = {location: company_location_colors.get(location, '#87CEEB')\n",
        "                      for location in ordered_locations}\n",
        "\n",
        "# Group by company location and calculate the average salary for 2024\n",
        "salary_by_company_location_2024 = df_2024.groupby('company_location')['salary_in_usd'].mean()\n",
        "\n",
        "# Create a figure with 3 subplots\n",
        "fig, axes = plt.subplots(1, 3, figsize=(20, 6))\n",
        "\n",
        "# Plot the Bar Chart in the first subplot\n",
        "axes[0].bar(company_location_counts_2024.index, company_location_counts_2024, color=[location_color_map.get(loc, '#87CEEB') for loc in company_location_counts_2024.index])\n",
        "axes[0].set_title('Distribution of Company Location (2024)')\n",
        "axes[0].set_xlabel('Company Location')\n",
        "axes[0].set_ylabel('Count')\n",
        "\n",
        "# Explicitly set x-ticks and labels in the first plot\n",
        "axes[0].set_xticks(range(len(ordered_locations)))  # Set tick positions based on the order\n",
        "axes[0].set_xticklabels(ordered_locations)  # Set the order of company locations\n",
        "\n",
        "# Plot the Box Plot in the second subplot (No legend)\n",
        "sns.boxplot(data=df_2024, x='company_location', y='salary_in_usd',\n",
        "            hue='company_location',\n",
        "            order=ordered_locations,  # Use the ordered locations\n",
        "            palette=location_color_map, legend=False, ax=axes[1])  # Use the predefined color map\n",
        "axes[1].set_title('Salary by Company Location (2024)')\n",
        "axes[1].set_xlabel('Company Location')\n",
        "axes[1].set_ylabel('Salary in USD')\n",
        "\n",
        "# Plot the Bar Chart for Average Salary in the third subplot\n",
        "salary_by_company_location_2024.loc[ordered_locations].plot(kind='bar', color=[location_color_map[loc] for loc in ordered_locations], ax=axes[2])\n",
        "axes[2].set_title('Average Salary by Company Location (2024)')\n",
        "axes[2].set_xlabel('Company Location')\n",
        "axes[2].set_ylabel('Average Salary (USD)')\n",
        "axes[2].tick_params(axis='x', rotation=0)\n",
        "\n",
        "# Adjust layout to prevent overlap\n",
        "plt.tight_layout()\n",
        "\n",
        "# Show the plot\n",
        "plt.show()"
      ],
      "metadata": {
        "colab": {
          "base_uri": "https://localhost:8080/",
          "height": 526
        },
        "id": "3z5kt7IjrbRP",
        "outputId": "29d91393-fa71-4e2f-caed-952cb170e472"
      },
      "execution_count": null,
      "outputs": [
        {
          "output_type": "display_data",
          "data": {
            "text/plain": [
              "<Figure size 2000x600 with 3 Axes>"
            ],
            "image/png": "[encoded data removed]"
          },
          "metadata": {}
        }
      ]
    },
    {
      "cell_type": "markdown",
      "source": [
        "**Salary Distribution by Company Location in 2024 Descriptive Statistics**"
      ],
      "metadata": {
        "id": "tohpAth2vg6J"
      }
    },
    {
      "cell_type": "code",
      "source": [
        "# Group by company location and calculate descriptive statistics for salary\n",
        "salary_stats_company_location_2024 = df_2024.groupby('company_location')['salary_in_usd'].describe().reindex(['United States', 'Canada', 'United Kingdom'])\n",
        "\n",
        "# Calculate additional statistics for salary distribution by company location\n",
        "salary_by_company_location_2024 = df_2024.groupby('company_location')['salary_in_usd'].mean().reindex(['United States', 'Canada', 'United Kingdom'])\n",
        "\n",
        "# Combine the statistics for easy comparison\n",
        "final_stats_company_location_2024 = salary_stats_company_location_2024[['count', 'mean', 'std', 'min', '25%', '50%', '75%', 'max']].join(salary_by_company_location_2024.rename('average_salary'))\n",
        "\n",
        "# Display the final statistics\n",
        "print(final_stats_company_location_2024)"
      ],
      "metadata": {
        "colab": {
          "base_uri": "https://localhost:8080/"
        },
        "id": "0qts6hFSsNZ5",
        "outputId": "f349a0de-c27c-4483-9252-a89636f176e8"
      },
      "execution_count": null,
      "outputs": [
        {
          "output_type": "stream",
          "name": "stdout",
          "text": [
            "                  count           mean           std       min         25%  \\\n",
            "company_location                                                             \n",
            "United States     486.0  140832.410134  46170.323465  51050.00  103386.000   \n",
            "Canada            136.0  118240.119669  36926.781869  58339.55   86115.125   \n",
            "United Kingdom    125.0  104002.605600  74645.007155  35625.00   59125.000   \n",
            "\n",
            "                       50%       75%       max  average_salary  \n",
            "company_location                                                \n",
            "United States     139450.0  174937.5  247065.0   140832.410134  \n",
            "Canada            112334.0  141601.5  232750.0   118240.119669  \n",
            "United Kingdom     75737.5  122010.0  400000.0   104002.605600  \n"
          ]
        }
      ]
    },
    {
      "cell_type": "markdown",
      "source": [
        "- **United States:**\n",
        "\n",
        "  - Average salary: 140,832.41\n",
        "  - Salary range: 51,050 to 247,065\n",
        "  - Standard deviation: 46,170.32\n",
        "\n",
        "- **Canada:**\n",
        "\n",
        "  - Average salary: 118,240.12\n",
        "  - Salary range: 58,340 to 232,750\n",
        "  - Standard deviation: 36,926.78\n",
        "\n",
        "- **United Kingdom:**\n",
        "\n",
        "  - Average salary: 104,002.61\n",
        "  - Salary range: 35,625 to 400,000\n",
        "  - Standard deviation: 74,645.01\n",
        "\n",
        "- The U.S. has the highest average salary and the broadest salary range.\n",
        "- Canada demonstrates more consistency in salary distribution, with a narrower range and lower variation.\n",
        "- The United Kingdom shows the lowest average salary but with significant outliers, highlighting high salary disparities."
      ],
      "metadata": {
        "id": "cVAjxGwjvlM7"
      }
    },
    {
      "cell_type": "markdown",
      "source": [
        "**Salary Distribution by Job Title in 2024**"
      ],
      "metadata": {
        "id": "m7na_DfA1w79"
      }
    },
    {
      "cell_type": "code",
      "source": [
        "# Filter the data for 2024\n",
        "df_2024 = df_cleaned[df_cleaned['work_year'] == 2024]\n",
        "\n",
        "# Top 10 most common job titles by count, ordered in descending order (highest first)\n",
        "top_job_titles_by_count = df_2024['job_title'].value_counts().head(10).sort_values(ascending=False)\n",
        "\n",
        "# Top 10 job titles by average salary, ordered in descending order (highest first)\n",
        "top_job_titles_by_salary = df_2024.groupby('job_title')['salary_in_usd'].mean().sort_values(ascending=False).head(10)\n",
        "\n",
        "# Define the colors\n",
        "count_colors = ['#2E8B57']\n",
        "salary_colors = ['#FFA500']\n",
        "\n",
        "# Create a figure with 2 subplots (side by side)\n",
        "fig, axes = plt.subplots(1, 2, figsize=(15, 8))\n",
        "\n",
        "# Plot the bar chart for top 10 job titles by count, ordered by highest first\n",
        "top_job_titles_by_count.plot(kind='barh', color=count_colors, ax=axes[0], width=0.7)\n",
        "axes[0].set_title('Top 10 Job Titles by Count (2024)')\n",
        "axes[0].set_xlabel('Count')\n",
        "axes[0].set_ylabel('Job Title')\n",
        "axes[0].invert_yaxis()  # Inverts the y-axis so the highest count is at the top\n",
        "\n",
        "# Plot the bar chart for top 10 job titles by average salary, ordered by highest first\n",
        "top_job_titles_by_salary.plot(kind='barh', color=salary_colors, ax=axes[1], width=0.7)\n",
        "axes[1].set_title('Top 10 Job Titles by Average Salary (2024)')\n",
        "axes[1].set_xlabel('Average Salary in USD')\n",
        "axes[1].set_ylabel('Job Title')\n",
        "axes[1].invert_yaxis()  # Inverts the y-axis so the highest salary is at the top\n",
        "\n",
        "# Adjust layout to prevent overlap\n",
        "plt.tight_layout()\n",
        "\n",
        "# Show the plot\n",
        "plt.show()"
      ],
      "metadata": {
        "colab": {
          "base_uri": "https://localhost:8080/",
          "height": 807
        },
        "id": "bNrnkKJTwsVt",
        "outputId": "f6f65e70-bf31-4f5a-a4de-2570fe44734c"
      },
      "execution_count": null,
      "outputs": [
        {
          "output_type": "display_data",
          "data": {
            "text/plain": [
              "<Figure size 1500x800 with 2 Axes>"
            ],
            "image/png": "[encoded data removed]"
          },
          "metadata": {}
        }
      ]
    },
    {
      "cell_type": "markdown",
      "source": [
        "**Salary Distribution by Job Title in 2024 Descriptive Statistics**"
      ],
      "metadata": {
        "id": "2Vm9CNjc15Rg"
      }
    },
    {
      "cell_type": "code",
      "source": [
        "# Group by job title and calculate descriptive statistics for salary\n",
        "salary_stats_job_title_2024 = df_2024.groupby('job_title')['salary_in_usd'].describe()\n",
        "\n",
        "# Calculate additional statistics for salary distribution by job title\n",
        "salary_by_job_title_2024 = df_2024.groupby('job_title')['salary_in_usd'].mean()\n",
        "\n",
        "# Combine the statistics for easy comparison\n",
        "final_stats_job_title_2024 = salary_stats_job_title_2024[['count', 'mean', 'std', 'min', '25%', '50%', '75%', 'max']].join(salary_by_job_title_2024.rename('average_salary'))\n",
        "\n",
        "# Select the top 10 job titles by count (most frequent job titles)\n",
        "top_10_job_titles_by_count = final_stats_job_title_2024.nlargest(10, 'count')\n",
        "\n",
        "# Select the top 10 job titles by average salary\n",
        "top_10_job_titles_by_salary = final_stats_job_title_2024.nlargest(10, 'average_salary')\n",
        "\n",
        "# Display the results\n",
        "print(\"Top 10 Job Titles by Count:\")\n",
        "print(top_10_job_titles_by_count)\n",
        "print(\"\\nTop 10 Job Titles by Average Salary:\")\n",
        "print(top_10_job_titles_by_salary)"
      ],
      "metadata": {
        "colab": {
          "base_uri": "https://localhost:8080/"
        },
        "id": "p6n2gudTyYMD",
        "outputId": "372ec77d-7844-4418-bfdf-893cb08a9057"
      },
      "execution_count": null,
      "outputs": [
        {
          "output_type": "stream",
          "name": "stdout",
          "text": [
            "Top 10 Job Titles by Count:\n",
            "                           count           mean           std        min  \\\n",
            "job_title                                                                  \n",
            "Data Analyst                22.0   85244.868182  27489.705590  44381.000   \n",
            "Data Engineer               21.0  103560.317857  38607.384944  51050.000   \n",
            "Data Scientist              20.0  114776.620000  45328.117674  39612.500   \n",
            "Engineer                    17.0  117577.794118  44337.888736  62000.000   \n",
            "Machine Learning Engineer   17.0  165288.352941  40624.532314  60608.500   \n",
            "Software Engineer           16.0  151649.937500  55768.303477  53125.000   \n",
            "Manager                     13.0  125292.423077  51204.252815  45000.000   \n",
            "Product Manager             13.0  154976.644231  49571.487162  64541.875   \n",
            "AI Engineer                 12.0  131605.775000  35275.264254  87500.000   \n",
            "Analyst                     12.0   85242.316667  25788.738615  53125.000   \n",
            "\n",
            "                                  25%        50%         75%       max  \\\n",
            "job_title                                                                \n",
            "Data Analyst                63559.000   83251.15  103517.000  145700.0   \n",
            "Data Engineer               75737.500   96000.00  134540.000  179000.0   \n",
            "Data Scientist              74615.250  117517.25  151873.125  185000.0   \n",
            "Engineer                    86875.000  111650.00  137000.000  240000.0   \n",
            "Machine Learning Engineer  142375.000  166800.00  176000.000  232750.0   \n",
            "Software Engineer          108514.875  161360.50  195600.000  225000.0   \n",
            "Manager                     84615.000  127000.00  156160.000  236100.0   \n",
            "Product Manager            122010.000  165260.00  194000.000  216150.0   \n",
            "AI Engineer                 99928.000  132000.00  150600.000  187550.0   \n",
            "Analyst                     67213.125   84226.65   93641.250  139800.0   \n",
            "\n",
            "                           average_salary  \n",
            "job_title                                  \n",
            "Data Analyst                 85244.868182  \n",
            "Data Engineer               103560.317857  \n",
            "Data Scientist              114776.620000  \n",
            "Engineer                    117577.794118  \n",
            "Machine Learning Engineer   165288.352941  \n",
            "Software Engineer           151649.937500  \n",
            "Manager                     125292.423077  \n",
            "Product Manager             154976.644231  \n",
            "AI Engineer                 131605.775000  \n",
            "Analyst                      85242.316667  \n",
            "\n",
            "Top 10 Job Titles by Average Salary:\n",
            "                                       count           mean            std  \\\n",
            "job_title                                                                    \n",
            "ML Infrastructure Engineer               3.0  266066.666667  116180.143886   \n",
            "Head of Machine Learning                 1.0  246090.000000            NaN   \n",
            "Head of AI                               1.0  239750.000000            NaN   \n",
            "Applied AI ML Lead                       1.0  231374.300000            NaN   \n",
            "Machine Learning Performance Engineer    1.0  231374.300000            NaN   \n",
            "Software Architect                       2.0  225257.500000   30840.462261   \n",
            "Research Engineer                        9.0  222423.922222   78919.245279   \n",
            "Machine Learning Manager                 2.0  218562.150000   18119.116293   \n",
            "Cloud Developer                          1.0  211500.000000            NaN   \n",
            "Director of Machine Learning             2.0  207900.000000    2969.848481   \n",
            "\n",
            "                                            min         25%        50%  \\\n",
            "job_title                                                                \n",
            "ML Infrastructure Engineer             192450.0  199100.000  205750.00   \n",
            "Head of Machine Learning               246090.0  246090.000  246090.00   \n",
            "Head of AI                             239750.0  239750.000  239750.00   \n",
            "Applied AI ML Lead                     231374.3  231374.300  231374.30   \n",
            "Machine Learning Performance Engineer  231374.3  231374.300  231374.30   \n",
            "Software Architect                     203450.0  214353.750  225257.50   \n",
            "Research Engineer                      155000.0  167615.300  200000.00   \n",
            "Machine Learning Manager               205750.0  212156.075  218562.15   \n",
            "Cloud Developer                        211500.0  211500.000  211500.00   \n",
            "Director of Machine Learning           205800.0  206850.000  207900.00   \n",
            "\n",
            "                                              75%       max  average_salary  \n",
            "job_title                                                                    \n",
            "ML Infrastructure Engineer             302875.000  400000.0   266066.666667  \n",
            "Head of Machine Learning               246090.000  246090.0   246090.000000  \n",
            "Head of AI                             239750.000  239750.0   239750.000000  \n",
            "Applied AI ML Lead                     231374.300  231374.3   231374.300000  \n",
            "Machine Learning Performance Engineer  231374.300  231374.3   231374.300000  \n",
            "Software Architect                     236161.250  247065.0   225257.500000  \n",
            "Research Engineer                      225000.000  400000.0   222423.922222  \n",
            "Machine Learning Manager               224968.225  231374.3   218562.150000  \n",
            "Cloud Developer                        211500.000  211500.0   211500.000000  \n",
            "Director of Machine Learning           208950.000  210000.0   207900.000000  \n"
          ]
        }
      ]
    },
    {
      "cell_type": "markdown",
      "source": [
        "- **Top 10 Job Titles by Count (2024):**\n",
        "  - Data Analyst, Data Engineer, and Data Scientist are the most frequent roles.\n",
        "  - These positions show a wide range of salaries, with higher-paid roles like Machine Learning Engineer and Software Engineer present in the top 10.\n",
        "  - These roles are typically more common across different companies and job markets.\n",
        "\n",
        "- **Top 10 Job Titles by Average Salary (2024):**\n",
        "  - The highest-paying roles include ML Infrastructure Engineer, Head of Machine Learning, and Head of AI.\n",
        "  - These positions, while offering higher compensation, are less common, indicating that specialized skills and leadership are highly valued.\n",
        "  - The average salaries for these roles can be influenced by the presence of lower-frequency observations (e.g., only one or two instances), which can skew the results.\n",
        "\n",
        "- **Key Observations:**\n",
        "  - It's important to consider that lower-frequency job titles can affect the ranking of high-paying roles in the dataset."
      ],
      "metadata": {
        "id": "qYGXFu7H0oUr"
      }
    },
    {
      "cell_type": "code",
      "source": [
        "# Define the custom color palette (with 5 distinct colors)\n",
        "color_palette = ['#2E8B57', '#FFA500', '#87CEEB', '#8A2BE2', '#FF6347']\n",
        "# Create a figure with 3 subplots for work year analysis and salary\n",
        "fig, axes = plt.subplots(1, 3, figsize=(20, 6))\n",
        "\n",
        "# Plot 1: Bar Chart - Distribution of work years\n",
        "work_year_counts = df_cleaned['work_year'].value_counts().sort_index()\n",
        "\n",
        "# Plotting the bar chart\n",
        "axes[0].bar(work_year_counts.index, work_year_counts, color=color_palette[:len(work_year_counts)])\n",
        "axes[0].set_title('Distribution of Work Year')\n",
        "axes[0].set_xlabel('Work Year')\n",
        "axes[0].set_ylabel('Count')\n",
        "\n",
        "# Plot 2: Box Plot - Salary distribution by work year\n",
        "sns.boxplot(data=df_cleaned, x='work_year', y='salary_in_usd',\n",
        "            hue='work_year', palette=color_palette[:len(work_year_counts)], ax=axes[1], legend=False)  # Added hue='work_year' to avoid the warning\n",
        "axes[1].set_title('Salary Distribution by Work Year')\n",
        "axes[1].set_xlabel('Work Year')\n",
        "axes[1].set_ylabel('Salary in USD')\n",
        "\n",
        "# Plot 3: Bar Plot - Average salary by work year\n",
        "average_salary_by_year = df_cleaned.groupby('work_year')['salary_in_usd'].mean().sort_index()\n",
        "average_salary_by_year.plot(kind='bar', color=color_palette[:len(work_year_counts)], ax=axes[2])  # Use the custom color palette\n",
        "axes[2].set_title('Average Salary by Work Year')\n",
        "axes[2].set_xlabel('Work Year')\n",
        "axes[2].set_ylabel('Average Salary (USD)')\n",
        "axes[2].tick_params(axis='x', rotation=0)\n",
        "\n",
        "# Adjust layout to prevent overlap\n",
        "plt.tight_layout()\n",
        "\n",
        "# Show the plot\n",
        "plt.show()"
      ],
      "metadata": {
        "colab": {
          "base_uri": "https://localhost:8080/",
          "height": 561
        },
        "id": "7_B9x3Jy2EcB",
        "outputId": "51afe52a-0648-4951-90f5-6cff68cdf494"
      },
      "execution_count": null,
      "outputs": [
        {
          "output_type": "display_data",
          "data": {
            "text/plain": [
              "<Figure size 2000x600 with 3 Axes>"
            ],
            "image/png": "[encoded data removed]"
          },
          "metadata": {}
        }
      ]
    },
    {
      "cell_type": "code",
      "source": [
        "# Group by work year and calculate descriptive statistics for salary\n",
        "salary_stats_work_year = df_cleaned.groupby('work_year')['salary_in_usd'].describe().reindex([2020, 2021, 2022, 2023, 2024])\n",
        "\n",
        "# Calculate additional statistics for salary distribution by work year\n",
        "salary_by_work_year = df_cleaned.groupby('work_year')['salary_in_usd'].mean().reindex([2020, 2021, 2022, 2023, 2024])\n",
        "\n",
        "# Combine the statistics for easy comparison\n",
        "final_stats_work_year = salary_stats_work_year[['count', 'mean', 'std', 'min', '25%', '50%', '75%', 'max']].join(salary_by_work_year.rename('average_salary'))\n",
        "\n",
        "# Display the final statistics\n",
        "print(final_stats_work_year)"
      ],
      "metadata": {
        "colab": {
          "base_uri": "https://localhost:8080/"
        },
        "id": "jSXdBt6p45fZ",
        "outputId": "e187d7a3-2725-4089-b3cf-8dce57e13009"
      },
      "execution_count": null,
      "outputs": [
        {
          "output_type": "stream",
          "name": "stdout",
          "text": [
            "           count           mean            std      min         25%       50%  \\\n",
            "work_year                                                                       \n",
            "2020         4.0  155775.000000  176924.397696  15000.0   75225.000   96650.0   \n",
            "2021        14.0  139793.142857   70035.355625  30254.5  100615.625  118018.5   \n",
            "2022        55.0  124198.155455   43358.732623  58000.0   89635.750  120000.0   \n",
            "2023       214.0  136222.455140   48434.495388  35496.5   95089.000  135000.0   \n",
            "2024       747.0  130556.269478   52663.109610  35625.0   87738.750  128000.0   \n",
            "\n",
            "                 75%       max  average_salary  \n",
            "work_year                                       \n",
            "2020       177200.00  414800.0   155775.000000  \n",
            "2021       181875.00  264800.0   139793.142857  \n",
            "2022       152700.00  275000.0   124198.155455  \n",
            "2023       175000.00  251525.0   136222.455140  \n",
            "2024       167557.65  400000.0   130556.269478  \n"
          ]
        }
      ]
    },
    {
      "cell_type": "markdown",
      "source": [
        "- **Salary by Work Year Analysis:**\n",
        "  - **2020:** Average salary of 155,775 with high variability (std: 176,924) due to only 4 data points.\n",
        "  - **2021:** Average salary of 139,793 with lower variability (std: 70,035), but based on just 14 data points.\n",
        "  - **2022:** Average salary dropped to 124,198 with a tighter salary range and more data (55 observations).\n",
        "  - **2023:** Average salary increased to 136,222 with a more balanced distribution (214 observations).\n",
        "  - **2024:** Average salary at 130,556, with a standard deviation of 52,663, showing continued salary variability (747 observations).\n",
        "\n",
        "- **Key Observations:**\n",
        "  - The lower count in 2020 and 2021 may have skewed salary averages, as these years have fewer data points.\n",
        "  - Salary trends show fluctuations, but 2023 and 2024 reflect a more stable distribution due to higher data counts.\n",
        "  - Standard deviation remains high across the years, suggesting variability in salaries within each year."
      ],
      "metadata": {
        "id": "uhc_HLgQ6L-O"
      }
    }
  ]
}